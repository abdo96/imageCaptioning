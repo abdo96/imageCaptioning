{
 "cells": [
  {
   "cell_type": "code",
   "execution_count": 33,
   "metadata": {},
   "outputs": [],
   "source": [
    "import numpy as np\n",
    "import ast\n",
    "import pydot\n",
    "from IPython.display import SVG\n",
    "from keras.utils.vis_utils import model_to_dot\n",
    "from nltk.translate.bleu_score import corpus_bleu "
   ]
  },
  {
   "cell_type": "markdown",
   "metadata": {},
   "source": [
    "#1 - make data generator for validation and training\n",
    "#2 - run the model and save after each epoch and make the model checkpoint for generator\n",
    "#3 - make generation after training model\n",
    "#4 - make evaluation -------------------"
   ]
  },
  {
   "cell_type": "markdown",
   "metadata": {},
   "source": [
    "# Preparation to image caption"
   ]
  },
  {
   "cell_type": "code",
   "execution_count": 2,
   "metadata": {},
   "outputs": [],
   "source": [
    "import matplotlib.pyplot as plt \n",
    "import tensorflow as tf\n",
    "import numpy as np\n",
    "import os \n",
    "from PIL import Image\n",
    "from tensorflow.python.keras import backend as K\n",
    "from tensorflow.python.keras import Model\n",
    "from keras.layers import Input,Dense ,GRU,Embedding,Dropout,add,Concatenate,Masking,merge,Merge,LSTM\n",
    "from keras.applications import VGG16\n",
    "from keras.optimizers import RMSprop\n",
    "from keras.callbacks import ModelCheckpoint,TensorBoard\n",
    "from keras.preprocessing.text import Tokenizer\n",
    "from keras.preprocessing.sequence import pad_sequences\n",
    "import ast\n",
    "from keras.models import Sequential\n",
    "from keras.applications.vgg19 import VGG19\n",
    "from keras.preprocessing.image import load_img\n",
    "from keras.preprocessing.image import img_to_array\n",
    "from keras.applications.vgg16 import preprocess_input\n",
    "from os import listdir\n",
    "from pickle import dump,load\n",
    "from tensorflow.python.keras.utils import to_categorical,plot_model\n"
   ]
  },
  {
   "cell_type": "code",
   "execution_count": null,
   "metadata": {},
   "outputs": [],
   "source": [
    "mark_start = 'ssss'\n",
    "mark_end = 'eeee'\n",
    "captionsl=[]"
   ]
  },
  {
   "cell_type": "code",
   "execution_count": null,
   "metadata": {},
   "outputs": [],
   "source": [
    "for i in range(0,len(dev_data)):\n",
    "    for j in range(0,len(tokens_for_Imgsll)):\n",
    "        if(dev_data[i]== tokens_for_Imgsll[j][0]):\n",
    "                captionsl.append(tokens_for_Imgsll[j][1]) \n",
    "                ImgAddress.append(dev_data[i])    \n",
    "\n",
    "for i in range(0,len(training_dataImgTxt)):\n",
    "    for j in range(0,len(tokens_for_Imgsll)):\n",
    "        if(training_dataImgTxt[i]== tokens_for_Imgsll[j][0]):\n",
    "            captionsl.append(tokens_for_Imgsll[j][1])\n",
    "            ImgAddress.append(training_dataImgTxt[i])  \n",
    "    "
   ]
  },
  {
   "cell_type": "code",
   "execution_count": null,
   "metadata": {},
   "outputs": [],
   "source": []
  },
  {
   "cell_type": "markdown",
   "metadata": {},
   "source": [
    "# Read file of marked Captions "
   ]
  },
  {
   "cell_type": "code",
   "execution_count": 3,
   "metadata": {},
   "outputs": [],
   "source": [
    "#after the load the captions and make marks which helps the model to specify the start of captions and its end\n",
    "def Load_marked_captions():\n",
    "    captionTL = []\n",
    "    captionL = []\n",
    "    file = open('../ProjectPattern/mark_captions.txt','r')\n",
    "    file2= open('../ProjectPattern/mark_captions_testing.txt','r')\n",
    "    captionTL = ast.literal_eval(file2.read())\n",
    "    \n",
    "    captionsl  = ast.literal_eval(file.read())\n",
    "    return captionsl,captionTL\n",
    "captionsl,captionTL=Load_marked_captions()"
   ]
  },
  {
   "cell_type": "markdown",
   "metadata": {
    "scrolled": false
   },
   "source": [
    "# Tokenize the captions to words and mapping words to indexes"
   ]
  },
  {
   "cell_type": "code",
   "execution_count": 55,
   "metadata": {},
   "outputs": [
    {
     "data": {
      "text/plain": [
       "7928"
      ]
     },
     "execution_count": 55,
     "metadata": {},
     "output_type": "execute_result"
    }
   ],
   "source": [
    "#this operartion helps the model to make embedding to one hot encoding to each word\n",
    "def tokenize(captions):\n",
    "    token = Tokenizer()\n",
    "    token.fit_on_texts(captions)\n",
    "    #token.texts_to_sequences(captions)\n",
    "    return token\n",
    "\n",
    "tokenizer=tokenize(captionsl)\n",
    "captionsEncoded=p.texts_to_sequences(captionsl)\n",
    "vocab_size=len(p.word_index)+1\n",
    "vocab_size\n"
   ]
  },
  {
   "cell_type": "code",
   "execution_count": 5,
   "metadata": {},
   "outputs": [
    {
     "data": {
      "text/plain": [
       "12"
      ]
     },
     "execution_count": 5,
     "metadata": {},
     "output_type": "execute_result"
    }
   ],
   "source": [
    "#calculate the maxlength sequence to help in padding the sequence of captions\n",
    "def max_length(captions):\n",
    "    theLongestCaption = max(captionsl)\n",
    "    theLongestCaption=theLongestCaption.split(' ')\n",
    "    return len(theLongestCaption)  \n",
    "max_len =max_length(captionsl)\n",
    "\n",
    "max_length(captionTL)"
   ]
  },
  {
   "cell_type": "markdown",
   "metadata": {},
   "source": [
    "# Construct dictionary for Specifying data(Train,Test,Validation) "
   ]
  },
  {
   "cell_type": "code",
   "execution_count": 6,
   "metadata": {},
   "outputs": [],
   "source": [
    "photo_feature=load(open('feature.pkl','rb'))\n",
    "desc_list = open('dic_Captions_cleaned.txt','r')\n",
    "desc_list=ast.literal_eval(desc_list.read())\n",
    "\n",
    "file = open('ImgAddress.txt','r')\n",
    "\n",
    "def load_photo_features(photo,keys):\n",
    "    \n",
    "    features = {key.strip('.jpg'):photo[key.strip('.jpg')] for key in keys}\n",
    "    return features\n",
    "\n",
    "def load_desc(desc,keys):\n",
    "     \n",
    "        descriptions = {key.strip('.jpg'):desc[key] for key in keys}\n",
    "        return descriptions\n"
   ]
  },
  {
   "cell_type": "markdown",
   "metadata": {},
   "source": [
    "# Importing pre-trained model VGG"
   ]
  },
  {
   "cell_type": "code",
   "execution_count": null,
   "metadata": {
    "scrolled": false
   },
   "outputs": [],
   "source": [
    "def extract_feature(directory):\n",
    "    image_model = VGG16(include_top=True, weights='imagenet')\n",
    "    image_model.layers.pop()\n",
    "    #take the output of last layer of the pre-trained after remove the last layer\n",
    "    model = Model(inputs=image_model.inputs,outputs=image_model.layers[-1].output)  \n",
    "    i=0\n",
    "    features = dict()\n",
    "    for name in listdir(directory):\n",
    "        #load image by specify the directory of image + name\n",
    "        filename = directory+'/'+name\n",
    "        i=i+1\n",
    "        print(i)\n",
    "        img =load_img(filename,target_size=(224,224))\n",
    "        #convert img to numpy array\n",
    "        img_array =img_to_array(img)\n",
    "        #reshape the data for the model \n",
    "        img = img_array.reshape(1,img_array.shape[0],img_array.shape[1],img_array.shape[2])\n",
    "        #preprocess input to the model\n",
    "        img =preprocess_input(img)\n",
    "        #extract feature by make prediction use the pretrained model\n",
    "        feature = image_model.predict(img,verbose=0)\n",
    "        #extract img_id \n",
    "        img_id = name.split('.')[0]\n",
    "        #store in dic\n",
    "        features[img_id] = feature\n",
    "    return features \n",
    "directory = '../ProjectPattern/Flickr8k_Dataset/Flicker8k_Dataset'\n",
    "features =extract_feature(directory)\n",
    "dump(features,open(\"feature.pkl\",\"wb\"))"
   ]
  },
  {
   "cell_type": "markdown",
   "metadata": {},
   "source": [
    "# Prepare the text data to define the model"
   ]
  },
  {
   "cell_type": "code",
   "execution_count": 7,
   "metadata": {},
   "outputs": [
    {
     "data": {
      "text/plain": [
       "([[2, 0, 0, 0, 0, 0, 0, 0, 0, 0, 0, 0]],\n",
       " [''],\n",
       " [array([0., 0., 0., ..., 0., 0., 0.])])"
      ]
     },
     "execution_count": 7,
     "metadata": {},
     "output_type": "execute_result"
    }
   ],
   "source": [
    "def create_sequences(encodedSeqList,max_length,photo):\n",
    "    X1 ,Y,X2 = [],[],[]\n",
    "    for seq in  encodedSeqList:\n",
    "        for index in range(1,len(seq)):\n",
    "            #split the data sequence into two word the first_seq take the first word but encoded into number and the second seq take the second word encoded \n",
    "            in_seq,out_seq = seq[:index],seq[index]\n",
    "            \n",
    "            #the pad sequences return the numpy array of 2d so we make subscript to convert it to 1d numpy array\n",
    "            for j in range(0,max_length-len(in_seq)):\n",
    "                in_seq.append(0)\n",
    "                \n",
    "            out=[]\n",
    "            out.append(out_seq)  \n",
    "            #for j in range(0,max_length-1):\n",
    "                 #out.append(0)    \n",
    "            #convert the encoded sequence to binary representation\n",
    "            out_seq=to_categorical([out],num_classes=vocab_size)[0]\n",
    "            \n",
    "            #prepare the photo \n",
    "            X1.append(in_seq)\n",
    "            Y.append(out_seq)\n",
    "            X2.append(photo)\n",
    "            return X1,X2,Y\n",
    "create_sequences(captionsEncoded,12,'')            "
   ]
  },
  {
   "cell_type": "markdown",
   "metadata": {},
   "source": [
    " # Define model"
   ]
  },
  {
   "cell_type": "code",
   "execution_count": 8,
   "metadata": {
    "scrolled": false
   },
   "outputs": [
    {
     "name": "stdout",
     "output_type": "stream",
     "text": [
      "__________________________________________________________________________________________________\n",
      "Layer (type)                    Output Shape         Param #     Connected to                     \n",
      "==================================================================================================\n",
      "embedding_1_input (InputLayer)  (None, 12)           0                                            \n",
      "__________________________________________________________________________________________________\n",
      "embedding_1 (Embedding)         (None, 12, 256)      2029568     embedding_1_input[0][0]          \n",
      "__________________________________________________________________________________________________\n",
      "dense_1_input (InputLayer)      (None, 1, 1000)      0                                            \n",
      "__________________________________________________________________________________________________\n",
      "gru_1 (GRU)                     (None, 12, 256)      393984      embedding_1[0][0]                \n",
      "__________________________________________________________________________________________________\n",
      "dense_1 (Dense)                 (None, 1, 256)       256256      dense_1_input[0][0]              \n",
      "__________________________________________________________________________________________________\n",
      "gru_2 (GRU)                     (None, 12, 256)      393984      gru_1[0][0]                      \n",
      "__________________________________________________________________________________________________\n",
      "dropout_1 (Dropout)             (None, 1, 256)       0           dense_1[0][0]                    \n",
      "__________________________________________________________________________________________________\n",
      "gru_3 (GRU)                     (None, 12, 256)      393984      gru_2[0][0]                      \n",
      "__________________________________________________________________________________________________\n",
      "add_1 (Add)                     (None, 12, 256)      0           dropout_1[0][0]                  \n",
      "                                                                 gru_3[0][0]                      \n",
      "__________________________________________________________________________________________________\n",
      "dense_2 (Dense)                 (None, 12, 256)      65792       add_1[0][0]                      \n",
      "__________________________________________________________________________________________________\n",
      "dense_3 (Dense)                 (None, 12, 7928)     2037496     dense_2[0][0]                    \n",
      "==================================================================================================\n",
      "Total params: 5,571,064\n",
      "Trainable params: 5,571,064\n",
      "Non-trainable params: 0\n",
      "__________________________________________________________________________________________________\n"
     ]
    }
   ],
   "source": [
    "def define_model(vocab_size,max_length):\n",
    "    #feature extractor model Dense_map this layer summarizes the contents in image\n",
    "    fe  = Sequential()\n",
    "    fe.add(Dense(256,input_shape=(1,1000),activation='relu'))\n",
    "    fe.add(Dropout(0.5))\n",
    "    \n",
    "    \n",
    "    #sequence model\n",
    "    seq_model = Sequential()\n",
    "    \n",
    "    seq_model.add(Embedding(vocab_size,256,input_shape=(max_length,)))\n",
    "    seq_model.add(GRU(256,return_sequences=True))\n",
    "    seq_model.add(GRU(256,return_sequences=True))\n",
    "    seq_model.add(GRU(256,return_sequences=True))\n",
    "   \n",
    "    #output_model\n",
    "    output_model = Sequential()\n",
    "    Merged_out= add([fe.output,seq_model.output])\n",
    "    decoder1  = Dense(256,activation='relu')(Merged_out)\n",
    "    output =  Dense(vocab_size,activation='softmax')(decoder1)\n",
    "    model = Model(inputs=[fe.input,seq_model.input],outputs=output)\n",
    "    model.compile(loss='categorical_crossentropy',optimizer='Adam')\n",
    "    return model\n",
    "model=define_model(vocab_size,max_len)\n",
    "model.summary()"
   ]
  },
  {
   "cell_type": "code",
   "execution_count": 29,
   "metadata": {
    "scrolled": true
   },
   "outputs": [
    {
     "name": "stdout",
     "output_type": "stream",
     "text": [
      "__________________________________________________________________________________________________\n",
      "Layer (type)                    Output Shape         Param #     Connected to                     \n",
      "==================================================================================================\n",
      "input_26 (InputLayer)           (None, 12)           0                                            \n",
      "__________________________________________________________________________________________________\n",
      "input_25 (InputLayer)           (None, 1000)         0                                            \n",
      "__________________________________________________________________________________________________\n",
      "embedding_14 (Embedding)        (None, 12, 256)      2029568     input_26[0][0]                   \n",
      "__________________________________________________________________________________________________\n",
      "dropout_26 (Dropout)            (None, 1000)         0           input_25[0][0]                   \n",
      "__________________________________________________________________________________________________\n",
      "dropout_27 (Dropout)            (None, 12, 256)      0           embedding_14[0][0]               \n",
      "__________________________________________________________________________________________________\n",
      "dense_40 (Dense)                (None, 256)          256256      dropout_26[0][0]                 \n",
      "__________________________________________________________________________________________________\n",
      "lstm_13 (LSTM)                  (None, 256)          525312      dropout_27[0][0]                 \n",
      "__________________________________________________________________________________________________\n",
      "add_14 (Add)                    (None, 256)          0           dense_40[0][0]                   \n",
      "                                                                 lstm_13[0][0]                    \n",
      "__________________________________________________________________________________________________\n",
      "dense_41 (Dense)                (None, 256)          65792       add_14[0][0]                     \n",
      "__________________________________________________________________________________________________\n",
      "dense_42 (Dense)                (None, 7928)         2037496     dense_41[0][0]                   \n",
      "==================================================================================================\n",
      "Total params: 4,914,424\n",
      "Trainable params: 4,914,424\n",
      "Non-trainable params: 0\n",
      "__________________________________________________________________________________________________\n",
      "Train on 6000 samples, validate on 1000 samples\n",
      "Epoch 1/20\n",
      "6000/6000 [==============================] - 32s 5ms/step - loss: 5.6366 - val_loss: 5.7684\n",
      "Epoch 2/20\n",
      "6000/6000 [==============================] - 39s 6ms/step - loss: 4.9342 - val_loss: 5.8142\n",
      "Epoch 3/20\n",
      "6000/6000 [==============================] - 38s 6ms/step - loss: 4.8781 - val_loss: 5.9562\n",
      "Epoch 4/20\n",
      "6000/6000 [==============================] - 38s 6ms/step - loss: 4.8554 - val_loss: 5.9340\n",
      "Epoch 5/20\n",
      "6000/6000 [==============================] - 37s 6ms/step - loss: 4.8391 - val_loss: 5.9720\n",
      "Epoch 6/20\n",
      "6000/6000 [==============================] - 36s 6ms/step - loss: 4.8645 - val_loss: 5.9300\n",
      "Epoch 7/20\n",
      "6000/6000 [==============================] - 36s 6ms/step - loss: 4.7444 - val_loss: 5.9757\n",
      "Epoch 8/20\n",
      "6000/6000 [==============================] - 36s 6ms/step - loss: 4.6854 - val_loss: 6.2022\n",
      "Epoch 9/20\n",
      "6000/6000 [==============================] - 36s 6ms/step - loss: 4.6538 - val_loss: 6.1470\n",
      "Epoch 10/20\n",
      "6000/6000 [==============================] - 36s 6ms/step - loss: 4.6268 - val_loss: 6.0944\n",
      "Epoch 11/20\n",
      "6000/6000 [==============================] - 35s 6ms/step - loss: 4.6010 - val_loss: 6.1749\n",
      "Epoch 12/20\n",
      "6000/6000 [==============================] - 35s 6ms/step - loss: 4.5719 - val_loss: 6.1968\n",
      "Epoch 13/20\n",
      "6000/6000 [==============================] - 36s 6ms/step - loss: 4.5332 - val_loss: 6.2345\n",
      "Epoch 14/20\n",
      "6000/6000 [==============================] - 38s 6ms/step - loss: 4.4805 - val_loss: 6.2334\n",
      "Epoch 15/20\n",
      "6000/6000 [==============================] - 35s 6ms/step - loss: 4.4186 - val_loss: 6.3441\n",
      "Epoch 16/20\n",
      "6000/6000 [==============================] - 36s 6ms/step - loss: 4.3398 - val_loss: 6.3169\n",
      "Epoch 17/20\n",
      "6000/6000 [==============================] - 37s 6ms/step - loss: 4.2606 - val_loss: 6.4134\n",
      "Epoch 18/20\n",
      "6000/6000 [==============================] - 38s 6ms/step - loss: 4.1609 - val_loss: 6.4544\n",
      "Epoch 19/20\n",
      "6000/6000 [==============================] - 38s 6ms/step - loss: 4.0528 - val_loss: 6.5684\n",
      "Epoch 20/20\n",
      "6000/6000 [==============================] - 47s 8ms/step - loss: 3.9369 - val_loss: 6.5977\n"
     ]
    },
    {
     "data": {
      "text/plain": [
       "<tensorflow.python.keras._impl.keras.callbacks.History at 0x7f9868414ac8>"
      ]
     },
     "execution_count": 29,
     "metadata": {},
     "output_type": "execute_result"
    }
   ],
   "source": [
    "def define_model_2(vocab_size,max_length):\n",
    "    #feature extractor model Dense_map this layer summarizes the contents in image\n",
    "    input1= Input(shape=(1000,))\n",
    "    fe1=Dropout(0.5)(input1)\n",
    "    fe2=Dense(256,activation='relu')(fe1)\n",
    "    \n",
    "    \n",
    "    \n",
    "    #sequence model\n",
    "    \n",
    "    input2 =Input(shape=(max_length,))\n",
    "    se1 = Embedding(vocab_size,256,)(input2)\n",
    "    se2=  Dropout(0.5)(se1)\n",
    "    se3=  LSTM(256)(se2)\n",
    "    \n",
    "\n",
    "    #output_model\n",
    "    output_model = Sequential()\n",
    "    decoder1= add([fe2,se3])\n",
    "    decoder2  = Dense(256,activation='relu')(decoder1)\n",
    "    output =  Dense(vocab_size,activation='softmax')(decoder2)\n",
    "    model = Model(inputs=[input1,input2],outputs=output)\n",
    "    model.compile(loss='categorical_crossentropy',optimizer='Adam')\n",
    "    return model\n",
    "model2=define_model_2(vocab_size,max_len)\n",
    "model2.summary()\n",
    "#iV=iV.reshape(iV.shape[0],iV.shape[2])\n",
    "#iT=iT.reshape(iT.shape[0],iT.shape[2])\n",
    "filepath= 'Lstm-weights.{epoch:04d}-{val_loss:.4f}.hdf5'\n",
    "checkpoint=ModelCheckpoint(filepath,monitor='val_loss',mode='min',save_best_only=True) \n",
    "#tensor=TensorBoard(log_dir='../ProjectPattern/Saving_Model/TensorboardLogs/', histogram_freq=0, batch_size=32, write_graph=True, write_grads=False, write_images=False, embeddings_freq=0, embeddings_layer_names=None, embeddings_metadata=None)\n",
    "    \n",
    "model2.fit([iT,sT],oT,validation_data=([iV,sV],oV),callbacks=[checkpoint],epochs=20)"
   ]
  },
  {
   "cell_type": "markdown",
   "metadata": {},
   "source": [
    "# Data generator "
   ]
  },
  {
   "cell_type": "code",
   "execution_count": null,
   "metadata": {
    "scrolled": true
   },
   "outputs": [],
   "source": [
    "captionFile = open('l2_captions.txt','r')\n",
    "dic = open('dic_Captions.txt','r')\n",
    "photo_feature=load(open('feature.pkl','rb'))\n",
    "\n",
    "def data_generator(dictionary,train_feature,tokenizer,max_len):\n",
    "\n",
    "    for k in range(0,len(photo_feature)):\n",
    "        photo = photo_feature[list(photo_feature.keys())[k]]\n",
    "        tokenizedList = tokenizer.fit_on_texts(dictionary[list(dictionary.keys())[k]])\n",
    "        encodedSeqList= tokenizer.texts_to_sequences(dictionary[list(dictionary.keys())[k]])\n",
    "        in_seq,in_img,out_word=create_sequences(encodedSeqList,max_len,photo)\n",
    "        yield [[in_img,in_seq],out_word]\n",
    "        \n",
    "write = open('dic_Captions_cleaned.txt','r')\n",
    "dictionary =ast.literal_eval(write.read())\n",
    "tokenized_dic =tokenize(dictionary)\n",
    "\n",
    "Tokenize = Tokenizer()\n"
   ]
  },
  {
   "cell_type": "code",
   "execution_count": 22,
   "metadata": {},
   "outputs": [],
   "source": [
    "\n",
    "def generate_the_data(photo_features,dicDesc):\n",
    "    seq,img,out = [],[],[]\n",
    "    tokenizer =Tokenizer()\n",
    "    for k in range(0,len(dicDesc)):\n",
    "        photo = photo_feature[list(photo_feature.keys())[k]]\n",
    "        tokenizedList = tokenizer.fit_on_texts(dicDesc[list(dicDesc.keys())[k]])\n",
    "        encodedSeqList= tokenizer.texts_to_sequences(dicDesc[list(dicDesc.keys())[k]])\n",
    "        in_seq,in_img,out_word=create_sequences(encodedSeqList,max_len,photo)\n",
    "        seq+=in_seq\n",
    "        img+=in_img\n",
    "        out+=out_word\n",
    "    return np.array(seq),np.array(img),np.array(out)"
   ]
  },
  {
   "cell_type": "markdown",
   "metadata": {},
   "source": [
    "# Prepare  to train captions and images"
   ]
  },
  {
   "cell_type": "code",
   "execution_count": 13,
   "metadata": {
    "scrolled": true
   },
   "outputs": [],
   "source": [
    "#Load the img Address\n",
    "file = open('img_Address_Training.txt','r')\n",
    "listTrainImg = ast.literal_eval(file.read())\n",
    "\n",
    "#using load photo to load the feature of the training dataset images\n",
    "dicFeatureTrain =load_photo_features(photo_feature,listTrainImg[0:-1])\n",
    "dicDescTrain = load_desc(desc_list,listTrainImg[0:-1])\n",
    "sT,iT,oT=generate_the_data(dicFeatureTrain,dicDescTrain)"
   ]
  },
  {
   "cell_type": "markdown",
   "metadata": {},
   "source": [
    "# Prepare  the captions and images of test set"
   ]
  },
  {
   "cell_type": "code",
   "execution_count": 35,
   "metadata": {},
   "outputs": [],
   "source": [
    "file = open('Img_Address_Test_Image.txt','r')\n",
    "file2 = open('mark_captions_testing_dic.txt','r')\n",
    "\n",
    "captionsTesting=ast.literal_eval(file2.read())\n",
    "listTestImg = ast.literal_eval(file.read())\n",
    "dicFeatureTest=load_photo_features(photo_feature,listTestImg[0:-1])\n",
    "dicDescTest = load_desc(captionsTesting,listTestImg[0:-1])\n",
    "#sTest,iTest,oTest=generate_the_data(dicFeatureTest,dicDescTest)"
   ]
  },
  {
   "cell_type": "code",
   "execution_count": null,
   "metadata": {},
   "outputs": [],
   "source": [
    "def load_desc_dic(captionsTesting,ImgAddress):\n",
    "    listImg = []\n",
    "    l=0\n",
    "    k=5\n",
    "    dic ={}\n",
    "    for j in range(0,len(ImgAddress)):\n",
    "        for i in range(l,k):\n",
    "            listImg.append(captionsTesting[i])\n",
    "        \n",
    "        dic[ImgAddress[j]]  = listImg\n",
    "        listImg=[]\n",
    "    return dic    \n",
    "     "
   ]
  },
  {
   "cell_type": "markdown",
   "metadata": {},
   "source": [
    "# Prepare the validation or dev images and their captions"
   ]
  },
  {
   "cell_type": "code",
   "execution_count": 23,
   "metadata": {},
   "outputs": [],
   "source": [
    "#file = open('../ProjectPattern/Flickr8k_text/Flickr_8k.devImages.txt','r')\n",
    "#listdevImg=file.read().split('\\n')\n",
    "file = open('Img_Address_devval_Image.txt','r')\n",
    "listValImg = ast.literal_eval(file.read())\n",
    "dicFeatureVal=load_photo_features(photo_feature,listValImg[0:-1])\n",
    "dicDescVal = load_desc(desc_list,listValImg[0:-1])\n",
    "sV,iV,oV=generate_the_data(dicFeatureVal,dicDescVal)"
   ]
  },
  {
   "cell_type": "code",
   "execution_count": null,
   "metadata": {},
   "outputs": [],
   "source": [
    "next(generatorTrain)[0][1].reshap\n"
   ]
  },
  {
   "cell_type": "markdown",
   "metadata": {},
   "source": [
    "# Model running "
   ]
  },
  {
   "cell_type": "code",
   "execution_count": null,
   "metadata": {
    "scrolled": false
   },
   "outputs": [],
   "source": [
    "epoch = 100\n",
    "#the batch_size / numberofsamples\n",
    "filepath= 'weights.{epoch:04d}-{val_loss:.4f}.hdf5'\n",
    "steps =2\n",
    "tokenizer = Tokenizer()\n",
    "generatorTrain = data_generator(dicDescTrain,dicFeatureTrain,tokenizer,max_len)\n",
    "generatorVal   = data_generator(dicDescVal,dicFeatureTest,tokenizer,max_len)\n",
    "model.fit_generator(generatorTrain,steps_per_epoch=1,verbose=1,epochs=100,validation_data=generatorVal,validation_steps=steps)\n",
    "checkpoint=ModelCheckpoint(filepath,monitor='val_loss',mode='min',save_best_only=True) \n",
    "TensorBoard(log_dir='../ProjectPattern/Saving_Model/TensorboardLogs/', histogram_freq=0, batch_size=32, write_graph=True, write_grads=False, write_images=False, embeddings_freq=0, embeddings_layer_names=None, embeddings_metadata=None)\n",
    "    "
   ]
  },
  {
   "cell_type": "code",
   "execution_count": null,
   "metadata": {},
   "outputs": [],
   "source": [
    "epoch = 100\n",
    "#the batch_size / numberofsamples\n",
    "filepath= 'weights.{epoch:02d}-{val_loss:.2f}.hdf5'\n",
    "steps =2\n",
    "tokenizer = Tokenizer()\n",
    "generatorTrain = data_generator_out(dicDescTrain,dicFeatureTrain,tokenizer,max_len)\n",
    "generatorVal   = data_generator_out(dicDescVal,dicFeatureTest,tokenizer,max_len)\n",
    "#ModelCheckpoint(filepath,monitor='val_loss',mode='min') \n",
    "#TensorBoard(log_dir='../ProjectPattern/Saving_Model/TensorboardLogs/', histogram_freq=0, batch_size=32, write_graph=True, write_grads=False, write_images=False, embeddings_freq=0, embeddings_layer_names=None, embeddings_metadata=None)\n",
    "    "
   ]
  },
  {
   "cell_type": "code",
   "execution_count": null,
   "metadata": {},
   "outputs": [],
   "source": [
    "i=i.reshape(6000,1000)\n",
    "model2.fit([i,s],o,validation_data=)\n"
   ]
  },
  {
   "cell_type": "code",
   "execution_count": 108,
   "metadata": {},
   "outputs": [
    {
     "name": "stdout",
     "output_type": "stream",
     "text": [
      "dict_items([('a', 1), ('ssss', 2), ('eeee', 3), ('s', 4), ('in', 5), ('the', 6), ('on', 7), ('is', 8), ('and', 9), ('dog', 10), ('with', 11), ('man', 12), ('of', 13), ('two', 14), ('white', 15), ('black', 16), ('boy', 17), ('are', 18), ('woman', 19), ('girl', 20), ('to', 21), ('wearing', 22), ('people', 23), ('at', 24), ('water', 25), ('red', 26), ('brown', 27), ('young', 28), ('an', 29), ('his', 30), ('blue', 31), ('dogs', 32), ('running', 33), ('through', 34), ('playing', 35), ('shirt', 36), ('while', 37), ('down', 38), ('ball', 39), ('standing', 40), ('little', 41), ('grass', 42), ('snow', 43), ('child', 44), ('person', 45), ('jumping', 46), ('over', 47), ('three', 48), ('sitting', 49), ('front', 50), ('holding', 51), ('field', 52), ('up', 53), ('small', 54), ('large', 55), ('by', 56), ('green', 57), ('yellow', 58), ('one', 59), ('group', 60), ('walking', 61), ('children', 62), ('her', 63), ('men', 64), ('into', 65), ('air', 66), ('near', 67), ('mouth', 68), ('beach', 69), ('jumps', 70), ('runs', 71), ('another', 72), ('for', 73), ('from', 74), ('its', 75), ('street', 76), ('riding', 77), ('bike', 78), ('stands', 79), ('as', 80), ('girls', 81), ('outside', 82), ('other', 83), ('off', 84), ('looking', 85), ('out', 86), ('rock', 87), ('pink', 88), ('play', 89), ('next', 90), ('player', 91), ('orange', 92), ('their', 93), ('pool', 94), ('jacket', 95), ('camera', 96), ('hat', 97), ('boys', 98), ('women', 99), ('around', 100), ('behind', 101), ('some', 102), ('toy', 103), ('background', 104), ('soccer', 105), ('sits', 106), ('has', 107), ('dressed', 108), ('wall', 109), ('dirt', 110), ('walks', 111), ('stand', 112), ('mountain', 113), ('four', 114), ('along', 115), ('park', 116), ('plays', 117), ('crowd', 118), ('top', 119), ('building', 120), ('climbing', 121), ('looks', 122), ('face', 123), ('stick', 124), ('football', 125), ('grassy', 126), ('across', 127), ('smiling', 128), ('holds', 129), ('sand', 130), ('skateboard', 131), ('hill', 132), ('swimming', 133), ('rides', 134), ('ocean', 135), ('tennis', 136), ('carrying', 137), ('each', 138), ('snowy', 139), ('baby', 140), ('bicycle', 141), ('tree', 142), ('picture', 143), ('doing', 144), ('jump', 145), ('car', 146), ('road', 147), ('hair', 148), ('together', 149), ('area', 150), ('tan', 151), ('him', 152), ('trick', 153), ('that', 154), ('it', 155), ('sidewalk', 156), ('race', 157), ('bench', 158), (\"'s\", 159), ('back', 160), ('covered', 161), ('shorts', 162), ('catch', 163), ('helmet', 164), ('basketball', 165), ('run', 166), ('game', 167), ('head', 168), ('sit', 169), ('swing', 170), ('ground', 171), ('fence', 172), ('something', 173), ('kids', 174), ('hand', 175), ('dress', 176), ('frisbee', 177), ('walk', 178), ('lake', 179), ('path', 180), ('ramp', 181), ('being', 182), ('skateboarder', 183), ('long', 184), ('several', 185), ('city', 186), ('purple', 187), ('side', 188), ('wave', 189), ('slide', 190), ('high', 191), ('there', 192), ('baseball', 193), ('players', 194), ('track', 195), ('big', 196), ('wooden', 197), ('watches', 198), ('boat', 199), ('posing', 200), ('coat', 201), ('trees', 202), ('pants', 203), ('ride', 204), ('uniform', 205), ('look', 206), ('watching', 207), ('them', 208), ('sunglasses', 209), ('arms', 210), ('rope', 211), ('suit', 212), ('dark', 213), ('rocks', 214), ('couple', 215), ('grey', 216), ('motorcycle', 217), ('under', 218), ('sign', 219), ('hands', 220), ('does', 221), ('watch', 222), ('rocky', 223), ('table', 224), ('horse', 225), ('racing', 226), ('towards', 227), ('jeans', 228), ('beside', 229), ('above', 230), ('pose', 231), ('snowboarder', 232), ('guy', 233), ('colored', 234), ('woods', 235), ('ice', 236), ('colorful', 237), ('who', 238), ('lady', 239), ('onto', 240), ('older', 241), ('river', 242), ('striped', 243), ('haired', 244), ('asian', 245), ('glasses', 246), ('yard', 247), ('midair', 248), ('he', 249), ('taking', 250), ('blonde', 251), ('cliff', 252), ('leaps', 253), ('collar', 254), ('mountains', 255), ('open', 256), ('blond', 257), ('bird', 258), ('cap', 259), ('laying', 260), ('against', 261), ('climbs', 262), ('chasing', 263), ('body', 264), ('hockey', 265), ('playground', 266), ('surrounded', 267), ('many', 268), ('kid', 269), ('after', 270), ('performing', 271), ('old', 272), ('fountain', 273), ('inside', 274), ('smiles', 275), ('rider', 276), ('edge', 277), ('during', 278), ('t', 279), ('wet', 280), ('others', 281), ('skier', 282), ('away', 283), ('brick', 284), ('flying', 285), ('surfer', 286), ('biker', 287), ('very', 288), ('team', 289), ('outdoors', 290), ('takes', 291), ('middle', 292), ('bed', 293), ('guitar', 294), ('forest', 295), ('backpack', 296), ('toddler', 297), ('light', 298), ('night', 299), ('shore', 300), ('trying', 301), ('five', 302), ('hanging', 303), ('pole', 304), ('whilst', 305), ('object', 306), ('nearby', 307), ('past', 308), ('gray', 309), ('about', 310), ('making', 311), ('someone', 312), ('line', 313), ('window', 314), ('talking', 315), ('going', 316), ('flowers', 317), ('steps', 318), ('outfit', 319), ('arm', 320), ('chair', 321), ('floor', 322), ('tall', 323), ('bridge', 324), ('trail', 325), ('this', 326), ('course', 327), ('bag', 328), ('toward', 329), ('poses', 330), ('surfboard', 331), ('board', 332), ('eating', 333), ('swinging', 334), ('sky', 335), ('clothes', 336), ('carries', 337), ('stone', 338), ('plastic', 339), ('leaping', 340), ('leaves', 341), ('waves', 342), ('leash', 343), ('house', 344), ('costume', 345), ('shirts', 346), ('fighting', 347), ('dancing', 348), ('all', 349), ('outdoor', 350), ('day', 351), ('between', 352), ('skateboarding', 353), ('shallow', 354), ('clothing', 355), ('gear', 356), ('room', 357), ('legs', 358), ('bright', 359), ('concrete', 360), ('splashing', 361), ('they', 362), ('obstacle', 363), ('sliding', 364), ('ready', 365), ('catches', 366), ('climber', 367), ('mud', 368), ('waiting', 369), ('store', 370), ('winter', 371), ('metal', 372), ('bathing', 373), ('swings', 374), ('adult', 375), ('throwing', 376), ('railing', 377), ('male', 378), ('fire', 379), ('lawn', 380), ('wears', 381), ('get', 382), ('tongue', 383), ('sandy', 384), ('drink', 385), ('sled', 386), ('lot', 387), ('adults', 388), ('sun', 389), ('uniforms', 390), ('jersey', 391), ('getting', 392), ('couch', 393), ('skiing', 394), ('golden', 395), ('trampoline', 396), ('stairs', 397), ('catching', 398), ('set', 399), ('overlooking', 400), ('female', 401), ('bar', 402), ('gets', 403), ('distance', 404), ('tries', 405), ('sweater', 406), ('american', 407), ('smile', 408), ('upside', 409), ('stream', 410), ('wooded', 411), ('swims', 412), ('drinking', 413), ('makes', 414), ('train', 415), ('fishing', 416), ('like', 417), ('rail', 418), ('ski', 419), ('pulling', 420), ('busy', 421), ('leaning', 422), ('tricks', 423), ('horses', 424), ('puddle', 425), ('number', 426), ('hats', 427), ('swim', 428), ('cellphone', 429), ('shirtless', 430), ('performs', 431), ('flies', 432), ('puppy', 433), ('chases', 434), ('vest', 435), ('tire', 436), ('eyes', 437), ('animal', 438), ('huge', 439), ('hold', 440), ('food', 441), ('lying', 442), ('right', 443), ('left', 444), ('view', 445), ('flag', 446), ('climb', 447), ('elderly', 448), ('laughing', 449), ('shoes', 450), ('surfing', 451), ('umbrella', 452), ('truck', 453), ('pond', 454), ('shopping', 455), ('slides', 456), ('dock', 457), ('bus', 458), ('bubbles', 459), ('muddy', 460), ('family', 461), ('coming', 462), ('deep', 463), ('snowboard', 464), ('photo', 465), ('reading', 466), ('nose', 467), ('skirt', 468), ('both', 469), ('stunt', 470), ('tent', 471), ('take', 472), ('tank', 473), ('life', 474), ('skating', 475), ('dry', 476), ('bikes', 477), ('feet', 478), ('falling', 479), ('biting', 480), ('german', 481), ('flip', 482), ('or', 483), ('greyhound', 484), ('bags', 485), ('wetsuit', 486), ('no', 487), ('flags', 488), ('cigarette', 489), ('court', 490), ('equipment', 491), ('kayak', 492), ('cart', 493), ('hurdle', 494), ('waterfall', 495), ('trunks', 496), ('guys', 497), ('mask', 498), ('be', 499), ('book', 500), ('lone', 501), ('ledge', 502), ('she', 503), ('structure', 504), ('vehicle', 505), ('setting', 506), ('surf', 507), ('harness', 508), ('slope', 509), ('raft', 510), ('shepherd', 511), ('pile', 512), ('short', 513), ('goes', 514), ('crowded', 515), ('hiker', 516), ('inflatable', 517), ('dresses', 518), ('skate', 519), ('scarf', 520), ('fight', 521), ('bmx', 522), ('sunset', 523), ('bat', 524), ('bottle', 525), ('restaurant', 526), ('skis', 527), ('go', 528), ('paper', 529), ('goal', 530), ('turn', 531), ('cement', 532), ('shaking', 533), ('goggles', 534), ('sweatshirt', 535), ('cyclist', 536), ('driving', 537), ('airborne', 538), ('subway', 539), ('teenage', 540), ('six', 541), ('wood', 542), ('leather', 543), ('cross', 544), ('ears', 545), ('graffiti', 546), ('parking', 547), ('splashes', 548), ('have', 549), ('kick', 550), ('ring', 551), ('parade', 552), ('throws', 553), ('faces', 554), ('stuffed', 555), ('fallen', 556), ('cars', 557), ('blanket', 558), ('cat', 559), ('beard', 560), ('chairs', 561), ('kicking', 562), ('tunnel', 563), ('bikini', 564), ('canoe', 565), ('piece', 566), ('diving', 567), ('bicyclist', 568), ('hugging', 569), ('boots', 570), ('costumes', 571), ('event', 572), ('volleyball', 573), ('bald', 574), ('smoking', 575), ('dance', 576), ('using', 577), ('pushing', 578), ('hit', 579), ('closeup', 580), ('buildings', 581), ('wheel', 582), ('gathered', 583), ('low', 584), ('suits', 585), ('full', 586), ('smaller', 587), ('furry', 588), ('net', 589), ('sports', 590), ('pictures', 591), ('jackets', 592), ('surface', 593), ('hiking', 594), ('microphone', 595), ('kicks', 596), ('door', 597), ('held', 598), ('silver', 599), ('wrestling', 600), ('outfits', 601), ('gold', 602), ('flower', 603), ('hoop', 604), ('painted', 605), ('backyard', 606), ('rugby', 607), ('drinks', 608), ('glass', 609), ('sunny', 610), ('scooter', 611), ('blowing', 612), ('box', 613), ('band', 614), ('fluffy', 615), ('staring', 616), ('wrestle', 617), ('make', 618), ('cup', 619), ('paint', 620), ('snowboarding', 621), ('desert', 622), ('crossing', 623), ('statue', 624), ('sticks', 625), ('attempts', 626), ('do', 627), ('hangs', 628), ('stage', 629), ('puppies', 630), ('underwater', 631), ('sleeping', 632), ('bucket', 633), ('same', 634), ('show', 635), ('african', 636), ('attempting', 637), ('corner', 638), ('spectators', 639), ('bicycles', 640), ('below', 641), ('hula', 642), ('end', 643), ('log', 644), ('close', 645), ('party', 646), ('teams', 647), ('steep', 648), ('signs', 649), ('few', 650), ('hind', 651), ('lays', 652), ('fish', 653), ('pointing', 654), ('wide', 655), ('bunch', 656), ('leans', 657), ('swimsuit', 658), ('attached', 659), ('motorcyclist', 660), ('balls', 661), ('garden', 662), ('throw', 663), ('fast', 664), ('cowboy', 665), ('toys', 666), ('beautiful', 667), ('filled', 668), ('sheep', 669), ('waving', 670), ('kissing', 671), ('plaid', 672), ('sticking', 673), ('fenced', 674), ('racetrack', 675), ('prepares', 676), ('poles', 677), ('cow', 678), ('racket', 679), ('leg', 680), ('bride', 681), ('beige', 682), ('heads', 683), ('market', 684), ('clear', 685), ('phone', 686), ('way', 687), ('racer', 688), ('beer', 689), ('base', 690), ('mohawk', 691), ('platform', 692), ('onlookers', 693), ('hits', 694), ('neck', 695), ('police', 696), ('points', 697), ('eats', 698), ('tube', 699), ('shot', 700), ('headband', 701), ('shop', 702), ('balloon', 703), ('kitchen', 704), ('wear', 705), ('rain', 706), ('rural', 707), ('talks', 708), ('among', 709), ('chewing', 710), ('gather', 711), ('dances', 712), ('bearded', 713), ('skateboards', 714), ('cream', 715), ('gym', 716), ('competition', 717), ('pavement', 718), ('facing', 719), ('gravel', 720), ('seated', 721), ('just', 722), ('teeth', 723), ('sprinkler', 724), ('rolling', 725), ('pushes', 726), ('carpet', 727), ('rough', 728), ('tie', 729), ('display', 730), ('branch', 731), ('urban', 732), ('softball', 733), ('downhill', 734), ('reads', 735), ('which', 736), ('seat', 737), ('ladies', 738), ('school', 739), ('wading', 740), ('having', 741), ('headphones', 742), ('public', 743), ('bull', 744), ('round', 745), ('birds', 746), ('santa', 747), ('shoulder', 748), ('wait', 749), ('animals', 750), ('wedding', 751), ('paved', 752), ('showing', 753), ('traffic', 754), ('dirty', 755), ('smoke', 756), ('gun', 757), ('foot', 758), ('lit', 759), ('boats', 760), ('landscape', 761), ('scene', 762), ('tug', 763), ('bottom', 764), ('empty', 765), ('resting', 766), ('barefoot', 767), ('hose', 768), ('greyhounds', 769), ('creek', 770), ('bars', 771), ('helmets', 772), ('opposing', 773), ('races', 774), ('waits', 775), ('motocross', 776), ('bubble', 777), ('hole', 778), ('ropes', 779), ('wings', 780), ('stadium', 781), ('half', 782), ('goalie', 783), ('hay', 784), ('matching', 785), ('match', 786), ('can', 787), ('parked', 788), ('wire', 789), ('painting', 790), ('skates', 791), ('lies', 792), ('splash', 793), ('handstand', 794), ('flight', 795), ('pipe', 796), ('paddling', 797), ('before', 798), ('cricket', 799), ('different', 800), ('spotted', 801), ('video', 802), ('indoor', 803), ('paddle', 804), ('younger', 805), ('carnival', 806), ('fall', 807), ('amusement', 808), ('brightly', 809), ('drives', 810), ('unicycle', 811), ('giant', 812), ('bandanna', 813), ('talk', 814), ('retriever', 815), ('deck', 816), ('reaching', 817), ('poodle', 818), ('seen', 819), ('mother', 820), ('chase', 821), ('funny', 822), ('lap', 823), ('alongside', 824), ('third', 825), ('roller', 826), ('pulled', 827), ('where', 828), ('curly', 829), ('wrestler', 830), ('singing', 831), ('plants', 832), ('thrown', 833), ('floating', 834), ('falls', 835), ('chain', 836), ('gloves', 837), ('hikers', 838), ('moving', 839), ('shooting', 840), ('atv', 841), ('digging', 842), ('art', 843), ('purse', 844), ('runner', 845), ('spray', 846), ('mouths', 847), ('jeep', 848), ('says', 849), ('kite', 850), ('hitting', 851), ('photograph', 852), ('grinding', 853), ('lined', 854), ('lights', 855), ('block', 856), ('rapids', 857), ('fly', 858), ('hooded', 859), ('blows', 860), ('try', 861), ('outstretched', 862), ('christmas', 863), ('ear', 864), ('bushes', 865), ('country', 866), ('alone', 867), ('instruments', 868), ('gives', 869), ('raises', 870), ('plate', 871), ('war', 872), ('audience', 873), ('surfs', 874), ('onstage', 875), ('shakes', 876), ('motorbike', 877), ('appears', 878), ('bite', 879), ('larger', 880), ('atop', 881), ('foreground', 882), ('hang', 883), ('duck', 884), ('denim', 885), ('reaches', 886), ('cloth', 887), ('enjoys', 888), ('terrain', 889), ('jumped', 890), ('violin', 891), ('licking', 892), ('putting', 893), ('newspaper', 894), ('rollerblades', 895), ('himself', 896), ('kneeling', 897), ('perform', 898), ('teenagers', 899), ('cold', 900), ('finger', 901), ('formation', 902), ('music', 903), ('tackle', 904), ('naked', 905), ('stop', 906), ('leap', 907), ('fetch', 908), ('ducks', 909), ('shows', 910), ('hoops', 911), ('cut', 912), ('giving', 913), ('step', 914), ('pulls', 915), ('handrail', 916), ('doorway', 917), ('hot', 918), ('coats', 919), ('skiers', 920), ('fur', 921), ('shaggy', 922), ('owner', 923), ('passing', 924), ('professional', 925), ('straw', 926), ('laughs', 927), ('paddles', 928), ('backs', 929), ('playfully', 930), ('preparing', 931), ('cone', 932), ('machine', 933), ('balancing', 934), ('hoodie', 935), ('bikers', 936), ('riders', 937), ('safety', 938), ('wheelchair', 939), ('biking', 940), ('pull', 941), ('tracks', 942), ('staircase', 943), ('sea', 944), ('row', 945), ('muzzle', 946), ('balloons', 947), ('friend', 948), ('indoors', 949), ('fair', 950), ('bowl', 951), ('competing', 952), ('muzzled', 953), ('terrier', 954), ('camouflage', 955), ('barrier', 956), ('station', 957), ('pigeons', 958), ('backpacks', 959), ('basket', 960), ('mid', 961), ('martial', 962), ('seven', 963), ('skater', 964), ('shoulders', 965), ('decorated', 966), ('lean', 967), ('home', 968), ('covering', 969), ('frame', 970), ('enjoying', 971), ('counter', 972), ('writing', 973), ('taken', 974), ('pier', 975), ('rollerblading', 976), ('shaped', 977), ('trunk', 978), ('landing', 979), ('splashed', 980), ('spinning', 981), ('pack', 982), ('crouches', 983), ('balances', 984), ('parachute', 985), ('bites', 986), ('break', 987), ('peace', 988), ('follows', 989), ('underneath', 990), ('coaster', 991), ('bank', 992), ('plane', 993), ('laugh', 994), ('driver', 995), ('motorcycles', 996), ('construction', 997), ('clown', 998), ('cyclists', 999), ('heavy', 1000), ('paws', 1001), ('caught', 1002), ('chest', 1003), ('rodeo', 1004), ('waters', 1005), ('necklace', 1006), ('jean', 1007), ('computer', 1008), ('land', 1009), ('these', 1010), ('made', 1011), ('see', 1012), ('uses', 1013), ('screen', 1014), ('hug', 1015), ('dune', 1016), ('kayaking', 1017), ('backwards', 1018), ('shadow', 1019), ('speed', 1020), ('crashing', 1021), ('balcony', 1022), ('quickly', 1023), ('gate', 1024), ('fingers', 1025), ('mound', 1026), ('puts', 1027), ('climbers', 1028), ('rink', 1029), ('headscarf', 1030), ('fetching', 1031), ('mountainside', 1032), ('shown', 1033), ('clouds', 1034), ('suspended', 1035), ('eye', 1036), ('range', 1037), ('spots', 1038), ('wheelie', 1039), ('rowing', 1040), ('stump', 1041), ('only', 1042), ('jogging', 1043), ('float', 1044), ('barking', 1045), ('grinds', 1046), ('tires', 1047), ('turning', 1048), ('watched', 1049), ('touching', 1050), ('blow', 1051), ('collie', 1052), ('skinned', 1053), ('formal', 1054), ('hillside', 1055), ('jerseys', 1056), ('frozen', 1057), ('rubber', 1058), ('sized', 1059), ('opposite', 1060), ('referee', 1061), ('overalls', 1062), ('courtyard', 1063), ('makeup', 1064), ('closed', 1065), ('jungle', 1066), ('crosses', 1067), ('surrounding', 1068), ('working', 1069), ('dusk', 1070), (\"'\", 1071), ('helping', 1072), ('string', 1073), ('kiss', 1074), ('military', 1075), ('knit', 1076), ('curb', 1077), ('sniffing', 1078), ('homeless', 1079), ('photographer', 1080), ('bicyclists', 1081), ('kneels', 1082), ('dead', 1083), ('medium', 1084), ('wagon', 1085), ('happily', 1086), ('cardboard', 1087), ('well', 1088), ('cheerleaders', 1089), ('hike', 1090), ('bouncing', 1091), ('monkey', 1092), ('begins', 1093), ('tackled', 1094), ('reach', 1095), ('petting', 1096), ('rests', 1097), ('lab', 1098), ('smokes', 1099), ('curve', 1100), ('town', 1101), ('muzzles', 1102), ('blurry', 1103), ('rainbow', 1104), ('coffee', 1105), ('without', 1106), ('thumbs', 1107), ('training', 1108), ('eastern', 1109), ('catcher', 1110), ('comes', 1111), ('mirror', 1112), ('racquet', 1113), ('themselves', 1114), ('valley', 1115), ('ladder', 1116), ('tiger', 1117), ('bend', 1118), ('direction', 1119), ('lots', 1120), ('colors', 1121), ('raised', 1122), ('mountaintop', 1123), ('sooners', 1124), ('sandals', 1125), ('put', 1126), ('friends', 1127), ('beam', 1128), ('grocery', 1129), ('eat', 1130), ('leaving', 1131), ('fake', 1132), ('type', 1133), ('bear', 1134), ('lay', 1135), ('snowball', 1136), ('flips', 1137), ('sides', 1138), ('skirts', 1139), ('policeman', 1140), ('soda', 1141), ('wine', 1142), ('cave', 1143), ('disc', 1144), ('passes', 1145), ('sharp', 1146), ('walkway', 1147), ('hills', 1148), ('first', 1149), ('pass', 1150), ('neon', 1151), ('tattoo', 1152), ('arts', 1153), ('practicing', 1154), ('crouching', 1155), ('bending', 1156), ('helps', 1157), ('tricycle', 1158), ('item', 1159), ('wrapped', 1160), ('puck', 1161), ('strip', 1162), ('boardwalk', 1163), ('move', 1164), ('waterskiing', 1165), ('class', 1166), ('officer', 1167), ('multicolored', 1168), ('father', 1169), ('corn', 1170), ('herself', 1171), ('cake', 1172), ('kisses', 1173), ('teenager', 1174), ('forward', 1175), ('swan', 1176), ('miami', 1177), ('bow', 1178), ('streets', 1179), ('pine', 1180), ('wheeled', 1181), ('tattoos', 1182), ('surfers', 1183), ('shoreline', 1184), ('rest', 1185), ('2', 1186), ('protective', 1187), ('ahead', 1188), ('almost', 1189), ('crawls', 1190), ('rollerblader', 1191), ('attire', 1192), ('also', 1193), ('gathering', 1194), ('karate', 1195), ('cones', 1196), ('ribbon', 1197), ('leashes', 1198), ('church', 1199), ('scaling', 1200), ('flowered', 1201), ('redheaded', 1202), ('crosswalk', 1203), ('wheeler', 1204), ('innertube', 1205), ('sculpture', 1206), ('candles', 1207), ('spread', 1208), ('rolls', 1209), ('itself', 1210), ('barrel', 1211), ('warm', 1212), ('case', 1213), ('silhouette', 1214), ('but', 1215), ('leads', 1216), ('swimmer', 1217), ('stroller', 1218), ('chews', 1219), ('rug', 1220), ('brush', 1221), ('spraying', 1222), ('touches', 1223), ('blocks', 1224), ('turned', 1225), ('woodland', 1226), ('cloudy', 1227), ('stomach', 1228), ('knee', 1229), ('pitbull', 1230), ('pair', 1231), ('railroad', 1232), ('spiderman', 1233), ('grab', 1234), ('sport', 1235), ('though', 1236), ('cover', 1237), ('fans', 1238), ('palm', 1239), ('pit', 1240), ('tulips', 1241), ('sofa', 1242), ('sprinklers', 1243), ('chased', 1244), ('3', 1245), ('place', 1246), ('happy', 1247), ('vehicles', 1248), ('various', 1249), ('tackling', 1250), ('asleep', 1251), ('airplane', 1252), ('image', 1253), ('patch', 1254), ('picnic', 1255), ('aged', 1256), ('following', 1257), ('groom', 1258), ('apron', 1259), ('square', 1260), ('embrace', 1261), ('workers', 1262), ('sumo', 1263), ('geese', 1264), ('mat', 1265), ('picking', 1266), ('action', 1267), ('beads', 1268), ('huddle', 1269), ('licks', 1270), ('scarves', 1271), ('multi', 1272), ('inline', 1273), ('hallway', 1274), ('banner', 1275), ('cheerleader', 1276), ('center', 1277), ('bare', 1278), ('headfirst', 1279), ('device', 1280), ('farm', 1281), ('vests', 1282), ('turns', 1283), ('topless', 1284), ('towel', 1285), ('feeding', 1286), ('enjoy', 1287), ('thin', 1288), ('stares', 1289), ('neighborhood', 1290), ('not', 1291), ('camels', 1292), ('peak', 1293), ('lead', 1294), ('skull', 1295), ('members', 1296), ('sheet', 1297), ('pouring', 1298), ('partially', 1299), ('flock', 1300), ('teammate', 1301), ('time', 1302), ('wrestlers', 1303), ('worker', 1304), ('jet', 1305), ('dribbles', 1306), ('moves', 1307), ('shoe', 1308), ('you', 1309), ('camel', 1310), ('agility', 1311), ('money', 1312), ('shower', 1313), ('cheek', 1314), ('scuba', 1315), ('cape', 1316), ('floral', 1317), ('foam', 1318), ('barren', 1319), ('speaking', 1320), ('traveling', 1321), ('floats', 1322), ('bathroom', 1323), ('attempt', 1324), ('4', 1325), ('wheels', 1326), ('kayaker', 1327), ('houses', 1328), ('listening', 1329), ('retrieving', 1330), ('fun', 1331), ('bleachers', 1332), ('porch', 1333), ('caps', 1334), ('hard', 1335), ('bounds', 1336), ('tail', 1337), ('compete', 1338), ('help', 1339), ('dives', 1340), ('shade', 1341), ('tutu', 1342), ('plain', 1343), ('birthday', 1344), ('racers', 1345), ('fruit', 1346), ('golf', 1347), ('what', 1348), ('motion', 1349), ('fabric', 1350), ('students', 1351), ('carriage', 1352), ('fishes', 1353), ('stripes', 1354), ('cafe', 1355), ('merry', 1356), ('figure', 1357), ('drive', 1358), ('jockeys', 1359), ('doberman', 1360), ('flops', 1361), ('bath', 1362), ('bathtub', 1363), ('sprayed', 1364), ('glove', 1365), ('murky', 1366), ('second', 1367), ('benches', 1368), ('teen', 1369), ('pillow', 1370), ('sneakers', 1371), ('crying', 1372), ('swimsuits', 1373), ('narrow', 1374), ('robe', 1375), ('pitch', 1376), ('buried', 1377), ('plaza', 1378), ('sideways', 1379), ('rows', 1380), ('sleeps', 1381), ('eight', 1382), ('how', 1383), ('gallery', 1384), ('amidst', 1385), ('stair', 1386), ('carry', 1387), ('crossed', 1388), ('sail', 1389), ('treat', 1390), ('indian', 1391), ('lift', 1392), ('photographs', 1393), ('boulder', 1394), ('icy', 1395), ('tables', 1396), ('wind', 1397), ('tops', 1398), ('monument', 1399), ('raising', 1400), ('bounce', 1401), ('snowsuit', 1402), ('markings', 1403), ('part', 1404), ('rafting', 1405), ('pitcher', 1406), ('dust', 1407), ('leafy', 1408), ('fancy', 1409), ('foggy', 1410), ('ship', 1411), ('polka', 1412), ('oklahoma', 1413), ('boxing', 1414), ('breaking', 1415), ('gentleman', 1416), ('brunette', 1417), ('stuck', 1418), ('japanese', 1419), ('shaved', 1420), ('arcade', 1421), ('been', 1422), ('marching', 1423), ('boogie', 1424), ('candy', 1425), ('officers', 1426), ('countryside', 1427), ('concert', 1428), ('walls', 1429), ('retrieves', 1430), ('crouched', 1431), ('mostly', 1432), ('protest', 1433), ('push', 1434), ('khaki', 1435), ('i', 1436), ('print', 1437), ('headed', 1438), ('tied', 1439), ('arena', 1440), ('fountains', 1441), ('post', 1442), ('crane', 1443), ('opens', 1444), ('control', 1445), ('males', 1446), ('hugs', 1447), ('electric', 1448), ('drums', 1449), ('played', 1450), ('ponytail', 1451), ('foliage', 1452), ('living', 1453), ('5', 1454), ('masks', 1455), ('skinny', 1456), ('grabbing', 1457), ('ridden', 1458), ('mural', 1459), ('beneath', 1460), ('speaks', 1461), ('sheer', 1462), ('sledding', 1463), ('advertisement', 1464), ('guard', 1465), ('cloud', 1466), ('kites', 1467), ('spins', 1468), ('silly', 1469), ('natural', 1470), ('wakeboarding', 1471), ('bungee', 1472), ('broken', 1473), ('strange', 1474), ('chew', 1475), ('digs', 1476), ('relaxing', 1477), ('coach', 1478), ('jockey', 1479), ('branches', 1480), ('van', 1481), ('touch', 1482), ('lips', 1483), ('pigtails', 1484), ('knees', 1485), ('rear', 1486), ('pirate', 1487), ('playpen', 1488), ('leading', 1489), ('sings', 1490), ('toddlers', 1491), ('robes', 1492), ('traditional', 1493), ('alley', 1494), ('bikinis', 1495), ('bush', 1496), ('tri', 1497), ('shovel', 1498), ('drawing', 1499), ('belly', 1500), ('single', 1501), ('tugging', 1502), ('distant', 1503), ('straight', 1504), ('desk', 1505), ('sets', 1506), ('hood', 1507), ('soft', 1508), ('patio', 1509), ('jumper', 1510), ('pony', 1511), ('descending', 1512), ('meal', 1513), ('stretches', 1514), ('floaties', 1515), ('emerges', 1516), ('waist', 1517), ('still', 1518), ('mall', 1519), ('follow', 1520), ('circle', 1521), ('athlete', 1522), ('balance', 1523), ('infant', 1524), ('intersection', 1525), ('business', 1526), ('rollerskating', 1527), ('pajamas', 1528), ('barn', 1529), ('musicians', 1530), ('so', 1531), ('opponent', 1532), ('style', 1533), ('wig', 1534), ('boarding', 1535), ('runners', 1536), ('tub', 1537), ('rowboat', 1538), ('checkered', 1539), ('crawling', 1540), ('athletic', 1541), ('horseback', 1542), ('campfire', 1543), ('lounge', 1544), ('instrument', 1545), ('slightly', 1546), ('followed', 1547), ('clad', 1548), ('sniffs', 1549), ('autumn', 1550), ('scales', 1551), ('tv', 1552), ('obama', 1553), ('flat', 1554), ('weather', 1555), ('casting', 1556), ('work', 1557), ('uniformed', 1558), ('speeds', 1559), ('females', 1560), ('flipping', 1561), ('point', 1562), ('luggage', 1563), ('tossing', 1564), ('plant', 1565), ('camping', 1566), ('numbered', 1567), ('link', 1568), ('snowmobile', 1569), ('toilet', 1570), ('cards', 1571), ('tag', 1572), ('photographed', 1573), ('collars', 1574), ('chinese', 1575), ('bowling', 1576), ('costumed', 1577), ('shoveling', 1578), ('flute', 1579), ('approaching', 1580), ('sleeved', 1581), ('skyline', 1582), ('enclosed', 1583), ('multiple', 1584), ('gestures', 1585), ('grabs', 1586), ('kiddie', 1587), ('shoot', 1588), ('stretching', 1589), ('tripod', 1590), ('covers', 1591), ('tents', 1592), ('boxer', 1593), ('parka', 1594), ('wakeboard', 1595), ('stars', 1596), ('navy', 1597), ('free', 1598), ('attack', 1599), ('kayaks', 1600), ('canoes', 1601), ('jogs', 1602), ('husky', 1603), ('swimmers', 1604), ('appear', 1605), ('scenic', 1606), ('chalk', 1607), ('lifts', 1608), ('roof', 1609), ('sword', 1610), ('laptop', 1611), ('read', 1612), ('jewelry', 1613), ('reflection', 1614), ('fan', 1615), ('flames', 1616), ('snowcapped', 1617), ('booth', 1618), ('marked', 1619), ('seats', 1620), ('jack', 1621), ('helicopter', 1622), ('stool', 1623), ('space', 1624), ('underwear', 1625), ('umbrellas', 1626), ('chocolate', 1627), ('cooking', 1628), ('goat', 1629), ('position', 1630), ('beagle', 1631), ('hardhat', 1632), ('daughter', 1633), ('hiding', 1634), ('vendor', 1635), ('stops', 1636), ('hikes', 1637), ('visible', 1638), ('starting', 1639), ('cast', 1640), ('buckets', 1641), ('elephant', 1642), ('ridge', 1643), ('skimpy', 1644), ('horizon', 1645), ('reflective', 1646), ('batman', 1647), ('dot', 1648), ('swords', 1649), ('slip', 1650), ('railings', 1651), ('tosses', 1652), ('seagulls', 1653), ('glider', 1654), ('rally', 1655), ('windows', 1656), ('midst', 1657), ('tight', 1658), ('chicken', 1659), ('shoots', 1660), ('tricycles', 1661), ('pale', 1662), ('festival', 1663), ('waterskier', 1664), ('overhead', 1665), ('8', 1666), ('tropical', 1667), ('color', 1668), ('skateboarders', 1669), ('participate', 1670), ('stairway', 1671), ('carts', 1672), ('opening', 1673), ('relaxes', 1674), ('army', 1675), ('bread', 1676), ('diver', 1677), ('folding', 1678), ('picks', 1679), ('selling', 1680), ('leaf', 1681), ('far', 1682), ('feather', 1683), ('either', 1684), ('paw', 1685), ('wild', 1686), ('human', 1687), ('burning', 1688), ('wand', 1689), ('leotard', 1690), ('heavily', 1691), ('pathway', 1692), ('drag', 1693), ('bottles', 1694), ('bee', 1695), ('growling', 1696), ('approaches', 1697), ('pan', 1698), ('carpeted', 1699), ('lands', 1700), ('uphill', 1701), ('colourful', 1702), ('advertising', 1703), ('gliding', 1704), ('meadow', 1705), ('identical', 1706), ('pen', 1707), ('marker', 1708), ('stare', 1709), ('trotting', 1710), ('aqua', 1711), ('dreadlocks', 1712), ('pacifier', 1713), ('handles', 1714), ('bunny', 1715), ('driveway', 1716), ('office', 1717), ('soaked', 1718), ('deer', 1719), ('pushed', 1720), ('trainer', 1721), ('squirted', 1722), ('paints', 1723), ('bigger', 1724), ('dimly', 1725), ('halloween', 1726), ('cheer', 1727), ('musical', 1728), ('was', 1729), ('pick', 1730), ('floppy', 1731), ('cameras', 1732), ('member', 1733), ('shops', 1734), ('excited', 1735), ('clapping', 1736), ('suv', 1737), ('mouse', 1738), ('lacrosse', 1739), ('stretch', 1740), ('tightrope', 1741), ('returns', 1742), ('bay', 1743), ('calm', 1744), ('cushion', 1745), ('wade', 1746), ('hydrant', 1747), ('teal', 1748), ('fuzzy', 1749), ('bearing', 1750), ('seaweed', 1751), ('binoculars', 1752), ('weeds', 1753), ('hardwood', 1754), ('owners', 1755), ('parallel', 1756), ('carried', 1757), ('pizza', 1758), ('dish', 1759), ('flowery', 1760), ('pedestrians', 1761), ('ends', 1762), ('star', 1763), ('bends', 1764), ('tights', 1765), ('individuals', 1766), ('beverage', 1767), ('observes', 1768), ('footballer', 1769), ('canyon', 1770), ('artificial', 1771), ('poster', 1772), ('bouncy', 1773), ('hut', 1774), ('pours', 1775), ('motorcyclists', 1776), ('boards', 1777), ('dancer', 1778), ('elaborate', 1779), ('club', 1780), ('graffitied', 1781), ('within', 1782), ('fireplace', 1783), ('wades', 1784), ('sing', 1785), ('pet', 1786), ('barks', 1787), ('brother', 1788), ('artist', 1789), ('heels', 1790), ('apple', 1791), ('ribbons', 1792), ('blurred', 1793), ('mug', 1794), ('trashcan', 1795), ('museum', 1796), ('hurdles', 1797), ('cage', 1798), ('cats', 1799), ('drum', 1800), ('cows', 1801), ('sunlight', 1802), ('fisherman', 1803), ('summer', 1804), ('poodles', 1805), ('bone', 1806), ('tuxedos', 1807), ('logs', 1808), ('stove', 1809), ('native', 1810), ('accordion', 1811), ('target', 1812), ('hospital', 1813), ('yelling', 1814), ('squirting', 1815), ('extreme', 1816), ('own', 1817), ('lane', 1818), ('sailboat', 1819), ('characters', 1820), ('incline', 1821), ('squatting', 1822), ('overlooks', 1823), ('nighttime', 1824), ('checking', 1825), ('silhouetted', 1826), ('sat', 1827), ('ninja', 1828), ('cheering', 1829), ('including', 1830), ('socks', 1831), ('progress', 1832), ('pointed', 1833), ('photos', 1834), ('muscular', 1835), ('labrador', 1836), ('handlebars', 1837), ('bicycler', 1838), ('lower', 1839), ('tattooed', 1840), ('pauses', 1841), ('strapped', 1842), ('television', 1843), ('european', 1844), ('kicked', 1845), ('gymnast', 1846), ('sort', 1847), ('peeks', 1848), ('rolled', 1849), ('tiny', 1850), ('motor', 1851), ('trash', 1852), ('cans', 1853), ('alike', 1854), ('sidelines', 1855), ('broom', 1856), ('operating', 1857), ('dive', 1858), ('scenery', 1859), ('magazines', 1860), ('religious', 1861), ('descends', 1862), ('driven', 1863), ('sporting', 1864), ('fat', 1865), ('ballet', 1866), ('stretched', 1867), ('bounding', 1868), ('amongst', 1869), ('marsh', 1870), ('juice', 1871), ('o', 1872), ('works', 1873), ('college', 1874), ('score', 1875), ('singer', 1876), ('lighting', 1877), ('guitars', 1878), ('turquoise', 1879), ('retrieve', 1880), ('pot', 1881), ('leashed', 1882), ('tile', 1883), ('firetruck', 1884), ('dancers', 1885), ('tractor', 1886), ('frolics', 1887), ('ran', 1888), ('whist', 1889), ('polo', 1890), ('new', 1891), ('bent', 1892), ('shirted', 1893), ('mini', 1894), ('sprays', 1895), ('emerging', 1896), ('pads', 1897), ('dinner', 1898), ('plates', 1899), ('dusty', 1900), ('container', 1901), ('bundled', 1902), ('robot', 1903), ('interacting', 1904), ('mobile', 1905), ('posts', 1906), ('parasailing', 1907), ('jumpsuit', 1908), ('skeleton', 1909), ('rings', 1910), ('piano', 1911), ('hall', 1912), ('saying', 1913), ('spider', 1914), ('pretending', 1915), ('noses', 1916), ('numbers', 1917), ('snowbank', 1918), ('harnesses', 1919), ('spot', 1920), ('bridesmaids', 1921), ('button', 1922), ('logo', 1923), ('strollers', 1924), ('skiiers', 1925), ('garbage', 1926), ('cups', 1927), ('marathon', 1928), ('squirrel', 1929), ('security', 1930), ('snowboarders', 1931), ('dandelion', 1932), ('chopsticks', 1933), ('fellow', 1934), ('pitching', 1935), ('fencing', 1936), ('boston', 1937), ('stall', 1938), ('doors', 1939), ('helmeted', 1940), ('love', 1941), ('oriental', 1942), ('pinata', 1943), ('badminton', 1944), ('rocket', 1945), ('skips', 1946), ('horizontal', 1947), ('heart', 1948), ('garb', 1949), ('bowls', 1950), ('legged', 1951), ('shovels', 1952), ('vertical', 1953), ('lifting', 1954), ('pyramid', 1955), ('asphalt', 1956), ('dragging', 1957), ('storm', 1958), ('starring', 1959), ('library', 1960), ('facial', 1961), ('garage', 1962), ('handed', 1963), ('electronic', 1964), ('skies', 1965), ('aiming', 1966), ('performance', 1967), ('potato', 1968), ('sacks', 1969), ('blocking', 1970), ('guarding', 1971), ('things', 1972), ('tackles', 1973), ('joy', 1974), ('plank', 1975), ('clearing', 1976), ('billboard', 1977), ('peeking', 1978), ('kayakers', 1979), ('mom', 1980), ('straps', 1981), ('come', 1982), ('hilly', 1983), ('youth', 1984), ('skaters', 1985), ('herding', 1986), ('pets', 1987), ('fashioned', 1988), ('bulldog', 1989), ('darkened', 1990), ('stores', 1991), ('papers', 1992), ('splits', 1993), ('nice', 1994), ('raincoat', 1995), ('industrial', 1996), ('interesting', 1997), ('movie', 1998), ('folded', 1999), ('rusty', 2000), ('books', 2001), ('paperwork', 2002), ('milk', 2003), ('performer', 2004), ('listens', 2005), ('eagle', 2006), ('parents', 2007), ('teddy', 2008), ('exhibit', 2009), ('items', 2010), ('obstacles', 2011), ('trumpet', 2012), ('marble', 2013), ('village', 2014), ('blocked', 2015), ('bounces', 2016), ('crashes', 2017), ('sleds', 2018), ('beak', 2019), ('port', 2020), ('breed', 2021), ('ascending', 2022), ('warmly', 2023), ('patches', 2024), ('sweaters', 2025), ('belongings', 2026), ('multicolor', 2027), ('sailing', 2028), ('act', 2029), ('dalmation', 2030), ('gown', 2031), ('marketplace', 2032), ('watermelon', 2033), ('sponsored', 2034), ('newborn', 2035), ('strewn', 2036), ('headdress', 2037), ('creating', 2038), ('serve', 2039), ('patterned', 2040), ('forested', 2041), ('watercraft', 2042), ('circuit', 2043), ('theater', 2044), ('dropping', 2045), ('backlit', 2046), ('couples', 2047), ('handle', 2048), ('border', 2049), ('ceiling', 2050), ('juggling', 2051), ('tarp', 2052), ('distorted', 2053), ('tape', 2054), ('travels', 2055), ('asking', 2056), ('sharing', 2057), ('ditch', 2058), ('hi', 2059), ('canal', 2060), ('give', 2061), ('share', 2062), ('mess', 2063), ('claus', 2064), ('boxes', 2065), ('beanie', 2066), ('quarterback', 2067), ('gas', 2068), ('dried', 2069), ('similar', 2070), ('injured', 2071), ('ticket', 2072), ('mans', 2073), ('flannel', 2074), ('bound', 2075), ('purses', 2076), ('everywhere', 2077), ('monster', 2078), ('sprints', 2079), ('policemen', 2080), ('overpass', 2081), ('son', 2082), ('babies', 2083), ('earrings', 2084), ('telescope', 2085), ('reddish', 2086), ('telephone', 2087), ('cleaning', 2088), ('apples', 2089), ('ramps', 2090), ('domino', 2091), ('firing', 2092), ('cutting', 2093), ('statues', 2094), ('squirt', 2095), ('baseman', 2096), ('cliffs', 2097), ('haircut', 2098), ('priest', 2099), ('grins', 2100), ('surprised', 2101), ('backdrop', 2102), ('melting', 2103), ('pieces', 2104), ('tongues', 2105), ('brindle', 2106), ('batting', 2107), ('suburban', 2108), ('speak', 2109), ('thick', 2110), ('studio', 2111), ('containing', 2112), ('checked', 2113), ('enter', 2114), ('mickey', 2115), ('cries', 2116), ('starts', 2117), ('reflecting', 2118), ('launches', 2119), ('handing', 2120), ('bug', 2121), ('tussle', 2122), ('maroon', 2123), ('trains', 2124), ('carrier', 2125), ('flaming', 2126), ('buy', 2127), ('snowboards', 2128), ('airport', 2129), ('soldier', 2130), ('droplets', 2131), ('unseen', 2132), ('teaching', 2133), ('forehead', 2134), ('expression', 2135), ('wakeboarder', 2136), ('chunk', 2137), ('colorfully', 2138), ('soaking', 2139), ('banners', 2140), ('nap', 2141), ('bottoms', 2142), ('dollar', 2143), ('slalom', 2144), ('pop', 2145), ('guitarist', 2146), ('letters', 2147), ('printed', 2148), ('crash', 2149), ('peaks', 2150), ('pokes', 2151), ('knife', 2152), ('hotel', 2153), ('writes', 2154), ('dribbling', 2155), ('seagull', 2156), ('stripe', 2157), ('written', 2158), ('seashore', 2159), ('dachshund', 2160), ('shed', 2161), ('participating', 2162), ('fairy', 2163), ('hides', 2164), ('packed', 2165), ('fairground', 2166), ('dangling', 2167), ('limb', 2168), ('chubby', 2169), ('chin', 2170), ('toss', 2171), ('eyed', 2172), ('smelling', 2173), ('trucks', 2174), ('fist', 2175), ('french', 2176), ('too', 2177), ('padded', 2178), ('clings', 2179), ('rag', 2180), ('raise', 2181), ('recently', 2182), ('motorbikes', 2183), ('crown', 2184), ('meet', 2185), ('sleeveless', 2186), ('lasso', 2187), ('clean', 2188), ('mountainous', 2189), ('record', 2190), ('outcropping', 2191), ('cute', 2192), ('fetches', 2193), ('roll', 2194), ('ankle', 2195), ('embracing', 2196), ('homemade', 2197), ('superman', 2198), ('aerial', 2199), ('start', 2200), ('beginning', 2201), ('lines', 2202), ('trench', 2203), ('disk', 2204), ('outstreached', 2205), ('lifted', 2206), ('backpacker', 2207), ('lining', 2208), ('chickens', 2209), ('steering', 2210), ('enclosure', 2211), ('viz', 2212), ('university', 2213), ('bridal', 2214), ('pad', 2215), ('machines', 2216), ('sister', 2217), ('highway', 2218), ('chainsaw', 2219), ('carving', 2220), ('tossed', 2221), ('gymnastics', 2222), ('mustache', 2223), ('overhang', 2224), ('peach', 2225), ('zip', 2226), ('rails', 2227), ('wheelbarrow', 2228), ('backstroke', 2229), ('yawning', 2230), ('deflated', 2231), ('fireworks', 2232), ('sparklers', 2233), ('kilt', 2234), ('located', 2235), ('bucking', 2236), ('jar', 2237), ('juggles', 2238), ('pointy', 2239), ('pumpkin', 2240), ('sparkler', 2241), ('snack', 2242), ('attention', 2243), ('resort', 2244), ('interact', 2245), ('spout', 2246), ('necked', 2247), ('cycling', 2248), ('furniture', 2249), ('pail', 2250), ('florida', 2251), ('firefighter', 2252), ('begging', 2253), ('treads', 2254), ('speeding', 2255), ('coloring', 2256), ('crossbones', 2257), ('turkeys', 2258), ('bouquet', 2259), ('magazine', 2260), ('evil', 2261), ('if', 2262), ('cigarettes', 2263), ('eyebrows', 2264), ('really', 2265), ('hopping', 2266), ('dumps', 2267), ('curtain', 2268), ('ferry', 2269), ('passengers', 2270), ('defending', 2271), ('armenian', 2272), ('genocide', 2273), ('hear', 2274), ('dim', 2275), ('afternoon', 2276), ('struggle', 2277), ('meeting', 2278), ('bathrobe', 2279), ('batter', 2280), ('glides', 2281), ('travel', 2282), ('rocking', 2283), ('clothed', 2284), ('strap', 2285), ('practice', 2286), ('tournament', 2287), ('peers', 2288), ('int', 2289), ('jogger', 2290), ('creature', 2291), ('flipped', 2292), ('gathers', 2293), ('wrestles', 2294), ('stunts', 2295), ('pug', 2296), ('skyscraper', 2297), ('bale', 2298), ('tags', 2299), ('ten', 2300), ('dyed', 2301), ('pelican', 2302), ('halter', 2303), ('formally', 2304), ('used', 2305), ('examining', 2306), ('nature', 2307), ('twisting', 2308), ('windsurfing', 2309), ('teaches', 2310), ('elevator', 2311), ('good', 2312), ('overlook', 2313), ('canvas', 2314), ('sleeve', 2315), ('directions', 2316), ('earphones', 2317), ('built', 2318), ('use', 2319), ('pro', 2320), ('newspapers', 2321), ('tiled', 2322), ('trots', 2323), ('lamp', 2324), ('steers', 2325), ('swampy', 2326), ('st', 2327), ('lunges', 2328), ('galloping', 2329), ('transportation', 2330), ('seating', 2331), ('cartwheels', 2332), ('tumbling', 2333), ('shrubs', 2334), ('cop', 2335), ('song', 2336), ('6', 2337), ('shephard', 2338), ('feathered', 2339), ('squirts', 2340), ('great', 2341), ('tracksuit', 2342), ('makeshift', 2343), ('bookstore', 2344), ('tool', 2345), ('playful', 2346), ('belt', 2347), ('submerged', 2348), ('feathers', 2349), ('smooth', 2350), ('butterfly', 2351), ('hairy', 2352), ('beyond', 2353), ('graduation', 2354), ('serious', 2355), ('circular', 2356), ('upper', 2357), ('posed', 2358), ('rod', 2359), ('card', 2360), ('collide', 2361), ('bumpy', 2362), ('bitten', 2363), ('whose', 2364), ('buggy', 2365), ('dunes', 2366), ('frying', 2367), ('filling', 2368), ('practices', 2369), ('overweight', 2370), ('terriers', 2371), ('stripped', 2372), ('camp', 2373), ('residential', 2374), ('footballers', 2375), ('casts', 2376), ('cords', 2377), ('cowboys', 2378), ('windsurfer', 2379), ('canopy', 2380), ('digital', 2381), ('strings', 2382), ('confetti', 2383), ('piggy', 2384), ('carefully', 2385), ('parasail', 2386), ('shines', 2387), ('greenhouse', 2388), ('tools', 2389), ('shining', 2390), ('lockers', 2391), ('challenging', 2392), ('power', 2393), ('uncut', 2394), ('athletes', 2395), ('waterfalls', 2396), ('dolphin', 2397), ('official', 2398), ('snowman', 2399), ('rack', 2400), ('apart', 2401), ('snake', 2402), ('bin', 2403), ('prepare', 2404), ('soaring', 2405), ('handbag', 2406), ('choppy', 2407), ('scantily', 2408), ('horns', 2409), ('goats', 2410), ('perched', 2411), ('liquid', 2412), ('soars', 2413), ('slopes', 2414), ('backpacking', 2415), ('storefront', 2416), ('jagged', 2417), ('sucking', 2418), ('blindfolded', 2419), ('placed', 2420), ('gymnasium', 2421), ('maneuvers', 2422), ('medieval', 2423), ('fog', 2424), ('series', 2425), ('toe', 2426), ('shades', 2427), ('waterway', 2428), ('cameraman', 2429), ('pounces', 2430), ('caution', 2431), ('playhouse', 2432), ('stones', 2433), ('lush', 2434), ('boarder', 2435), ('fencers', 2436), ('rafts', 2437), ('community', 2438), ('bracelet', 2439), ('sleeves', 2440), ('tails', 2441), ('bib', 2442), ('romp', 2443), ('festive', 2444), ('test', 2445), ('observing', 2446), ('campsite', 2447), ('drain', 2448), ('apartment', 2449), ('fireman', 2450), ('cellphones', 2451), ('cheeks', 2452), ('pattern', 2453), ('cobblestone', 2454), ('saddle', 2455), ('drummer', 2456), ('bagpipes', 2457), ('swans', 2458), ('insect', 2459), ('hooping', 2460), ('easter', 2461), ('michael', 2462), ('jackson', 2463), ('cutout', 2464), ('rubs', 2465), ('tutus', 2466), ('mascot', 2467), ('sidecar', 2468), ('hamburgers', 2469), ('guiding', 2470), ('keeps', 2471), ('oversized', 2472), ('bringing', 2473), ('paintings', 2474), ('cheerleading', 2475), ('docked', 2476), ('ollie', 2477), ('plush', 2478), ('podium', 2479), ('march', 2480), ('computers', 2481), ('hopscotch', 2482), ('pursued', 2483), ('celebrate', 2484), ('coverings', 2485), ('squeezing', 2486), ('zoo', 2487), ('form', 2488), ('lens', 2489), ('washington', 2490), ('wrapping', 2491), ('bluff', 2492), ('world', 2493), ('focus', 2494), ('entrance', 2495), ('check', 2496), ('casual', 2497), ('lime', 2498), ('boxers', 2499), ('punching', 2500), ('mossy', 2501), ('stuff', 2502), ('viewer', 2503), ('vine', 2504), ('shiny', 2505), ('offering', 2506), ('teens', 2507), ('gymnastic', 2508), ('scruffy', 2509), ('attacking', 2510), ('dad', 2511), ('poking', 2512), ('shadows', 2513), ('tray', 2514), ('sale', 2515), ('cob', 2516), ('snarling', 2517), ('gazing', 2518), ('intently', 2519), ('bales', 2520), ('corgi', 2521), ('upturned', 2522), ('feeds', 2523), ('earring', 2524), ('marx', 2525), ('higher', 2526), ('than', 2527), ('massive', 2528), ('sailor', 2529), ('split', 2530), ('runway', 2531), ('connected', 2532), ('waterski', 2533), ('towed', 2534), ('jetty', 2535), ('keep', 2536), ('portrait', 2537), ('mean', 2538), ('kind', 2539), ('backward', 2540), ('objects', 2541), ('twirling', 2542), ('breath', 2543), ('bears', 2544), ('floors', 2545), ('performers', 2546), ('artists', 2547), ('jog', 2548), ('scratching', 2549), ('derby', 2550), ('somersault', 2551), ('cartwheel', 2552), ('hovering', 2553), ('kneel', 2554), ('braids', 2555), ('shelter', 2556), ('downtown', 2557), ('main', 2558), ('saxophone', 2559), ('arch', 2560), ('cookie', 2561), ('evening', 2562), ('camo', 2563), ('sewing', 2564), ('musician', 2565), ('spotlight', 2566), ('reception', 2567), ('except', 2568), ('individual', 2569), ('conversing', 2570), ('rottweiler', 2571), ('irish', 2572), ('engine', 2573), ('closely', 2574), ('model', 2575), ('abandoned', 2576), ('snowing', 2577), ('thumb', 2578), ('celebrating', 2579), ('upward', 2580), ('dining', 2581), ('themed', 2582), ('placing', 2583), ('called', 2584), ('somthing', 2585), ('plushie', 2586), ('guns', 2587), ('alleyway', 2588), ('shawl', 2589), ('beers', 2590), ('elegant', 2591), ('snap', 2592), ('fell', 2593), ('lion', 2594), ('interested', 2595), ('rainy', 2596), ('handgun', 2597), ('converse', 2598), ('suited', 2599), ('columns', 2600), ('freshly', 2601), ('material', 2602), ('conversation', 2603), ('chatting', 2604), ('dolphins', 2605), ('roadway', 2606), ('order', 2607), ('cigars', 2608), ('screaming', 2609), ('tiara', 2610), ('pretty', 2611), ('ornate', 2612), ('croquet', 2613), ('igloo', 2614), ('sells', 2615), ('popping', 2616), ('leafless', 2617), ('posters', 2618), ('rubbing', 2619), ('hello', 2620), ('kitty', 2621), ('seeds', 2622), ('dunking', 2623), ('monitor', 2624), ('framed', 2625), ('sparring', 2626), ('potted', 2627), ('unusual', 2628), ('pumps', 2629), ('incoming', 2630), ('campus', 2631), ('gnawing', 2632), ('gesture', 2633), ('nearly', 2634), ('rescue', 2635), ('stepping', 2636), ('hound', 2637), ('dj', 2638), ('hips', 2639), ('location', 2640), ('pairs', 2641), ('breeds', 2642), ('partly', 2643), ('structures', 2644), ('classic', 2645), ('groomsmen', 2646), ('candle', 2647), ('rounds', 2648), ('pops', 2649), ('trails', 2650), ('sheets', 2651), ('atm', 2652), ('dalmatian', 2653), ('lambs', 2654), ('mats', 2655), ('column', 2656), ('cowgirl', 2657), ('special', 2658), ('pedestrian', 2659), ('gated', 2660), ('pasta', 2661), ('formations', 2662), ('parachuting', 2663), ('clowns', 2664), ('miniature', 2665), ('maneuver', 2666), ('combat', 2667), ('watering', 2668), ('frog', 2669), ('summit', 2670), ('winding', 2671), ('more', 2672), ('motorized', 2673), ('bagpipe', 2674), ('cheers', 2675), ('necklaces', 2676), ('watery', 2677), ('canoeing', 2678), ('heading', 2679), ('drilling', 2680), ('crowds', 2681), ('finish', 2682), ('extends', 2683), ('batsman', 2684), ('league', 2685), ('rival', 2686), ('bulls', 2687), ('navigates', 2688), ('greenery', 2689), ('headset', 2690), ('stopped', 2691), ('geyser', 2692), ('sunshade', 2693), ('doll', 2694), ('awning', 2695), ('extended', 2696), ('scary', 2697), ('gazes', 2698), ('flowing', 2699), ('bedroom', 2700), ('current', 2701), ('wilderness', 2702), ('screams', 2703), ('bows', 2704), ('ambulance', 2705), ('moment', 2706), ('checks', 2707), ('massage', 2708), ('glacier', 2709), ('ridding', 2710), ('acrobatic', 2711), ('huddled', 2712), ('photographers', 2713), ('lease', 2714), ('worn', 2715), ('laid', 2716), ('tinkerbell', 2717), ('sling', 2718), ('parent', 2719), ('rabbit', 2720), ('moustache', 2721), ('equestrian', 2722), ('tee', 2723), ('exercise', 2724), ('seal', 2725), ('clears', 2726), ('fields', 2727), ('striking', 2728), ('relax', 2729), ('crocodile', 2730), ('instructor', 2731), ('games', 2732), ('island', 2733), ('much', 2734), ('explosion', 2735), ('refrigerator', 2736), ('site', 2737), ('waiter', 2738), ('corndogs', 2739), ('frames', 2740), ('boa', 2741), ('trophy', 2742), ('devil', 2743), ('scooters', 2744), ('capes', 2745), ('litter', 2746), ('eggs', 2747), ('pierced', 2748), ('clover', 2749), ('limousine', 2750), ('wicker', 2751), ('participates', 2752), ('legos', 2753), ('pumpkins', 2754), ('chess', 2755), ('interviews', 2756), ('medals', 2757), ('peanut', 2758), ('butter', 2759), ('angels', 2760), ('jeeps', 2761), ('piles', 2762), ('upraised', 2763), ('hugged', 2764), ('avoid', 2765), ('ceremony', 2766), ('inground', 2767), ('searching', 2768), ('artwork', 2769), ('guide', 2770), ('squat', 2771), ('tagged', 2772), ('balanced', 2773), ('spreading', 2774), ('arab', 2775), ('diaper', 2776), ('quilt', 2777), ('possession', 2778), ('protection', 2779), ('squats', 2780), ('acting', 2781), ('rifle', 2782), ('sizes', 2783), ('props', 2784), ('brides', 2785), ('admires', 2786), ('barely', 2787), ('cutouts', 2788), ('trailing', 2789), ('lack', 2790), ('rushes', 2791), ('shots', 2792), ('offers', 2793), ('c', 2794), ('torn', 2795), ('misses', 2796), ('guards', 2797), ('register', 2798), ('route', 2799), ('punches', 2800), ('skatepark', 2801), ('veil', 2802), ('supplies', 2803), ('pillar', 2804), ('opponents', 2805), ('clinging', 2806), ('bowler', 2807), ('controller', 2808), ('shapes', 2809), ('faded', 2810), ('waterside', 2811), ('hell', 2812), ('vault', 2813), ('baton', 2814), ('battling', 2815), ('mouthed', 2816), ('spaniel', 2817), ('spring', 2818), ('fashion', 2819), ('company', 2820), ('mitt', 2821), ('groucho', 2822), ('seems', 2823), ('earth', 2824), ('upwards', 2825), ('battle', 2826), ('loop', 2827), ('parasails', 2828), ('escalator', 2829), ('countertop', 2830), ('chested', 2831), ('paying', 2832), ('sad', 2833), ('observed', 2834), ('tabby', 2835), ('sweatshirts', 2836), ('bodies', 2837), ('wigs', 2838), ('rowers', 2839), ('prizes', 2840), ('toboggan', 2841), ('begin', 2842), ('russell', 2843), ('marks', 2844), ('bernard', 2845), ('exercises', 2846), ('scratches', 2847), ('woven', 2848), ('nurses', 2849), ('cracker', 2850), ('potty', 2851), ('gesturing', 2852), ('somebody', 2853), ('sequined', 2854), ('impeach', 2855), ('traverses', 2856), ('brings', 2857), ('nude', 2858), ('struggles', 2859), ('flings', 2860), ('newly', 2861), ('stay', 2862), ('touched', 2863), ('greet', 2864), ('learning', 2865), ('slacks', 2866), ('billowing', 2867), ('pinned', 2868), ('will', 2869), ('depicting', 2870), ('unknown', 2871), ('returning', 2872), ('political', 2873), ('british', 2874), ('vegetation', 2875), ('attractive', 2876), ('barricade', 2877), ('department', 2878), ('embraces', 2879), ('jug', 2880), ('admire', 2881), ('surfboards', 2882), ('sniff', 2883), ('cabin', 2884), ('nightclub', 2885), ('shoppers', 2886), ('obscured', 2887), ('wristbands', 2888), ('wires', 2889), ('soap', 2890), ('tips', 2891), ('threw', 2892), ('goofy', 2893), ('raceway', 2894), ('cane', 2895), ('greenish', 2896), ('waterskies', 2897), ('twilight', 2898), ('whom', 2899), ('tap', 2900), ('flowering', 2901), ('lunch', 2902), ('china', 2903), ('crate', 2904), ('trailer', 2905), ('amid', 2906), ('pretend', 2907), ('vending', 2908), ('puppet', 2909), ('para', 2910), ('calf', 2911), ('astride', 2912), ('ruins', 2913), ('hammer', 2914), ('drops', 2915), ('chaps', 2916), ('underground', 2917), ('kitten', 2918), ('pitches', 2919), ('engage', 2920), ('fences', 2921), ('elder', 2922), ('sell', 2923), ('buses', 2924), ('dots', 2925), ('hip', 2926), ('liberty', 2927), ('bares', 2928), ('upon', 2929), ('floored', 2930), ('dig', 2931), ('bark', 2932), ('struggling', 2933), ('breaks', 2934), ('dunks', 2935), ('steel', 2936), ('crystal', 2937), ('displaying', 2938), ('baring', 2939), ('shallows', 2940), ('leave', 2941), ('teammates', 2942), ('repelling', 2943), ('castle', 2944), ('quad', 2945), ('support', 2946), ('pain', 2947), ('spreads', 2948), ('whistle', 2949), ('presentation', 2950), ('pretends', 2951), ('craft', 2952), ('carring', 2953), ('camcorder', 2954), ('films', 2955), ('horseshoes', 2956), ('propped', 2957), ('ancient', 2958), ('incense', 2959), ('mittens', 2960), ('navigating', 2961), ('rv', 2962), ('reached', 2963), ('mesh', 2964), ('popsicle', 2965), ('curious', 2966), ('launch', 2967), ('brownish', 2968), ('profile', 2969), ('barefooted', 2970), ('poised', 2971), ('elephants', 2972), ('turbans', 2973), ('dappled', 2974), ('walked', 2975), ('curvy', 2976), ('yoga', 2977), ('ties', 2978), ('balding', 2979), ('barbed', 2980), ('chat', 2981), ('saw', 2982), ('blacktop', 2983), ('master', 2984), ('bamboo', 2985), ('shine', 2986), ('observe', 2987), ('wintry', 2988), ('inflated', 2989), ('modern', 2990), ('beret', 2991), ('rushing', 2992), ('cable', 2993), ('pulley', 2994), ('walker', 2995), ('rise', 2996), ('casino', 2997), ('blindfolds', 2998), ('union', 2999), ('crab', 3000), ('workout', 3001), ('clay', 3002), ('puddles', 3003), ('assistance', 3004), ('grinning', 3005), ('completely', 3006), ('spiky', 3007), ('salon', 3008), ('wake', 3009), ('tourists', 3010), ('receives', 3011), ('scottish', 3012), ('fights', 3013), ('pouncing', 3014), ('active', 3015), ('complete', 3016), ('bandaged', 3017), ('archway', 3018), ('unique', 3019), ('ravine', 3020), ('nips', 3021), ('cotton', 3022), ('bit', 3023), ('bluejeans', 3024), ('admiring', 3025), ('whitewater', 3026), ('cash', 3027), ('kart', 3028), ('diner', 3029), ('socializing', 3030), ('pickup', 3031), ('corridor', 3032), ('nears', 3033), ('elevation', 3034), ('flooded', 3035), ('return', 3036), ('wipes', 3037), ('auditorium', 3038), ('barriers', 3039), ('dummy', 3040), ('bonnets', 3041), ('arched', 3042), ('tow', 3043), ('becomes', 3044), ('brooms', 3045), ('velvet', 3046), ('spigot', 3047), ('decorative', 3048), ('morning', 3049), ('seattle', 3050), ('surfboarder', 3051), ('snowmobiles', 3052), ('sooner', 3053), ('lipstick', 3054), ('cargo', 3055), ('sledge', 3056), ('lobby', 3057), ('lie', 3058), ('when', 3059), ('curved', 3060), ('curiously', 3061), ('icicle', 3062), ('stripy', 3063), ('canon', 3064), ('oar', 3065), ('australian', 3066), ('spiked', 3067), ('jacked', 3068), ('height', 3069), ('bananas', 3070), ('garter', 3071), ('piercing', 3072), ('size', 3073), ('sundress', 3074), ('rollerskates', 3075), ('booths', 3076), ('brushes', 3077), ('bedspread', 3078), ('louis', 3079), ('vuitton', 3080), ('mechanical', 3081), ('floatation', 3082), ('aims', 3083), ('leggings', 3084), ('led', 3085), ('cracked', 3086), ('pasture', 3087), ('strips', 3088), ('misty', 3089), ('alligator', 3090), ('trip', 3091), ('double', 3092), ('drenched', 3093), ('speedo', 3094), ('u', 3095), ('defends', 3096), ('portable', 3097), ('toilets', 3098), ('mets', 3099), ('story', 3100), ('collared', 3101), ('contest', 3102), ('standard', 3103), ('gift', 3104), ('unhappy', 3105), ('signal', 3106), ('presents', 3107), ('awards', 3108), ('sleigh', 3109), ('howling', 3110), ('numerous', 3111), ('suds', 3112), ('diners', 3113), ('messy', 3114), ('huts', 3115), ('assisting', 3116), ('washing', 3117), ('prize', 3118), ('diapers', 3119), ('roadside', 3120), ('chains', 3121), ('presses', 3122), ('lollipop', 3123), ('washes', 3124), ('words', 3125), ('lounging', 3126), ('uno', 3127), ('wetsuits', 3128), ('odd', 3129), ('limo', 3130), ('beat', 3131), ('marches', 3132), ('siting', 3133), ('ballerinas', 3134), ('smartly', 3135), ('examine', 3136), ('sponge', 3137), ('ok', 3138), ('mountaineer', 3139), ('swung', 3140), ('unison', 3141), ('seesaw', 3142), ('inspecting', 3143), ('stained', 3144), ('chained', 3145), ('lip', 3146), ('meter', 3147), ('arrow', 3148), ('drawn', 3149), ('condoms', 3150), ('cannon', 3151), ('centipede', 3152), ('slipper', 3153), ('gigolo', 3154), ('hopper', 3155), ('carton', 3156), ('contraption', 3157), ('ornamental', 3158), ('piercings', 3159), ('dumbbell', 3160), ('executes', 3161), ('shrubbery', 3162), ('hundreds', 3163), ('radio', 3164), ('melted', 3165), ('hung', 3166), ('cycle', 3167), ('recorder', 3168), ('apparatus', 3169), ('congregate', 3170), ('file', 3171), ('encouraging', 3172), ('thorugh', 3173), ('speech', 3174), ('skin', 3175), ('determined', 3176), ('desks', 3177), ('directly', 3178), ('because', 3179), ('sprinting', 3180), ('expressions', 3181), ('ethnic', 3182), ('tackler', 3183), ('scrambling', 3184), ('smock', 3185), ('varying', 3186), ('gowns', 3187), ('roses', 3188), ('shell', 3189), ('sack', 3190), ('memorial', 3191), ('views', 3192), ('missed', 3193), ('purchasing', 3194), ('purchase', 3195), ('stroll', 3196), ('bmw', 3197), ('vintage', 3198), ('we', 3199), ('fighter', 3200), ('feed', 3201), ('loaded', 3202), ('23', 3203), ('tide', 3204), ('crocs', 3205), ('baskets', 3206), ('spell', 3207), ('say', 3208), ('else', 3209), ('labradoodle', 3210), ('showering', 3211), ('bathe', 3212), ('learn', 3213), ('shack', 3214), ('oxford', 3215), ('labeled', 3216), ('growls', 3217), ('fiery', 3218), ('pins', 3219), ('piggyback', 3220), ('touchdown', 3221), ('novelty', 3222), ('dye', 3223), ('sunrise', 3224), ('mounds', 3225), ('heron', 3226), ('egret', 3227), ('fatigues', 3228), ('forefront', 3229), ('intense', 3230), ('sundown', 3231), ('persons', 3232), ('mop', 3233), ('safely', 3234), ('windsurfs', 3235), ('film', 3236), ('leaped', 3237), ('build', 3238), ('pillows', 3239), ('priests', 3240), ('routine', 3241), ('clap', 3242), ('peek', 3243), ('squeeze', 3244), ('comic', 3245), ('self', 3246), ('punk', 3247), ('arabian', 3248), ('offstage', 3249), ('ipod', 3250), ('tour', 3251), ('tubing', 3252), ('slab', 3253), ('foothills', 3254), ('activity', 3255), ('reflections', 3256), ('railway', 3257), ('patiently', 3258), ('markers', 3259), ('extravagant', 3260), ('iced', 3261), ('gloved', 3262), ('banks', 3263), ('burgundy', 3264), ('streamers', 3265), ('frowning', 3266), ('wraps', 3267), ('fit', 3268), ('tussling', 3269), ('housing', 3270), ('jukebox', 3271), ('united', 3272), ('states', 3273), ('demonstrating', 3274), ('billboards', 3275), ('leaned', 3276), ('nursing', 3277), ('backed', 3278), ('reeds', 3279), ('speckled', 3280), ('rafters', 3281), ('awaiting', 3282), ('escape', 3283), ('bass', 3284), ('pistol', 3285), ('toast', 3286), ('served', 3287), ('gap', 3288), ('browses', 3289), ('fangs', 3290), ('engaged', 3291), ('adorned', 3292), ('bunk', 3293), ('camper', 3294), ('environment', 3295), ('lodge', 3296), ('feature', 3297), ('setter', 3298), ('littered', 3299), ('dove', 3300), ('pride', 3301), ('establishment', 3302), ('facility', 3303), ('polaris', 3304), ('snows', 3305), ('africans', 3306), ('barber', 3307), ('rundown', 3308), ('ignoring', 3309), ('pocket', 3310), ('capped', 3311), ('fixing', 3312), ('yorkie', 3313), ('americans', 3314), ('places', 3315), ('headscarfs', 3316), ('lemonade', 3317), ('rooftop', 3318), ('moss', 3319), ('ultimate', 3320), ('crumbling', 3321), ('closes', 3322), ('leapfrog', 3323), ('videotaping', 3324), ('defensive', 3325), ('scuffle', 3326), ('strapless', 3327), ('lecture', 3328), ('landed', 3329), ('greyish', 3330), ('super', 3331), ('vegetables', 3332), ('sari', 3333), ('fires', 3334), ('onward', 3335), ('serving', 3336), ('corners', 3337), ('mixing', 3338), ('interracial', 3339), ('elevated', 3340), ('wolf', 3341), ('blossoming', 3342), ('blossoms', 3343), ('soldiers', 3344), ('passenger', 3345), ('finished', 3346), ('overgrown', 3347), ('occupied', 3348), ('carousel', 3349), ('ejected', 3350), ('serves', 3351), ('shoeless', 3352), ('steer', 3353), ('twig', 3354), ('region', 3355), ('spanish', 3356), ('mix', 3357), ('wildflowers', 3358), ('handicapped', 3359), ('railed', 3360), ('electronics', 3361), ('devices', 3362), ('scouts', 3363), ('headlights', 3364), ('peering', 3365), ('piled', 3366), ('paperback', 3367), ('cots', 3368), ('beds', 3369), ('hopes', 3370), ('mambo', 3371), ('humping', 3372), ('shaded', 3373), ('hurrying', 3374), ('casually', 3375), ('york', 3376), ('expanse', 3377), ('turban', 3378), ('fill', 3379), ('grazes', 3380), ('dalmatians', 3381), ('spar', 3382), ('clutching', 3383), ('easel', 3384), ('shady', 3385), ('moped', 3386), ('drivers', 3387), ('abseiling', 3388), ('grasses', 3389), ('beaded', 3390), ('com', 3391), ('pedal', 3392), ('shelf', 3393), ('riverbank', 3394), ('tea', 3395), ('beverages', 3396), ('mannequins', 3397), ('nike', 3398), ('belts', 3399), ('competitive', 3400), ('parachutes', 3401), ('roughly', 3402), ('dug', 3403), ('coastline', 3404), ('horseshoe', 3405), ('strikes', 3406), ('butt', 3407), ('inspects', 3408), ('muscle', 3409), ('blood', 3410), ('carved', 3411), ('feild', 3412), ('aid', 3413), ('quarter', 3414), ('prisoner', 3415), ('masked', 3416), ('note', 3417), ('olympics', 3418), ('youn', 3419), ('buying', 3420), ('watermelons', 3421), ('donut', 3422), ('angle', 3423), ('cluster', 3424), ('amused', 3425), ('carves', 3426), ('sipping', 3427), ('fleece', 3428), ('farmers', 3429), ('messily', 3430), ('spaghetti', 3431), ('customer', 3432), ('web', 3433), ('cam', 3434), ('tugs', 3435), ('hops', 3436), ('repels', 3437), ('spandex', 3438), ('panel', 3439), ('name', 3440), ('badge', 3441), ('colander', 3442), ('mountaineers', 3443), ('sweat', 3444), ('phrase', 3445), ('springs', 3446), ('similarly', 3447), ('punch', 3448), ('temple', 3449), ('spotters', 3450), ('harnessed', 3451), ('keeping', 3452), ('aim', 3453), ('trimmed', 3454), ('monk', 3455), ('wrap', 3456), ('boulders', 3457), ('bill', 3458), ('bills', 3459), ('energizer', 3460), ('attraction', 3461), ('waring', 3462), ('signing', 3463), ('created', 3464), ('reindeer', 3465), ('chats', 3466), ('kimonos', 3467), ('waterfront', 3468), ('winds', 3469), ('bra', 3470), ('afro', 3471), ('dinghy', 3472), ('hide', 3473), ('crests', 3474), ('shelves', 3475), ('done', 3476), ('sparse', 3477), ('tattered', 3478), ('drift', 3479), ('upset', 3480), ('streaming', 3481), ('ad', 3482), ('protects', 3483), ('suspenders', 3484), ('glow', 3485), ('decoration', 3486), ('overturned', 3487), ('afghan', 3488), ('prom', 3489), ('lighter', 3490), ('approach', 3491), ('boot', 3492), ('musher', 3493), ('drill', 3494), ('iron', 3495), ('had', 3496), ('travelling', 3497), ('goalkeeper', 3498), ('crevasse', 3499), ('bared', 3500), ('period', 3501), ('stoop', 3502), ('sandal', 3503), ('victory', 3504), ('mist', 3505), ('moon', 3506), ('colliding', 3507), ('dinosaur', 3508), ('tip', 3509), ('lolly', 3510), ('oars', 3511), ('seem', 3512), ('sloped', 3513), ('cookies', 3514), ('pedals', 3515), ('upright', 3516), ('videotaped', 3517), ('alert', 3518), ('completes', 3519), ('records', 3520), ('cord', 3521), ('wasteland', 3522), ('rounding', 3523), ('bandage', 3524), ('hairstyle', 3525), ('wiping', 3526), ('treks', 3527), ('aisle', 3528), ('praying', 3529), ('early', 3530), ('saris', 3531), ('tuxedo', 3532), ('skills', 3533), ('sparks', 3534), ('tethered', 3535), ('motorboat', 3536), ('waterskis', 3537), ('jesus', 3538), ('shrine', 3539), ('basement', 3540), ('coaching', 3541), ('lagoon', 3542), ('swooping', 3543), ('mock', 3544), ('sees', 3545), ('junk', 3546), ('shouting', 3547), ('award', 3548), ('tickets', 3549), ('groceries', 3550), ('spikes', 3551), ('length', 3552), ('terrace', 3553), ('torso', 3554), ('speaker', 3555), ('late', 3556), ('secured', 3557), ('causing', 3558), ('contents', 3559), ('dotted', 3560), ('adjusting', 3561), ('zara', 3562), ('strike', 3563), ('passed', 3564), ('chewed', 3565), ('retrievers', 3566), ('bricks', 3567), ('darker', 3568), ('language', 3569), ('flapping', 3570), ('saber', 3571), ('grown', 3572), ('skipping', 3573), ('sails', 3574), ('removing', 3575), ('labs', 3576), ('laptops', 3577), ('livestock', 3578), ('accompanied', 3579), ('decorations', 3580), ('dragged', 3581), ('oxen', 3582), ('dodges', 3583), ('rollerskater', 3584), ('fort', 3585), ('facepaint', 3586), ('suitcase', 3587), ('india', 3588), ('goatee', 3589), ('submerges', 3590), ('missing', 3591), ('mowed', 3592), ('call', 3593), ('paraglider', 3594), ('sox', 3595), ('zigzag', 3596), ('atvs', 3597), ('descent', 3598), ('theme', 3599), ('phones', 3600), ('crack', 3601), ('change', 3602), ('goose', 3603), ('cuts', 3604), ('fresh', 3605), ('youngsters', 3606), ('cooks', 3607), ('washed', 3608), ('retaining', 3609), ('nipple', 3610), ('aquarium', 3611), ('surround', 3612), ('firefighters', 3613), ('mark', 3614), ('brothers', 3615), ('coated', 3616), ('happening', 3617), ('balck', 3618), ('stride', 3619), ('messenger', 3620), ('images', 3621), ('passerby', 3622), ('grasps', 3623), ('cook', 3624), ('captured', 3625), ('tower', 3626), ('licked', 3627), ('fighters', 3628), ('wakeboards', 3629), ('dramatically', 3630), ('potties', 3631), ('vast', 3632), ('find', 3633), ('thatched', 3634), ('penske', 3635), ('america', 3636), ('saxophones', 3637), ('married', 3638), ('menus', 3639), ('menu', 3640), ('minivan', 3641), ('harbor', 3642), ('tugboat', 3643), ('letter', 3644), ('winks', 3645), ('winking', 3646), ('displayed', 3647), ('mime', 3648), ('scared', 3649), ('biplane', 3650), ('ragged', 3651), ('wielding', 3652), ('basketballs', 3653), ('frolicking', 3654), ('groups', 3655), ('huskies', 3656), ('prancing', 3657), ('rises', 3658), ('windy', 3659), ('curled', 3660), ('trim', 3661), ('grilling', 3662), ('tandem', 3663), ('winner', 3664), ('boundary', 3665), ('confused', 3666), ('involving', 3667), ('cliffside', 3668), ('dragon', 3669), ('ollies', 3670), ('engulfed', 3671), ('firemen', 3672), ('tangled', 3673), ('straddles', 3674), ('sprint', 3675), ('laundry', 3676), ('entering', 3677), ('prevent', 3678), ('strolls', 3679), ('chops', 3680), ('gull', 3681), ('sorts', 3682), ('shadowed', 3683), ('draw', 3684), ('crib', 3685), ('chili', 3686), ('steam', 3687), ('keyboard', 3688), ('noodles', 3689), ('trekking', 3690), ('v', 3691), ('hooking', 3692), ('nets', 3693), ('penguins', 3694), ('downward', 3695), ('pigeon', 3696), ('oppose', 3697), ('clause', 3698), ('figures', 3699), ('chip', 3700), ('overcoat', 3701), ('hummer', 3702), ('conversations', 3703), ('crank', 3704), ('hovers', 3705), ('plains', 3706), ('fries', 3707), ('hearts', 3708), ('defenders', 3709), ('guided', 3710), ('wrists', 3711), ('bats', 3712), ('ages', 3713), ('lighthouse', 3714), ('wheelers', 3715), ('sunshine', 3716), ('sippy', 3717), ('marina', 3718), ('flinging', 3719), ('copper', 3720), ('merchandise', 3721), ('waking', 3722), ('lassie', 3723), ('squares', 3724), ('leafs', 3725), ('cooling', 3726), ('investigate', 3727), ('dragsters', 3728), ('flung', 3729), ('dew', 3730), ('locking', 3731), ('interviewed', 3732), ('mr', 3733), ('p', 3734), ('picket', 3735), ('segway', 3736), ('tilted', 3737), ('flyer', 3738), ('19', 3739), ('products', 3740), ('lobster', 3741), ('redbull', 3742), ('horn', 3743), ('earpiece', 3744), ('photographing', 3745), ('llama', 3746), ('beachgoers', 3747), ('flop', 3748), ('dandelions', 3749), ('amish', 3750), ('parrot', 3751), ('fives', 3752), ('straining', 3753), ('ringing', 3754), ('trade', 3755), ('poem', 3756), ('toothbrush', 3757), ('scrubbing', 3758), ('applies', 3759), ('featuring', 3760), ('buoy', 3761), ('recliner', 3762), ('wharf', 3763), ('kit', 3764), ('bulldogs', 3765), ('las', 3766), ('vegas', 3767), ('retreiver', 3768), ('gaze', 3769), ('tram', 3770), ('raining', 3771), ('storefronts', 3772), ('designed', 3773), ('cannonball', 3774), ('treading', 3775), ('bun', 3776), ('recording', 3777), ('monitors', 3778), ('microphones', 3779), ('present', 3780), ('excitement', 3781), ('grayhound', 3782), ('claps', 3783), ('doggy', 3784), ('soled', 3785), ('blankets', 3786), ('gain', 3787), ('dumping', 3788), ('cry', 3789), ('armbands', 3790), ('simpsons', 3791), ('cartoon', 3792), ('burlap', 3793), ('turf', 3794), ('flows', 3795), ('sunsets', 3796), ('d', 3797), ('wintery', 3798), ('ripping', 3799), ('feels', 3800), ('keeper', 3801), ('vw', 3802), ('daredevil', 3803), ('packages', 3804), ('piloting', 3805), ('goods', 3806), ('fully', 3807), ('flea', 3808), ('sveral', 3809), ('remote', 3810), ('castles', 3811), ('sandbox', 3812), ('eastpak', 3813), ('peeing', 3814), ('urinating', 3815), ('containers', 3816), ('learns', 3817), ('tubes', 3818), ('hidden', 3819), ('tote', 3820), ('aimed', 3821), ('farmland', 3822), ('separate', 3823), ('scrubland', 3824), ('extremely', 3825), ('smirks', 3826), ('sheppard', 3827), ('herds', 3828), ('fathers', 3829), ('binocular', 3830), ('choir', 3831), ('colonial', 3832), ('victorian', 3833), ('fanny', 3834), ('frisbees', 3835), ('freestyle', 3836), ('pajama', 3837), ('columned', 3838), ('steadies', 3839), ('gorgeous', 3840), ('dancefloor', 3841), ('workshop', 3842), ('attentive', 3843), ('those', 3844), ('straddle', 3845), ('cardigan', 3846), ('spiral', 3847), ('reviewing', 3848), ('took', 3849), ('climbed', 3850), ('baked', 3851), ('fierce', 3852), ('pitchers', 3853), ('whiel', 3854), ('robed', 3855), ('glancing', 3856), ('peer', 3857), ('wiped', 3858), ('hate', 3859), ('henna', 3860), ('gras', 3861), ('fists', 3862), ('perpendicular', 3863), ('crooked', 3864), ('amnesty', 3865), ('international', 3866), ('attending', 3867), ('twirl', 3868), ('juggle', 3869), ('bystanders', 3870), ('celebrates', 3871), ('daytime', 3872), ('placid', 3873), ('won', 3874), ('greeting', 3875), ('kiosk', 3876), ('entitled', 3877), ('bicycling', 3878), ('tiles', 3879), ('crafts', 3880), ('crates', 3881), ('knocks', 3882), ('israel', 3883), ('sash', 3884), ('dozes', 3885), ('genetic', 3886), ('freak', 3887), ('care', 3888), ('toyota', 3889), ('lavender', 3890), ('arrangement', 3891), ('swoops', 3892), ('palying', 3893), ('punting', 3894), ('us', 3895), ('topped', 3896), ('ralley', 3897), ('canada', 3898), ('canadian', 3899), ('darkness', 3900), ('prairie', 3901), ('carying', 3902), ('ritz', 3903), ('stringed', 3904), ('launched', 3905), ('john', 3906), ('outrun', 3907), ('salmon', 3908), ('approached', 3909), ('flamboyant', 3910), ('protesters', 3911), ('exotic', 3912), ('toes', 3913), ('utensils', 3914), ('threatening', 3915), ('fork', 3916), ('bodysuit', 3917), ('humans', 3918), ('flopping', 3919), ('salt', 3920), ('marking', 3921), ('crazily', 3922), ('rapidly', 3923), ('trot', 3924), ('quarterpipe', 3925), ('classroom', 3926), ('english', 3927), ('chalkboard', 3928), ('teach', 3929), ('emitting', 3930), ('gay', 3931), ('defend', 3932), ('nails', 3933), ('blown', 3934), ('moonwalk', 3935), ('west', 3936), ('highland', 3937), ('forwards', 3938), ('surrounds', 3939), ('nutcracker', 3940), ('poor', 3941), ('wheat', 3942), ('choke', 3943), ('completing', 3944), ('stirs', 3945), ('mulch', 3946), ('pawing', 3947), ('1', 3948), ('ferns', 3949), ('andy', 3950), ('sequins', 3951), ('final', 3952), ('queen', 3953), ('waders', 3954), ('snuggles', 3955), ('tinted', 3956), ('slices', 3957), ('amplifier', 3958), ('browse', 3959), ('exposing', 3960), ('debris', 3961), ('startled', 3962), ('taping', 3963), ('looked', 3964), ('fedex', 3965), ('layer', 3966), ('statute', 3967), ('limbs', 3968), ('quilted', 3969), ('cloak', 3970), ('revealing', 3971), ('system', 3972), ('skids', 3973), ('amount', 3974), ('apparel', 3975), ('dip', 3976), ('exit', 3977), ('steal', 3978), ('joke', 3979), ('disguises', 3980), ('bout', 3981), ('hissing', 3982), ('staffordshire', 3983), ('studded', 3984), ('tribal', 3985), ('vert', 3986), ('nerf', 3987), ('hunched', 3988), ('curl', 3989), ('cherry', 3990), ('breasts', 3991), ('lavish', 3992), ('metro', 3993), ('effort', 3994), ('shipping', 3995), ('heard', 3996), ('dirtbikers', 3997), ('cockpit', 3998), ('gauges', 3999), ('vessel', 4000), ('were', 4001), ('chairlift', 4002), ('shake', 4003), ('anime', 4004), ('creates', 4005), ('wintertime', 4006), ('bands', 4007), ('mown', 4008), ('corral', 4009), ('transit', 4010), ('commercial', 4011), ('nine', 4012), ('mantle', 4013), ('eyebrow', 4014), ('handicap', 4015), ('perhaps', 4016), ('flashing', 4017), ('pylon', 4018), ('peaking', 4019), ('branded', 4020), ('rotweiler', 4021), ('halo', 4022), ('accident', 4023), ('visitors', 4024), ('portion', 4025), ('knitted', 4026), ('headwraps', 4027), ('kimono', 4028), ('awnings', 4029), ('wiener', 4030), ('know', 4031), ('scoop', 4032), ('skyward', 4033), ('transparent', 4034), ('competitor', 4035), ('vaulting', 4036), ('swimwear', 4037), ('guardrail', 4038), ('pilot', 4039), ('gardening', 4040), ('tend', 4041), ('dolly', 4042), ('desolate', 4043), ('viewing', 4044), ('bump', 4045), ('paintbrush', 4046), ('blouse', 4047), ('technical', 4048), ('supported', 4049), ('escorted', 4050), ('wed', 4051), ('wife', 4052), ('newlyweds', 4053), ('taller', 4054), ('eyeglasses', 4055), ('mountian', 4056), ('snarls', 4057), ('shit', 4058), ('taxi', 4059), ('draped', 4060), ('pour', 4061), ('poured', 4062), ('treated', 4063), ('topples', 4064), ('throught', 4065), ('north', 4066), ('carolina', 4067), ('drifting', 4068), ('overlooked', 4069), ('flexible', 4070), ('skydiver', 4071), ('manner', 4072), ('exploring', 4073), ('brilliant', 4074), ('slippers', 4075), ('reclining', 4076), ('tourist', 4077), ('daschund', 4078), ('varied', 4079), ('senior', 4080), ('baggage', 4081), ('dogsled', 4082), ('snapping', 4083), ('outs', 4084), ('drawings', 4085), ('penzance', 4086), ('false', 4087), ('grafitti', 4088), ('kept', 4089), ('downwards', 4090), ('chef', 4091), ('raging', 4092), ('strong', 4093), ('rafter', 4094), ('hollywood', 4095), ('examines', 4096), ('dads', 4097), ('sexy', 4098), ('hero', 4099), ('raced', 4100), ('weights', 4101), ('notebook', 4102), ('swerves', 4103), ('trials', 4104), ('gazebo', 4105), ('comfort', 4106), ('assist', 4107), ('headlong', 4108), ('nibbling', 4109), ('rising', 4110), ('stoops', 4111), ('stocking', 4112), ('semi', 4113), ('slam', 4114), ('intertube', 4115), ('tuxes', 4116), ('non', 4117), ('brimmed', 4118), ('twigs', 4119), ('reacts', 4120), ('gallops', 4121), ('hilltop', 4122), ('graze', 4123), ('frosty', 4124), ('directs', 4125), ('foal', 4126), ('wicket', 4127), ('controlling', 4128), ('complex', 4129), ('sites', 4130), ('shiner', 4131), ('customers', 4132), ('cramped', 4133), ('handled', 4134), ('snowfield', 4135), ('policewoman', 4136), ('streaked', 4137), ('finds', 4138), ('sound', 4139), ('stony', 4140), ('faced', 4141), ('foamy', 4142), ('collects', 4143), ('rummaging', 4144), ('overhanging', 4145), ('marine', 4146), ('worried', 4147), ('source', 4148), ('mottled', 4149), ('sloping', 4150), ('pristine', 4151), ('descend', 4152), ('bust', 4153), ('salvar', 4154), ('planeta', 4155), ('pearls', 4156), ('smeared', 4157), ('pudding', 4158), ('headlamp', 4159), ('birdcage', 4160), ('pig', 4161), ('flooring', 4162), ('winnie', 4163), ('pooh', 4164), ('collage', 4165), ('weaves', 4166), ('antlers', 4167), ('snuggling', 4168), ('scramble', 4169), ('triangular', 4170), ('divided', 4171), ('inverted', 4172), ('sombrero', 4173), ('crevice', 4174), ('dresser', 4175), ('applying', 4176), ('permed', 4177), ('asia', 4178), ('tears', 4179), ('character', 4180), ('gates', 4181), ('hitter', 4182), ('speedboat', 4183), ('puff', 4184), ('damaged', 4185), ('dwelling', 4186), ('thrower', 4187), ('sashes', 4188), ('weaving', 4189), ('pokemon', 4190), ('yells', 4191), ('attaching', 4192), ('plugging', 4193), ('sip', 4194), ('pump', 4195), ('adolescent', 4196), ('pointer', 4197), ('occasion', 4198), ('rose', 4199), ('protect', 4200), ('84', 4201), ('peterson', 4202), ('participant', 4203), ('warehouse', 4204), ('wrinkled', 4205), ('sight', 4206), ('cheered', 4207), ('adhd', 4208), ('bowed', 4209), ('ac', 4210), ('headdresses', 4211), ('nicely', 4212), ('ballplayer', 4213), ('antique', 4214), ('harvested', 4215), ('partner', 4216), ('squints', 4217), ('continue', 4218), ('schoolgirls', 4219), ('obedience', 4220), ('graphic', 4221), ('scoring', 4222), ('parlor', 4223), ('design', 4224), ('bouncer', 4225), ('manicured', 4226), ('artistic', 4227), ('bum', 4228), ('quietly', 4229), ('darkly', 4230), ('frolicks', 4231), ('flexing', 4232), ('setup', 4233), ('toolbox', 4234), ('bloody', 4235), ('jumpsuits', 4236), ('pilots', 4237), ('blazer', 4238), ('grapple', 4239), ('ace', 4240), ('forests', 4241), ('spouts', 4242), ('cattle', 4243), ('flailing', 4244), ('law', 4245), ('rifles', 4246), ('prayer', 4247), ('headbands', 4248), ('slice', 4249), ('nadal', 4250), ('need', 4251), ('calico', 4252), ('accents', 4253), ('speedos', 4254), ('hazmat', 4255), ('stretcher', 4256), ('dangerous', 4257), ('playgroud', 4258), ('mart', 4259), ('walmart', 4260), ('jousting', 4261), ('trays', 4262), ('spilled', 4263), ('streamer', 4264), ('grasp', 4265), ('once', 4266), ('logos', 4267), ('tambourines', 4268), ('trapped', 4269), ('age', 4270), ('accented', 4271), ('regalia', 4272), ('mounted', 4273), ('crust', 4274), ('chins', 4275), ('heavyset', 4276), ('commuters', 4277), ('faucet', 4278), ('includes', 4279), ('sinks', 4280), ('tubular', 4281), ('rubble', 4282), ('bushy', 4283), ('concentrates', 4284), ('rimmed', 4285), ('receive', 4286), ('pedestal', 4287), ('eldery', 4288), ('yawns', 4289), ('our', 4290), ('peaceful', 4291), ('undershirt', 4292), ('ascends', 4293), ('farmer', 4294), ('fashionably', 4295), ('solitary', 4296), ('shielding', 4297), ('coasting', 4298), ('tumbleweed', 4299), ('snowmobiling', 4300), ('await', 4301), ('supports', 4302), ('googles', 4303), ('sideline', 4304), ('collected', 4305), ('straddling', 4306), ('studies', 4307), ('roughhousing', 4308), ('avrovulcan', 4309), ('gentlemen', 4310), ('flew', 4311), ('lets', 4312), ('supporting', 4313), ('caravan', 4314), ('gnaws', 4315), ('rays', 4316), ('longsleeve', 4317), ('lick', 4318), ('weird', 4319), ('tartan', 4320), ('melts', 4321), ('drooling', 4322), ('gonzaga', 4323), ('filmed', 4324), ('waists', 4325), ('towers', 4326), ('grin', 4327), ('trousers', 4328), ('sweats', 4329), ('duke', 4330), ('spike', 4331), ('aerodynamic', 4332), ('pedaling', 4333), ('possessions', 4334), ('gothic', 4335), ('stains', 4336), ('breathing', 4337), ('barechested', 4338), ('slinging', 4339), ('sole', 4340), ('dusted', 4341), ('hunter', 4342), ('synchronized', 4343), ('snowmobiler', 4344), ('nursery', 4345), ('campground', 4346), ('blazing', 4347), ('cobbled', 4348), ('chart', 4349), ('couches', 4350), ('puffy', 4351), ('tired', 4352), ('daughters', 4353), ('buffalo', 4354), ('sweatsuit', 4355), ('glances', 4356), ('consumed', 4357), ('identically', 4358), ('bumps', 4359), ('recoils', 4360), ('youngster', 4361), ('everyone', 4362), ('package', 4363), ('wands', 4364), ('celebration', 4365), ('daisies', 4366), ('employees', 4367), ('fingerpaints', 4368), ('thinking', 4369), ('silk', 4370), ('mills', 4371), ('chandelier', 4372), ('brass', 4373), ('rears', 4374), ('drainage', 4375), ('satchel', 4376), ('lucky', 4377), ('mill', 4378), ('partying', 4379), ('stance', 4380), ('sailboard', 4381), ('launcher', 4382), ('released', 4383), ('ladle', 4384), ('walkers', 4385), ('flood', 4386), ('amphitheater', 4387), ('tooth', 4388), ('powder', 4389), ('shutters', 4390), ('mexico', 4391), ('grappling', 4392), ('capris', 4393), ('firehose', 4394), ('puckering', 4395), ('lump', 4396), ('western', 4397), ('mirrored', 4398), ('propping', 4399), ('crazy', 4400), ('towels', 4401), ('nipping', 4402), ('52', 4403), ('rollercoaster', 4404), ('zooming', 4405), ('axe', 4406), ('backhand', 4407), ('mingle', 4408), ('puma', 4409), ('given', 4410), ('handheld', 4411), ('showerhead', 4412), ('gondola', 4413), ('italy', 4414), ('crew', 4415), ('burrowing', 4416), ('david', 4417), ('poolside', 4418), ('avoiding', 4419), ('indescript', 4420), ('safari', 4421), ('traverse', 4422), ('taught', 4423), ('whisper', 4424), ('wool', 4425), ('mitten', 4426), ('spool', 4427), ('overall', 4428), ('thing', 4429), ('kissed', 4430), ('blues', 4431), ('cropped', 4432), ('handling', 4433), ('closing', 4434), ('nascar', 4435), ('shocked', 4436), ('ink', 4437), ('sportswear', 4438), ('281', 4439), ('concerned', 4440), ('trek', 4441), ('squinting', 4442), ('midget', 4443), ('acrobatics', 4444), ('changes', 4445), ('bearer', 4446), ('petals', 4447), ('architectural', 4448), ('digger', 4449), ('rickety', 4450), ('wildly', 4451), ('paddled', 4452), ('kickboxing', 4453), ('backpackers', 4454), ('snowed', 4455), ('electrical', 4456), ('fix', 4457), ('haystack', 4458), ('panting', 4459), ('affectionately', 4460), ('bathrooms', 4461), ('entangled', 4462), ('exiting', 4463), ('aggressive', 4464), ('bicyclers', 4465), ('cycles', 4466), ('sleek', 4467), ('navigate', 4468), ('specialized', 4469), ('any', 4470), ('cot', 4471), ('spoon', 4472), ('soup', 4473), ('ladles', 4474), ('recreational', 4475), ('outwards', 4476), ('restaurants', 4477), ('beams', 4478), ('restaraunt', 4479), (\"'n'\", 4480), ('pregnant', 4481), ('protester', 4482), ('pelicans', 4483), ('surgical', 4484), ('7', 4485), ('recieving', 4486), ('grounded', 4487), ('process', 4488), ('ringed', 4489), ('grove', 4490), ('glittery', 4491), ('companion', 4492), ('trike', 4493), ('rappels', 4494), ('bottled', 4495), ('most', 4496), ('needle', 4497), ('signals', 4498), ('flash', 4499), ('tented', 4500), ('produce', 4501), ('drapped', 4502), ('tether', 4503), ('barb', 4504), ('battles', 4505), ('mustached', 4506), ('fringe', 4507), ('chips', 4508), ('bi', 4509), ('product', 4510), ('displays', 4511), ('fireball', 4512), ('collection', 4513), ('pong', 4514), ('royal', 4515), ('loose', 4516), ('windowsill', 4517), ('attacked', 4518), ('pouch', 4519), ('chests', 4520), ('treats', 4521), ('involved', 4522), ('array', 4523), ('capri', 4524), ('stalks', 4525), ('husks', 4526), ('harmonica', 4527), ('cleans', 4528), ('pinstripe', 4529), ('auto', 4530), ('draft', 4531), ('n', 4532), ('pirates', 4533), ('madly', 4534), ('local', 4535), ('halfway', 4536), ('cloaks', 4537), ('halves', 4538), ('confrontation', 4539), ('soil', 4540), ('hoes', 4541), ('homes', 4542), ('receiving', 4543), ('rice', 4544), ('bellbottoms', 4545), ('sightseeing', 4546), ('clutches', 4547), ('automobiles', 4548), ('ref', 4549), ('lighted', 4550), ('unmanned', 4551), ('pom', 4552), ('poms', 4553), ('session', 4554), ('dome', 4555), ('shaft', 4556), ('spelunkers', 4557), ('florescent', 4558), ('embankment', 4559), ('buzy', 4560), ('notice', 4561), ('pre', 4562), ('retrieved', 4563), ('god', 4564), ('twisted', 4565), ('uw', 4566), ('odeon', 4567), ('104', 4568), ('subject', 4569), ('crow', 4570), ('slicker', 4571), ('underside', 4572), ('brochure', 4573), ('duffel', 4574), ('illuminated', 4575), ('tightly', 4576), ('12', 4577), ('laps', 4578), ('illustration', 4579), ('winning', 4580), ('brunettes', 4581), ('antenna', 4582), ('better', 4583), ('rush', 4584), ('refreshment', 4585), ('traversing', 4586), ('cheese', 4587), ('mustard', 4588), ('save', 4589), ('perches', 4590), ('clips', 4591), ('punctured', 4592), ('dachshunds', 4593), ('collecting', 4594), ('girder', 4595), ('hawaiian', 4596), ('lunchbox', 4597), ('twin', 4598), ('evergreen', 4599), ('thriller', 4600), ('stopping', 4601), ('furnace', 4602), ('hook', 4603), ('ornaments', 4604), ('prances', 4605), ('cattails', 4606), ('zombie', 4607), ('trooper', 4608), ('aig', 4609), ('blower', 4610), ('fours', 4611), ('powered', 4612), ('medal', 4613), ('parasailors', 4614), ('begs', 4615), ('backless', 4616), ('quiet', 4617), ('pencil', 4618), ('3rd', 4619), ('constructed', 4620), ('alcohol', 4621), ('21', 4622), ('frightened', 4623), ('measured', 4624), ('stepped', 4625), ('rockstar', 4626), ('energy', 4627), ('charging', 4628), ('tanned', 4629), ('mp3', 4630), ('best', 4631), ('amazing', 4632), ('murals', 4633), ('bonfire', 4634), ('sunbathers', 4635), ('pastry', 4636), ('interviewing', 4637), ('blur', 4638), ('dale', 4639), ('jr', 4640), ('flaps', 4641), ('tax', 4642), ('eleven', 4643), ('boarded', 4644), ('abandon', 4645), ('windmill', 4646), ('smilling', 4647), ('grasping', 4648), ('enthusiastically', 4649), ('tantrum', 4650), ('fairies', 4651), ('chow', 4652), ('vie', 4653), ('sheperd', 4654), ('sprawled', 4655), ('yell', 4656), ('minimal', 4657), ('hooker', 4658), ('scrubby', 4659), ('teeter', 4660), ('totter', 4661), ('rappelling', 4662), ('samsung', 4663), ('bracelets', 4664), ('amounts', 4665), ('sheltie', 4666), ('donning', 4667), ('donuts', 4668), ('gal', 4669), ('mouthguards', 4670), ('refuse', 4671), ('grips', 4672), ('mixed', 4673), ('greets', 4674), ('sparsely', 4675), ('spin', 4676), ('whips', 4677), ('bits', 4678), ('notes', 4679), ('puffs', 4680), ('precariously', 4681), ('sledder', 4682), ('mardi', 4683), ('canned', 4684), ('brook', 4685), ('comforting', 4686), ('daring', 4687), ('whit', 4688), ('reclines', 4689), ('investigates', 4690), ('streaks', 4691), ('sheepdog', 4692), ('headphone', 4693), ('prey', 4694), ('icing', 4695), ('ill', 4696), ('dodgeball', 4697), ('sucks', 4698), ('lock', 4699), ('alter', 4700), ('scrimmage', 4701), ('cascading', 4702), ('bodyboard', 4703), ('cbs', 4704), ('pyrotechnics', 4705), ('indians', 4706), ('amuseument', 4707), ('paneled', 4708), ('innertubes', 4709), ('album', 4710), ('retail', 4711), ('frosting', 4712), ('backgroud', 4713), ('staff', 4714), ('ponytails', 4715), ('cricketer', 4716), ('crocks', 4717), ('frilly', 4718), ('princess', 4719), ('website', 4720), ('twirls', 4721), ('ing', 4722), ('sparrow', 4723), ('join', 4724), ('possible', 4725), ('frolic', 4726), ('necks', 4727), ('patchy', 4728), ('times', 4729), ('snowstorm', 4730), ('bookshelf', 4731), ('news', 4732), ('found', 4733), ('favorite', 4734), ('scarfs', 4735), ('headwrap', 4736), ('umpire', 4737), ('banjo', 4738), ('real', 4739), ('gettin', 4740), ('ghostbusters', 4741), ('section', 4742), ('stuntman', 4743), ('backbends', 4744), ('finley', 4745), ('carabiner', 4746), ('information', 4747), ('marquee', 4748), ('aerobics', 4749), ('wristwatch', 4750), ('yorkshire', 4751), ('rugged', 4752), ('portland', 4753), ('oregon', 4754), ('certificates', 4755), ('root', 4756), ('smell', 4757), ('perspective', 4758), ('yarn', 4759), (\"n't\", 4760), ('judge', 4761), ('mosque', 4762), ('sinking', 4763), ('rover', 4764), ('longhaired', 4765), ('adjust', 4766), ('snoopy', 4767), ('judges', 4768), ('controls', 4769), ('barack', 4770), ('bloom', 4771), ('badges', 4772), ('olympic', 4773), ('smu', 4774), ('rocker', 4775), ('bagpipers', 4776), ('budweiser', 4777), ('whack', 4778), ('plow', 4779), ('bounced', 4780), ('roman', 4781), ('flippers', 4782), ('bullhorn', 4783), ('pups', 4784), ('spitting', 4785), ('spits', 4786), ('bell', 4787), ('doorbell', 4788), ('giants', 4789), ('kawasaki', 4790), ('loofa', 4791), ('winston', 4792), ('un', 4793), ('resembles', 4794), ('sprinkled', 4795), ('speach', 4796), ('stadning', 4797), ('baptized', 4798), ('dong', 4799), ('bloe', 4800), ('weight', 4801), ('magenta', 4802), ('exception', 4803), ('ridable', 4804), ('wristband', 4805), ('patterened', 4806), ('tidal', 4807), ('overflow', 4808), ('rhododendron', 4809), ('firends', 4810), ('flamboyantly', 4811), ('frisbeen', 4812), ('enters', 4813), ('amazement', 4814), ('acrouss', 4815), ('rigging', 4816), ('mast', 4817), ('canvasses', 4818), ('muscled', 4819), ('draws', 4820), ('feel', 4821), ('angled', 4822), ('lanyard', 4823), ('wharfs', 4824), ('terminal', 4825), ('streches', 4826), ('bracing', 4827), ('breeze', 4828), ('visitor', 4829), ('contestent', 4830), ('drug', 4831), ('bucked', 4832), ('togerther', 4833), ('quite', 4834), ('askance', 4835), ('rockets', 4836), ('jumpos', 4837), ('mutltiple', 4838), ('fielder', 4839), ('remember', 4840), ('1915', 4841), ('1923', 4842), ('related', 4843), ('heritage', 4844), ('astroturf', 4845), ('nd', 4846), ('breakdancer', 4847), ('texting', 4848), ('chalked', 4849), ('grid', 4850), ('curving', 4851), ('keffiyahs', 4852), ('bottomed', 4853), ('tigger', 4854), ('evade', 4855), ('tw', 4856), ('mocks', 4857), ('moms', 4858), ('caches', 4859), ('patrollers', 4860), ('minerature', 4861), ('supervising', 4862), ('arranged', 4863), ('respectively', 4864), ('swimmies', 4865), ('cements', 4866), ('bannister', 4867), ('conch', 4868), ('convienance', 4869), ('joint', 4870), ('slurpees', 4871), ('convienience', 4872), ('excercises', 4873), ('shored', 4874), ('regains', 4875), ('composure', 4876), ('loooking', 4877), ('dc', 4878), ('nubby', 4879), ('cylinder', 4880), ('content', 4881), ('surronded', 4882), ('threshold', 4883), ('struck', 4884), ('shin', 4885), ('purchased', 4886), ('cashier', 4887), ('checkout', 4888), ('calculate', 4889), ('volkswagen', 4890), ('admired', 4891), ('beetle', 4892), ('coupe', 4893), ('autos', 4894), ('south', 4895), ('kickboxer', 4896), ('kickbox', 4897), ('reared', 4898), ('rotating', 4899), ('cascades', 4900), ('poling', 4901), ('boatload', 4902), ('fear', 4903), ('parasailer', 4904), ('croc', 4905), ('healthy', 4906), ('joyfully', 4907), ('playstation', 4908), ('sandpit', 4909), ('sandcastles', 4910), ('cupcake', 4911), ('dribbled', 4912), ('piling', 4913), ('midstride', 4914), ('crooswalk', 4915), ('advertizing', 4916), ('pee', 4917), ('trained', 4918), ('braces', 4919), ('iceskate', 4920), ('lited', 4921), ('woooden', 4922), ('lilypads', 4923), ('lillypads', 4924), ('approachs', 4925), ('focusing', 4926), ('halfpipe', 4927), ('spoted', 4928), ('sheperds', 4929), ('stiars', 4930), ('lav', 4931), ('kelp', 4932), ('sightseers', 4933), ('scope', 4934), ('cellos', 4935), ('violins', 4936), ('orchestra', 4937), ('quintet', 4938), ('whizzes', 4939), ('dandilions', 4940), ('frustrated', 4941), ('frisbree', 4942), ('subdivsion', 4943), ('cylindrical', 4944), ('universal', 4945), ('behing', 4946), ('thows', 4947), ('transport', 4948), ('strawberries', 4949), ('potrait', 4950), ('informal', 4951), ('gi', 4952), ('ignores', 4953), ('masters', 4954), ('fend', 4955), ('soocerball', 4956), ('swordfighting', 4957), ('converging', 4958), ('raingear', 4959), ('apportioned', 4960), ('adjusts', 4961), ('again', 4962), ('twist', 4963), ('foraging', 4964), ('windsurfers', 4965), ('modeling', 4966), ('catwalk', 4967), ('photographic', 4968), ('crest', 4969), ('tin', 4970), ('conoe', 4971), ('tissue', 4972), ('exited', 4973), ('did', 4974), ('booklets', 4975), ('telescopes', 4976), ('officials', 4977), ('orthodox', 4978), ('engaging', 4979), ('excersise', 4980), ('superhero', 4981), ('xmen', 4982), ('poppies', 4983), ('someplace', 4984), ('distnat', 4985), ('level', 4986), ('sips', 4987), ('mardis', 4988), ('suggestively', 4989), ('tough', 4990), ('cheap', 4991), ('reentry', 4992), ('hippies', 4993), ('backbend', 4994), ('interacts', 4995), ('exchanges', 4996), ('fastens', 4997), ('fixes', 4998), ('vested', 4999), ('zooms', 5000), ('chihuahua', 5001), ('tak', 5002), ('picutre', 5003), ('ones', 5004), ('verdant', 5005), ('bustling', 5006), ('typical', 5007), ('treck', 5008), ('alien', 5009), ('attend', 5010), ('lakeside', 5011), ('fiddle', 5012), ('streetlights', 5013), ('ther', 5014), ('tim', 5015), ('hortons', 5016), ('otuside', 5017), ('judea', 5018), ('blame', 5019), ('hypocrites', 5020), ('againest', 5021), ('perfume', 5022), ('broen', 5023), ('concentration', 5024), ('snoring', 5025), ('shawled', 5026), ('muslim', 5027), ('angrily', 5028), ('fig', 5029), ('aerobatics', 5030), ('underneat', 5031), ('competitively', 5032), ('rollerblade', 5033), ('caramel', 5034), ('skimming', 5035), ('guitarists', 5036), ('trombone', 5037), ('development', 5038), ('intercept', 5039), ('cube', 5040), ('traveller', 5041), ('thread', 5042), ('spindle', 5043), ('thirds', 5044), ('primping', 5045), ('kakhi', 5046), ('spirit', 5047), ('pep', 5048), ('nations', 5049), ('cowgirls', 5050), ('uplifted', 5051), ('slaloms', 5052), ('bordered', 5053), ('gateway', 5054), ('crosswalks', 5055), ('policeperson', 5056), ('assault', 5057), ('rif', 5058), ('ding', 5059), ('nylon', 5060), ('voice', 5061), ('glassy', 5062), ('scull', 5063), ('sponsor', 5064), ('motorcycling', 5065), ('violinist', 5066), ('headress', 5067), ('skislope', 5068), ('spelling', 5069), ('comprised', 5070), ('newlywed', 5071), ('guests', 5072), ('contorted', 5073), ('enthusiasts', 5074), ('nothing', 5075), ('revealed', 5076), ('prints', 5077), ('factory', 5078), ('moutnain', 5079), ('implements', 5080), ('utilities', 5081), ('menacingly', 5082), ('grimmaces', 5083), ('dine', 5084), ('weeping', 5085), ('willow', 5086), ('pepper', 5087), ('queue', 5088), ('waitress', 5089), ('burka', 5090), ('vocabulary', 5091), ('blackboard', 5092), ('student', 5093), ('airtime', 5094), ('flighht', 5095), ('arrives', 5096), ('wishing', 5097), ('abdomen', 5098), ('midriff', 5099), ('shredded', 5100), ('caucasion', 5101), ('abs', 5102), ('unzipping', 5103), ('huddles', 5104), ('fingertips', 5105), ('egde', 5106), ('plungles', 5107), ('positioned', 5108), ('brighty', 5109), ('misspelled', 5110), ('fanning', 5111), ('beaks', 5112), ('scrap', 5113), ('cobblestones', 5114), ('average', 5115), ('everyday', 5116), ('tunic', 5117), ('demonstration', 5118), ('takeout', 5119), ('afican', 5120), ('izod', 5121), ('93', 5122), ('weiner', 5123), ('driftwood', 5124), ('democrat', 5125), ('supporters', 5126), ('election', 5127), ('chris', 5128), ('gregoire', 5129), ('palace', 5130), ('looling', 5131), ('guardsman', 5132), ('fourwheeler', 5133), ('turquiose', 5134), ('shawls', 5135), ('gauntlet', 5136), ('fitness', 5137), ('excercise', 5138), ('snowballs', 5139), ('glvoes', 5140), ('backflips', 5141), ('pepco', 5142), ('pecks', 5143), ('pecking', 5144), ('cavorting', 5145), ('pastures', 5146), ('pinestraw', 5147), ('popped', 5148), ('alcove', 5149), ('streght', 5150), ('amoung', 5151), ('maintained', 5152), ('stiped', 5153), ('drab', 5154), ('foreround', 5155), ('rodderick', 5156), ('roddick', 5157), ('extravagantly', 5158), ('stiffly', 5159), ('h', 5160), ('ledges', 5161), ('mysterious', 5162), ('wilbert', 5163), ('opportunity', 5164), ('hangong', 5165), ('coca', 5166), ('cola', 5167), ('cottage', 5168), ('rotary', 5169), ('dial', 5170), ('faux', 5171), ('closeby', 5172), ('strolling', 5173), ('squabble', 5174), ('canoers', 5175), ('moutain', 5176), ('disney', 5177), ('arabic', 5178), ('widely', 5179), ('hudge', 5180), ('populated', 5181), ('appearing', 5182), ('malnourished', 5183), ('oppsing', 5184), ('untangles', 5185), ('hsirt', 5186), ('losing', 5187), ('lecturing', 5188), ('clue', 5189), ('shute', 5190), ('debri', 5191), ('pub', 5192), ('removes', 5193), ('weimeraners', 5194), ('vegetable', 5195), ('fruits', 5196), ('venture', 5197), ('portfolio', 5198), ('cases', 5199), ('buries', 5200), ('burrows', 5201), ('bullet', 5202), ('swetashirts', 5203), ('forehand', 5204), ('catered', 5205), ('buffet', 5206), ('disrupt', 5207), ('disguise', 5208), ('supervision', 5209), ('cyclers', 5210), ('capture', 5211), ('tundra', 5212), ('snapshot', 5213), ('choreographed', 5214), ('jugs', 5215), ('origin', 5216), ('colecting', 5217), ('common', 5218), ('readies', 5219), ('vike', 5220), ('expose', 5221), ('corgie', 5222), ('wiffle', 5223), ('fronmt', 5224), ('caucasian', 5225), ('gemmed', 5226), ('obsured', 5227), ('sleve', 5228), ('graham', 5229), ('blossom', 5230), ('separated', 5231), ('grimaces', 5232), ('yet', 5233), ('zone', 5234), ('surounded', 5235), ('soar', 5236), ('bohemians', 5237), ('prance', 5238), ('nowhere', 5239), ('cigar', 5240), ('dashboard', 5241), ('twelve', 5242), ('diamond', 5243), ('curls', 5244), ('slouching', 5245), ('vacationing', 5246), ('od', 5247), ('gothically', 5248), ('cosplay', 5249), ('pilings', 5250), ('stumps', 5251), ('porcelain', 5252), ('folds', 5253), ('dimond', 5254), ('interestingly', 5255), ('cathedral', 5256), ('lamppost', 5257), ('jacketed', 5258), ('belted', 5259), ('cables', 5260), ('proudly', 5261), ('wrangle', 5262), ('skims', 5263), ('spokes', 5264), ('ruin', 5265), ('croquette', 5266), ('chainmail', 5267), ('codpiece', 5268), ('grenade', 5269), ('fluorescent', 5270), ('somone', 5271), ('solitude', 5272), ('aquos', 5273), ('index', 5274), ('warily', 5275), ('investigating', 5276), ('ractrack', 5277), ('shelton', 5278), ('waded', 5279), ('bruised', 5280), ('rental', 5281), ('bookcase', 5282), ('videos', 5283), ('muxzzled', 5284), ('riwal', 5285), ('eatery', 5286), ('playes', 5287), ('stringless', 5288), ('electricity', 5289), ('dane', 5290), ('childern', 5291), ('excitedly', 5292), ('dooorway', 5293), ('trolley', 5294), ('badly', 5295), ('overnight', 5296), ('thre', 5297), ('consulting', 5298), ('looker', 5299), ('spill', 5300), ('zipping', 5301), ('slips', 5302), ('word', 5303), ('antics', 5304), ('poof', 5305), ('woolen', 5306), ('dirtbikes', 5307), ('snowpile', 5308), ('hurridly', 5309), ('meandering', 5310), ('bluejean', 5311), ('chinatown', 5312), ('crowns', 5313), ('daschunds', 5314), ('picure', 5315), ('referring', 5316), ('periods', 5317), ('harpsichord', 5318), ('pianist', 5319), ('boe', 5320), ('walkng', 5321), ('palestinian', 5322), ('majestically', 5323), ('sunflower', 5324), ('dirtbike', 5325), ('endzone', 5326), ('launching', 5327), ('vaulter', 5328), ('cinderblock', 5329), ('brighly', 5330), ('sliiding', 5331), ('floaters', 5332), ('wipeout', 5333), ('painters', 5334), ('heroes', 5335), ('propeller', 5336), ('rakes', 5337), ('unfinished', 5338), ('ate', 5339), ('devotion', 5340), ('nfl', 5341), ('signage', 5342), ('blader', 5343), ('teeshirt', 5344), ('locker', 5345), ('slimy', 5346), ('blowup', 5347), ('onrushing', 5348), ('queens', 5349), ('formula', 5350), ('grouped', 5351), ('intervening', 5352), ('coverall', 5353), ('bandmates', 5354), ('associated', 5355), ('panes', 5356), ('disturbed', 5357), ('pastor', 5358), ('boogieboard', 5359), ('netting', 5360), ('throat', 5361), ('joking', 5362), ('illustrated', 5363), ('corrugated', 5364), ('casterol', 5365), ('branding', 5366), ('22', 5367), ('29', 5368), ('drap', 5369), ('dump', 5370), ('sleeding', 5371), ('statefarm', 5372), ('camps', 5373), ('facepaintings', 5374), ('x', 5375), ('fisheye', 5376), ('stirring', 5377), ('teamates', 5378), ('headless', 5379), ('onlooker', 5380), ('pavillion', 5381), ('basset', 5382), ('cultural', 5383), ('lecturer', 5384), ('30', 5385), ('acts', 5386), ('tattoed', 5387), ('gliders', 5388), ('enjoyable', 5389), ('agile', 5390), ('schoolchildren', 5391), ('manuals', 5392), ('backside', 5393), ('riverside', 5394), ('steamboat', 5395), ('riverboat', 5396), ('weathered', 5397), ('medatative', 5398), ('meditational', 5399), ('bigs', 5400), ('adobe', 5401), ('fitls', 5402), ('emerald', 5403), ('sweatband', 5404), ('burned', 5405), ('clump', 5406), ('activities', 5407), ('mucky', 5408), ('flaring', 5409), ('paisley', 5410), ('yuong', 5411), ('europe', 5412), ('domed', 5413), ('aligator', 5414), ('shares', 5415), ('dolls', 5416), ('write', 5417), ('fellows', 5418), ('toll', 5419), ('pipes', 5420), ('fluorecent', 5421), ('kill', 5422), ('weirmeiner', 5423), ('jumpinjg', 5424), ('stonesign', 5425), ('welcomes', 5426), ('welcome', 5427), ('proud', 5428), ('fetched', 5429), ('adventures', 5430), ('graffited', 5431), ('housekeeping', 5432), ('waitresses', 5433), ('footbride', 5434), ('currents', 5435), ('bigg', 5436), ('neither', 5437), ('metallic', 5438), ('rallies', 5439), ('lamb', 5440), ('skewed', 5441), ('sucker', 5442), ('fame', 5443), ('jailbird', 5444), ('fliers', 5445), ('fawkes', 5446), ('vans', 5447), ('funky', 5448), ('cemetery', 5449), ('buff', 5450), ('bulky', 5451), ('grip', 5452), ('rather', 5453), ('roading', 5454), ('beijing', 5455), ('chutes', 5456), ('whites', 5457), ('railling', 5458), ('knoll', 5459), ('overshirt', 5460), ('chrome', 5461), ('flown', 5462), ('doghouse', 5463), ('bedroll', 5464), ('slouched', 5465), ('withdrawing', 5466), ('brwon', 5467), ('bakery', 5468), ('shoulderbag', 5469), ('trotted', 5470), ('retangular', 5471), ('coconut', 5472), ('flotation', 5473), ('adorn', 5474), ('hdr', 5475), ('cathcer', 5476), ('bystander', 5477), ('weimaraner', 5478), ('fatigue', 5479), ('turbulent', 5480), ('loops', 5481), ('aerobatic', 5482), ('coiled', 5483), ('archways', 5484), ('arches', 5485), ('attrative', 5486), ('skimply', 5487), ('barbwire', 5488), ('cavort', 5489), ('contestant', 5490), ('dishtowel', 5491), ('pillowcase', 5492), ('cresting', 5493), ('exciting', 5494), ('flakes', 5495), ('mothers', 5496), ('inertia', 5497), ('pausing', 5498), ('incredible', 5499), ('hulk', 5500), ('even', 5501), ('mushroom', 5502), ('shaving', 5503), ('reflected', 5504), ('colt', 5505), ('convert', 5506), ('twenties', 5507), ('distored', 5508), ('flashlight', 5509), ('cruise', 5510), ('tatoos', 5511), ('linet', 5512), ('crime', 5513), ('oceanside', 5514), ('via', 5515), ('blooming', 5516), ('jumphouse', 5517), ('collapsing', 5518), ('hoodoos', 5519), ('explores', 5520), ('paraskier', 5521), ('paragliding', 5522), ('pouting', 5523), ('elbow', 5524), ('colorings', 5525), ('fisher', 5526), ('intensely', 5527), ('deeper', 5528), ('flexibility', 5529), ('joker', 5530), ('suprised', 5531), ('sloppy', 5532), ('sticker', 5533), ('flickr', 5534), ('dobbermen', 5535), ('chrismas', 5536), ('perfors', 5537), ('rust', 5538), ('seller', 5539), ('mad', 5540), ('strainer', 5541), ('terrior', 5542), ('figurine', 5543), ('hillock', 5544), ('powdery', 5545), ('swirls', 5546), ('addressing', 5547), ('diverse', 5548), ('add', 5549), ('recyclable', 5550), ('ourdoors', 5551), ('perfoms', 5552), ('overhangs', 5553), ('inscribed', 5554), ('redhead', 5555), ('sands', 5556), ('bog', 5557), ('binky', 5558), ('takedown', 5559), ('prestends', 5560), ('spotting', 5561), ('keeling', 5562), ('bathes', 5563), ('rapels', 5564), ('treetops', 5565), ('slanted', 5566), ('mountin', 5567), ('snowscapes', 5568), ('concentrating', 5569), ('swipes', 5570), ('blockers', 5571), ('cocked', 5572), ('advantage', 5573), ('pullovers', 5574), ('tbe', 5575), ('buddha', 5576), ('breezeway', 5577), ('greenpeace', 5578), ('barrow', 5579), ('replaced', 5580), ('obscuring', 5581), ('decked', 5582), ('razzling', 5583), ('broach', 5584), ('antiquated', 5585), ('pearl', 5586), ('emerge', 5587), ('snakeskin', 5588), ('alls', 5589), ('preoccupied', 5590), ('lawnchair', 5591), ('backstrokes', 5592), ('tones', 5593), ('13', 5594), ('craw', 5595), ('ceramic', 5596), ('joggers', 5597), ('streambed', 5598), ('drags', 5599), ('playgym', 5600), ('soggy', 5601), ('robust', 5602), ('bespectacled', 5603), ('disheveled', 5604), ('lavendar', 5605), ('notepad', 5606), ('soaks', 5607), ('fishemen', 5608), ('streetway', 5609), ('caring', 5610), ('kneeled', 5611), ('circled', 5612), ('outfir', 5613), ('pugs', 5614), ('snare', 5615), ('regularly', 5616), ('geishas', 5617), ('breaststroke', 5618), ('progressively', 5619), ('backround', 5620), ('born', 5621), ('razer', 5622), ('boods', 5623), ('sleep', 5624), ('patriotic', 5625), ('pursed', 5626), ('custom', 5627), ('allowed', 5628), ('steeple', 5629), ('bigwheels', 5630), ('concealed', 5631), ('mobility', 5632), ('citizen', 5633), ('acroos', 5634), ('carreis', 5635), ('client', 5636), ('perm', 5637), ('tear', 5638), ('foreign', 5639), ('ypoung', 5640), ('ependent', 5641), ('trumped', 5642), ('hunt', 5643), ('beckons', 5644), ('helments', 5645), ('forth', 5646), ('rangers', 5647), ('ranger', 5648), ('flexable', 5649), ('ballplayers', 5650), ('scans', 5651), ('offensive', 5652), ('notre', 5653), ('dame', 5654), ('persues', 5655), ('chute', 5656), ('organizing', 5657), ('cheerful', 5658), ('drumming', 5659), ('banging', 5660), ('pans', 5661), ('wields', 5662), ('lapel', 5663), ('leopard', 5664), ('convenience', 5665), ('slushies', 5666), ('paddlers', 5667), ('conifers', 5668), ('violently', 5669), ('chicago', 5670), ('actions', 5671), ('drills', 5672), ('pilar', 5673), ('enlarged', 5674), ('carpenters', 5675), ('samples', 5676), ('seafood', 5677), ('delivering', 5678), ('clever', 5679), ('parody', 5680), ('nodding', 5681), ('beanches', 5682), ('smoked', 5683), ('knelt', 5684), ('armoire', 5685), ('idyllic', 5686), ('flautist', 5687), ('neatly', 5688), ('woody', 5689), ('bowled', 5690), ('boating', 5691), ('finishes', 5692), ('anticipation', 5693), ('shortstop', 5694), ('lapse', 5695), ('bareback', 5696), ('focuses', 5697), ('la', 5698), ('quinta', 5699), ('anticipating', 5700), ('restrain', 5701), ('minding', 5702), ('kiyaking', 5703), ('gin', 5704), ('cornfield', 5705), ('slurps', 5706), ('targeting', 5707), ('shite', 5708), ('accompanies', 5709), ('maneuvering', 5710), ('mate', 5711), ('exhibt', 5712), ('sisters', 5713), ('hallways', 5714), ('stoppie', 5715), ('stange', 5716), ('eachothers', 5717), ('entry', 5718), ('domes', 5719), ('orbs', 5720), ('shirtness', 5721), ('batons', 5722), ('juggler', 5723), ('disabled', 5724), ('spills', 5725), ('nibbles', 5726), ('looming', 5727), ('seidwalk', 5728), ('discouraged', 5729), ('based', 5730), ('communications', 5731), ('touchline', 5732), ('visor', 5733), ('may', 5734), ('noticable', 5735), ('demonstrates', 5736), ('hauling', 5737), ('pumped', 5738), ('bended', 5739), ('strength', 5740), ('wounded', 5741), ('wounds', 5742), ('fleecy', 5743), ('piglet', 5744), ('responders', 5745), ('woamn', 5746), ('obscene', 5747), ('overshadowed', 5748), ('outlines', 5749), ('quarters', 5750), ('jumpsuites', 5751), ('delivery', 5752), ('easels', 5753), ('clipped', 5754), ('intot', 5755), ('zips', 5756), ('pebble', 5757), ('pebbles', 5758), ('motorbiker', 5759), ('sportwoman', 5760), ('sportman', 5761), ('demonstrate', 5762), ('verizon', 5763), ('standind', 5764), ('schools', 5765), ('siluettes', 5766), ('surveying', 5767), ('indigo', 5768), ('wipe', 5769), ('furocious', 5770), ('snowpacked', 5771), ('enforcment', 5772), ('gigantic', 5773), ('firework', 5774), ('litlle', 5775), ('jostles', 5776), ('perked', 5777), ('stiffing', 5778), ('meditating', 5779), ('antennae', 5780), ('snacks', 5781), ('aids', 5782), ('lazily', 5783), ('landform', 5784), ('biohazard', 5785), ('gurnee', 5786), ('awkward', 5787), ('brige', 5788), ('sprawling', 5789), ('snorkel', 5790), ('k2', 5791), ('crafted', 5792), ('equiment', 5793), ('rottweiller', 5794), ('squating', 5795), ('seek', 5796), ('entwined', 5797), ('gesticulates', 5798), ('wal', 5799), ('unifrom', 5800), ('vampires', 5801), ('vampire', 5802), ('goers', 5803), ('duel', 5804), ('alotment', 5805), ('thoroughly', 5806), ('saturated', 5807), ('noise', 5808), ('maker', 5809), ('noisemaker', 5810), ('popper', 5811), ('strawberry', 5812), ('flashes', 5813), ('vandalized', 5814), ('flirts', 5815), ('pleople', 5816), ('panasonic', 5817), ('downsteps', 5818), ('arbor', 5819), ('atrium', 5820), ('ability', 5821), ('fastened', 5822), ('element', 5823), ('sweeping', 5824), ('operate', 5825), ('boredom', 5826), ('imagery', 5827), ('crucifixion', 5828), ('christ', 5829), ('crucified', 5830), ('sponsors', 5831), ('piggybacking', 5832), ('maracas', 5833), ('hurricanes', 5834), ('naval', 5835), ('lookers', 5836), ('multistory', 5837), ('hamming', 5838), ('outcroping', 5839), ('jersay', 5840), ('boned', 5841), ('physiques', 5842), ('fro', 5843), ('allow', 5844), ('min', 5845), ('egyptian', 5846), ('egytian', 5847), ('kayer', 5848), ('taped', 5849), ('silky', 5850), ('telegraph', 5851), ('landfill', 5852), ('constructions', 5853), ('suite', 5854), ('footwork', 5855), ('atomic', 5856), ('tilts', 5857), ('indicating', 5858), ('footbridge', 5859), ('cheerfully', 5860), ('lonely', 5861), ('preservers', 5862), ('faithful', 5863), ('dense', 5864), ('zepra', 5865), ('spays', 5866), ('625', 5867), ('swishing', 5868), ('barettes', 5869), ('hairclips', 5870), ('edges', 5871), ('armstand', 5872), ('punts', 5873), ('kicker', 5874), ('lampost', 5875), ('stretchy', 5876), ('charm', 5877), ('clothesline', 5878), ('granny', 5879), ('panties', 5880), ('underpants', 5881), ('wrinkley', 5882), ('largley', 5883), ('vendors', 5884), ('organic', 5885), ('outise', 5886), ('grainy', 5887), ('colapsable', 5888), ('peeping', 5889), ('napping', 5890), ('heap', 5891), ('korean', 5892), ('aluminum', 5893), ('ques', 5894), ('underbrush', 5895), ('windowed', 5896), ('circles', 5897), ('embedded', 5898), ('hindu', 5899), ('citizens', 5900), ('dodging', 5901), ('cutoff', 5902), ('congratulate', 5903), ('discuss', 5904), ('waaves', 5905), ('silohuetted', 5906), ('civillians', 5907), ('busstop', 5908), ('settings', 5909), ('glassess', 5910), ('footprints', 5911), ('snowpants', 5912), ('tentatively', 5913), ('thrashed', 5914), ('scent', 5915), ('pamphlets', 5916), ('cause', 5917), ('vibrating', 5918), ('recline', 5919), ('coached', 5920), ('tho', 5921), ('vapour', 5922), ('shape', 5923), ('pedalling', 5924), ('rangler', 5925), ('khakis', 5926), ('mail', 5927), ('dips', 5928), ('brief', 5929), ('overhear', 5930), ('emerged', 5931), ('ruggers', 5932), ('trace', 5933), ('middleaged', 5934), ('suns', 5935), ('outlined', 5936), ('shorthaired', 5937), ('headlight', 5938), ('scarily', 5939), ('shag', 5940), ('helped', 5941), ('bridesmaid', 5942), ('highchair', 5943), ('jello', 5944), ('neclace', 5945), ('gontaga', 5946), ('videocameras', 5947), ('teacher', 5948), ('atmosphere', 5949), ('saucer', 5950), ('oout', 5951), ('proximity', 5952), ('interlocking', 5953), ('consumer', 5954), ('turnaround', 5955), ('entertaining', 5956), ('neckless', 5957), ('further', 5958), ('advances', 5959), ('gators', 5960), ('fleeces', 5961), ('peoplw', 5962), ('tulip', 5963), ('grss', 5964), ('squeak', 5965), ('relection', 5966), ('aross', 5967), ('adjustments', 5968), ('photograhi', 5969), ('ruined', 5970), ('swatting', 5971), ('palid', 5972), ('swallow', 5973), ('hoof', 5974), ('bronze', 5975), ('stomachs', 5976), ('extravagent', 5977), ('thw', 5978), ('passage', 5979), ('ascend', 5980), ('trudge', 5981), ('unpaved', 5982), ('handbags', 5983), ('helment', 5984), ('linked', 5985), ('attemping', 5986), ('venue', 5987), ('buggies', 5988), ('woolly', 5989), ('overcast', 5990), ('zaftig', 5991), ('freefall', 5992), ('coordinator', 5993), ('someones', 5994), ('bouncey', 5995), ('vacant', 5996), ('patched', 5997), ('re', 5998), ('biscuit', 5999), ('milkbone', 6000), ('ti', 6001), ('chi', 6002), ('areas', 6003), ('hanna', 6004), ('montana', 6005), ('prepared', 6006), ('frizzy', 6007), ('rung', 6008), ('sunlit', 6009), ('triangle', 6010), ('overfilled', 6011), ('shabby', 6012), ('butting', 6013), ('tawny', 6014), ('weave', 6015), ('fedora', 6016), ('youngle', 6017), ('swirling', 6018), ('bonnet', 6019), ('steady', 6020), ('lkievely', 6021), ('tinsel', 6022), ('smiled', 6023), ('cello', 6024), ('shrowded', 6025), ('expanding', 6026), ('tourquoise', 6027), ('perfom', 6028), ('rippled', 6029), ('littering', 6030), ('astonishment', 6031), ('confronts', 6032), ('demonstarting', 6033), ('outfitted', 6034), ('4x4', 6035), ('plantains', 6036), ('collides', 6037), ('stoplight', 6038), ('masses', 6039), ('impact', 6040), ('compact', 6041), ('feamle', 6042), ('lassos', 6043), ('witnesses', 6044), ('dealth', 6045), ('signpost', 6046), ('rappeling', 6047), ('athelete', 6048), ('pf', 6049), ('internet', 6050), ('leaguer', 6051), ('ohio', 6052), ('contemplates', 6053), ('dragons', 6054), ('year', 6055), ('slumped', 6056), ('dandylions', 6057), ('champ', 6058), ('rafael', 6059), ('weimaraners', 6060), ('forceful', 6061), ('dresswear', 6062), ('gaurd', 6063), ('grassland', 6064), ('grond', 6065), ('widows', 6066), ('contemplating', 6067), ('thought', 6068), ('peddled', 6069), ('youg', 6070), ('motley', 6071), ('divers', 6072), ('sweating', 6073), ('congregated', 6074), ('fancily', 6075), ('styled', 6076), ('matchin', 6077), ('grimacing', 6078), ('thousand', 6079), ('hundred', 6080), ('thirty', 6081), ('projector', 6082), ('jazz', 6083), ('saxaphones', 6084), ('loses', 6085), ('sailboarder', 6086), ('florist', 6087), ('formed', 6088), ('completed', 6089), ('childing', 6090), ('oh', 6091), ('guarded', 6092), ('labelled', 6093), ('overflowing', 6094), ('spoke', 6095), ('osme', 6096), ('meetinghall', 6097), ('blays', 6098), ('slighty', 6099), ('tilting', 6100), ('lifeboat', 6101), ('rushed', 6102), ('nestled', 6103), ('readying', 6104), ('clemson', 6105), ('quarry', 6106), ('dries', 6107), ('bobbed', 6108), ('97', 6109), ('sweatpants', 6110), ('powerlines', 6111), ('pats', 6112), ('saddled', 6113), ('hippie', 6114), ('toddles', 6115), ('hawaiin', 6116), ('freddy', 6117), ('krueger', 6118), ('widow', 6119), ('grownups', 6120), ('slush', 6121), ('drips', 6122), ('gaurdian', 6123), ('breaker', 6124), ('procession', 6125), ('conference', 6126), ('deserted', 6127), ('mermaid', 6128), ('fton', 6129), ('throughwindow', 6130), ('mexican', 6131), ('needlepoint', 6132), ('tending', 6133), ('abarrotes', 6134), ('narby', 6135), ('physical', 6136), ('contact', 6137), ('extinguishes', 6138), ('carjack', 6139), ('extinguish', 6140), ('mudfight', 6141), ('ash', 6142), ('messanger', 6143), ('wallride', 6144), ('sphere', 6145), ('rips', 6146), ('cleavage', 6147), ('tatoo', 6148), ('seperate', 6149), ('hump', 6150), ('bleached', 6151), ('pac', 6152), ('recoiling', 6153), ('philadelphia', 6154), ('phillie', 6155), ('contracption', 6156), ('hoses', 6157), ('goucho', 6158), ('moustaches', 6159), ('caged', 6160), ('belays', 6161), ('competeition', 6162), ('hairdo', 6163), ('enjoyment', 6164), ('flume', 6165), ('focused', 6166), ('encircling', 6167), ('symbol', 6168), ('counters', 6169), ('pizzeria', 6170), ('buzzes', 6171), ('goalies', 6172), ('ax', 6173), ('bunchh', 6174), ('bohemian', 6175), ('stacks', 6176), ('lilly', 6177), ('climing', 6178), ('hop', 6179), ('operators', 6180), ('gondoliers', 6181), ('venice', 6182), ('propel', 6183), ('experiences', 6184), ('excites', 6185), ('wizard', 6186), ('macintosh', 6187), ('crawl', 6188), ('rodent', 6189), ('defecating', 6190), ('pooping', 6191), ('provocative', 6192), ('multilple', 6193), ('crows', 6194), ('enough', 6195), ('80', 6196), ('adventurer', 6197), ('beckham', 6198), ('shook', 6199), ('oncoming', 6200), ('dominant', 6201), ('ashen', 6202), ('flats', 6203), ('mainly', 6204), ('rattan', 6205), ('rods', 6206), ('fed', 6207), ('whispering', 6208), ('baggy', 6209), ('ashy', 6210), ('impersonator', 6211), ('tongee', 6212), ('gith', 6213), ('dhe', 6214), ('rode', 6215), ('jogged', 6216), ('fiesty', 6217), ('foul', 6218), ('scowling', 6219), ('wooly', 6220), ('buggys', 6221), ('bunnies', 6222), ('rabbits', 6223), ('bangles', 6224), ('safron', 6225), ('surges', 6226), ('jaw', 6227), ('median', 6228), ('bumpers', 6229), ('seaside', 6230), ('torch', 6231), ('noce', 6232), ('pullup', 6233), ('sewn', 6234), ('emblazoned', 6235), ('pasts', 6236), ('belongs', 6237), ('staue', 6238), ('goofing', 6239), ('applauding', 6240), ('clapped', 6241), ('furiously', 6242), ('sparking', 6243), ('earmuffs', 6244), ('bland', 6245), ('exits', 6246), ('deposited', 6247), ('hoodies', 6248), ('doorstep', 6249), ('entertainers', 6250), ('swarmed', 6251), ('swarm', 6252), ('goggled', 6253), ('backing', 6254), ('fortess', 6255), ('payfully', 6256), ('sledders', 6257), ('bulldozer', 6258), ('exposure', 6259), ('reflects', 6260), ('screening', 6261), ('novel', 6262), ('wierd', 6263), ('paddock', 6264), ('mma', 6265), ('muscles', 6266), ('bolts', 6267), ('equpitment', 6268), ('equpiment', 6269), ('haystacks', 6270), ('retreived', 6271), ('htting', 6272), ('cubicle', 6273), ('crouch', 6274), ('windsurf', 6275), ('spacious', 6276), ('emty', 6277), ('romantically', 6278), ('romantic', 6279), ('underfoot', 6280), ('persue', 6281), ('anticipates', 6282), ('exterior', 6283), ('synch', 6284), ('filed', 6285), ('versus', 6286), ('fishers', 6287), ('apparantly', 6288), ('stockings', 6289), ('chunky', 6290), ('ripped', 6291), ('lounges', 6292), ('bting', 6293), ('reeling', 6294), ('ilks', 6295), ('ouside', 6296), ('longish', 6297), ('circus', 6298), ('levels', 6299), ('mullet', 6300), ('heights', 6301), ('bang', 6302), ('punkish', 6303), ('crudely', 6304), ('howls', 6305), ('dipping', 6306), ('brandishes', 6307), ('harly', 6308), ('davison', 6309), ('moter', 6310), ('yellowish', 6311), ('waterskiis', 6312), ('garmet', 6313), ('spiritual', 6314), ('landmark', 6315), ('positions', 6316), ('torii', 6317), ('indy', 6318), ('pits', 6319), ('lakefront', 6320), ('applebee', 6321), ('dave', 6322), ('buster', 6323), ('arriving', 6324), ('bandages', 6325), ('fishscales', 6326), ('anciet', 6327), ('shave', 6328), ('encouraged', 6329), ('banister', 6330), ('loan', 6331), ('75', 6332), ('powerful', 6333), ('awkwardly', 6334), ('guessing', 6335), ('verbal', 6336), ('exchange', 6337), ('perplexed', 6338), ('nussle', 6339), ('cushions', 6340), ('gorge', 6341), ('stockcar', 6342), ('become', 6343), ('seeing', 6344), ('elementary', 6345), ('protesting', 6346), ('raling', 6347), ('occured', 6348), ('engulf', 6349), ('mogul', 6350), ('vision', 6351), ('tells', 6352), ('secret', 6353), ('tobaggons', 6354), ('saucers', 6355), ('disks', 6356), ('fuchsia', 6357), ('emphatically', 6358), ('expressing', 6359), ('opinion', 6360), ('pleadingly', 6361), ('flocking', 6362), ('unspooled', 6363), ('infants', 6364), ('rottwieler', 6365), ('maids', 6366), ('lowering', 6367), ('teases', 6368), ('energetic', 6369), ('moniter', 6370), ('winters', 6371), ('panda', 6372), ('gotten', 6373), ('riverwater', 6374), ('inflating', 6375), ('skipped', 6376), ('busying', 6377), ('streetpole', 6378), ('schoolyard', 6379), ('classmates', 6380), ('creams', 6381), ('glowing', 6382), ('producing', 6383), ('scraping', 6384), ('lopes', 6385), ('redish', 6386), ('met', 6387), ('orders', 6388), ('resaurant', 6389), ('determination', 6390), ('footpath', 6391), ('coutryside', 6392), ('argues', 6393), ('simultaneously', 6394), ('decide', 6395), ('churning', 6396), ('res', 6397), ('iove', 6398), ('message', 6399), ('nuzzling', 6400), ('jubilant', 6401), ('entire', 6402), ('paneling', 6403), ('readied', 6404), ('remax', 6405), ('wetland', 6406), ('fronds', 6407), ('reson', 6408), ('notices', 6409), ('ducky', 6410), ('onesie', 6411), ('dreary', 6412), ('visiting', 6413), ('wuth', 6414), ('collapses', 6415), ('ll', 6416), ('bean', 6417), ('manuever', 6418), ('faint', 6419), ('hooked', 6420), ('terrorizes', 6421), ('sponges', 6422), ('diagram', 6423), ('anatomy', 6424), ('tell', 6425), ('fortune', 6426), ('negotiates', 6427), ('patroling', 6428), ('snarly', 6429), ('multicoloured', 6430), ('ls', 6431), ('nametags', 6432), ('gambling', 6433), ('gorup', 6434), ('ceremonial', 6435), ('tassel', 6436), ('stoic', 6437), ('stubbled', 6438), ('vigorous', 6439), ('bring', 6440), ('clasped', 6441), ('childrens', 6442), ('plan', 6443), ('anouther', 6444), ('diry', 6445), ('jars', 6446), ('hapy', 6447), ('attacks', 6448), ('passin', 6449), ('cork', 6450), ('burst', 6451), ('experimenter', 6452), ('breathes', 6453), ('obscures', 6454), ('discovers', 6455), ('otherwise', 6456), ('suggestive', 6457), ('picnickers', 6458), ('sunbathing', 6459), ('wedgie', 6460), ('warning', 6461), ('hackey', 6462), ('easily', 6463), ('passageway', 6464), ('packs', 6465), ('christmastime', 6466), ('strides', 6467), ('sill', 6468), ('vents', 6469), ('clowds', 6470), ('mold', 6471), ('backlegs', 6472), ('ot', 6473), ('turtle', 6474), ('unamused', 6475), ('arid', 6476), ('gingerbread', 6477), ('downpour', 6478), ('distressed', 6479), ('comforter', 6480), ('unner', 6481), ('collision', 6482), ('overturn', 6483), ('deciding', 6484), ('backgound', 6485), ('entertainer', 6486), ('curtsey', 6487), ('lagging', 6488), ('checker', 6489), ('stocky', 6490), ('husk', 6491), ('arizona', 6492), ('armchair', 6493), ('ladys', 6494), ('roiling', 6495), ('guiutarist', 6496), ('soapy', 6497), ('cleaned', 6498), ('kiddy', 6499), ('knotted', 6500), ('whild', 6501), ('occassion', 6502), ('showroom', 6503), ('coopers', 6504), ('daft', 6505), ('hoolahoops', 6506), ('viewfinder', 6507), ('goaltender', 6508), ('cautious', 6509), ('checkstand', 6510), ('aprons', 6511), ('coast', 6512), ('convention', 6513), ('glide', 6514), ('gelled', 6515), ('tying', 6516), ('wrist', 6517), ('confronting', 6518), ('tilling', 6519), ('thatch', 6520), ('portrate', 6521), ('showgirls', 6522), ('foyer', 6523), ('catc', 6524), ('recieve', 6525), ('cornstalks', 6526), ('roasted', 6527), ('astro', 6528), ('competes', 6529), ('elbows', 6530), ('muti', 6531), ('pigs', 6532), ('sewer', 6533), ('sum', 6534), ('competiting', 6535), ('competiton', 6536), ('seater', 6537), ('panelling', 6538), ('hardscape', 6539), ('objest', 6540), ('ways', 6541), ('strokes', 6542), ('cadet', 6543), ('properly', 6544), ('convoy', 6545), ('interrupts', 6546), ('goals', 6547), ('swirl', 6548), ('protector', 6549), ('grouchy', 6550), ('trekkies', 6551), ('draping', 6552), ('tucked', 6553), ('trundles', 6554), ('mechanisms', 6555), ('oppsite', 6556), ('arguing', 6557), ('eyese', 6558), ('tickled', 6559), ('pompoms', 6560), ('neckties', 6561), ('foil', 6562), ('east', 6563), ('ox', 6564), ('seedoo', 6565), ('takeing', 6566), ('chimes', 6567), ('vaults', 6568), ('cavern', 6569), ('bathed', 6570), ('goldfish', 6571), ('sheepdogs', 6572), ('mastif', 6573), ('seaguls', 6574), ('gren', 6575), ('somersaults', 6576), ('cartwheeling', 6577), ('depicts', 6578), ('litttle', 6579), ('toothpaste', 6580), ('handwritten', 6581), ('gentle', 6582), ('fairly', 6583), ('whie', 6584), ('sheltered', 6585), ('tablet', 6586), ('judgement', 6587), ('acrobat', 6588), ('entangles', 6589), ('dangles', 6590), ('collegiate', 6591), ('articles', 6592), ('cleared', 6593), ('beaten', 6594), ('headscarves', 6595), ('classical', 6596), ('slender', 6597), ('homerun', 6598), ('safe', 6599), ('fails', 6600), ('remaining', 6601), ('wants', 6602), ('last', 6603), ('quaint', 6604), ('teeing', 6605), ('virtual', 6606), ('projected', 6607), ('joined', 6608), ('social', 6609), ('partake', 6610), ('worm', 6611), ('curling', 6612), ('evident', 6613), ('magizine', 6614), ('pamphlet', 6615), ('ballerina', 6616), ('backstage', 6617), ('eyeshadow', 6618), ('vista', 6619), ('clifftop', 6620), ('crewmen', 6621), ('supervise', 6622), ('ships', 6623), ('bullfighting', 6624), ('matador', 6625), ('bullrider', 6626), ('17', 6627), ('peircings', 6628), ('fadora', 6629), ('mussels', 6630), ('broadly', 6631), ('classes', 6632), ('here', 6633), ('girlfriends', 6634), ('brow', 6635), ('forms', 6636), ('intricate', 6637), ('designs', 6638), ('butts', 6639), ('handlers', 6640), ('tonge', 6641), ('critter', 6642), ('pice', 6643), ('machinery', 6644), ('busk', 6645), ('react', 6646), ('speakers', 6647), ('midjump', 6648), ('colourfully', 6649), ('jewels', 6650), ('mouthing', 6651), ('basett', 6652), ('biscut', 6653), ('fiveteen', 6654), ('flatscreen', 6655), ('packaged', 6656), ('gifts', 6657), ('sang', 6658), ('doge', 6659), ('frisbie', 6660), ('uniquely', 6661), ('desserts', 6662), ('emits', 6663), ('flare', 6664), ('let', 6665), ('sweatshir', 6666), ('signature', 6667), ('document', 6668), ('signed', 6669), ('romps', 6670), ('hustle', 6671), ('multiracial', 6672), ('obscure', 6673), ('arc', 6674), ('karts', 6675), ('leotards', 6676), ('windsailing', 6677), ('less', 6678), ('developed', 6679), ('government', 6680), ('collarless', 6681), ('courthouse', 6682), ('windboarder', 6683), ('windboard', 6684), ('beg', 6685), ('composed', 6686), ('gauzey', 6687), ('giggling', 6688), ('bundle', 6689), ('twho', 6690), ('passifier', 6691), ('clergy', 6692), ('obese', 6693), ('heather', 6694), ('foldable', 6695), ('geological', 6696), ('jets', 6697), ('adoring', 6698), ('rustic', 6699), ('challenge', 6700), ('backseat', 6701), ('counry', 6702), ('solo', 6703), ('stubby', 6704), ('tale', 6705), ('pitted', 6706), ('outstreched', 6707), ('cavorts', 6708), ('egg', 6709), ('headresses', 6710), ('bridges', 6711), ('alertly', 6712), ('cradling', 6713), ('peolple', 6714), ('looms', 6715), ('pails', 6716), ('sitts', 6717), ('zig', 6718), ('zag', 6719), ('offf', 6720), ('apex', 6721), ('latte', 6722), ('layered', 6723), ('motioning', 6724), ('mcdonalds', 6725), ('mcdonald', 6726), ('monitoring', 6727), ('gradual', 6728), ('waterproof', 6729), ('claws', 6730), ('hoist', 6731), ('scrolled', 6732), ('patterns', 6733), ('bulging', 6734), ('apartments', 6735), ('roofs', 6736), ('powerwashing', 6737), ('outward', 6738), ('blitz', 6739), ('crocheted', 6740), ('pagent', 6741), ('attempted', 6742), ('conical', 6743), ('cannot', 6744), ('lightsaber', 6745), ('ont', 6746), ('drooping', 6747), ('lesson', 6748), ('accross', 6749), ('waterproofs', 6750), ('bundles', 6751), ('zombies', 6752), ('everybody', 6753), ('pinscher', 6754), ('squeamish', 6755), ('reacting', 6756), ('spurting', 6757), ('crushed', 6758), ('demolished', 6759), ('encripted', 6760), ('snaps', 6761), ('captures', 6762), ('cathing', 6763), ('entertains', 6764), ('wearhing', 6765), ('furred', 6766), ('paralell', 6767), ('medow', 6768), ('kildare', 6769), ('creeping', 6770), ('lifevest', 6771), ('bangs', 6772), ('browm', 6773), ('courts', 6774), ('hungry', 6775), ('weilding', 6776), ('gnome', 6777), ('coveralls', 6778), ('breaded', 6779), ('shimp', 6780), ('facefirst', 6781), ('skeptically', 6782), ('modifications', 6783), ('continues', 6784), ('temporary', 6785), ('donations', 6786), ('blindfold', 6787), ('mouthpiece', 6788), ('miniskirts', 6789), ('schoolgirl', 6790), ('schoolboy', 6791), ('production', 6792), ('walled', 6793), ('science', 6794), ('prefabricated', 6795), ('reds', 6796), ('yellows', 6797), ('additional', 6798), ('patrons', 6799), ('siren', 6800), ('sillhouetted', 6801), ('fribee', 6802), ('islamic', 6803), ('holy', 6804), ('tramples', 6805), ('trampled', 6806), ('whoa', 6807), ('hoofs', 6808), ('stumbling', 6809), ('piste', 6810), ('mandolin', 6811), ('plucking', 6812), ('chello', 6813), ('rebound', 6814), ('contained', 6815), ('tabloid', 6816), ('behinf', 6817), ('beack', 6818), ('ee', 6819), ('roundabout', 6820), ('charged', 6821), ('mishap', 6822), ('prarie', 6823), ('coyotes', 6824), ('dryed', 6825), ('nipples', 6826), ('peirced', 6827), ('aside', 6828), ('ipods', 6829), ('stacked', 6830), ('create', 6831), ('tapped', 6832), ('horseriders', 6833), ('rounded', 6834), ('hapily', 6835), ('unshaven', 6836), ('models', 6837), ('clustered', 6838), ('groomed', 6839), ('communal', 6840), ('darts', 6841), ('cafeteria', 6842), ('propelled', 6843), ('silverware', 6844), ('repair', 6845), ('doughnut', 6846), ('dimlight', 6847), ('total', 6848), ('reported', 6849), ('defying', 6850), ('gravity', 6851), ('redwood', 6852), ('sequoia', 6853), ('situated', 6854), ('chidl', 6855), ('latter', 6856), ('rasing', 6857), ('ornament', 6858), ('adornment', 6859), ('eyepatch', 6860), ('snowdrift', 6861), ('earnhardt', 6862), ('jewish', 6863), ('disgusted', 6864), ('everything', 6865), ('giong', 6866), ('excess', 6867), ('bartender', 6868), ('handcrank', 6869), ('marlins', 6870), ('mountaintops', 6871), ('identifier', 6872), ('retriving', 6873), ('surfboarding', 6874), ('produces', 6875), ('heating', 6876), ('dacshund', 6877), ('soles', 6878), ('jumpy', 6879), ('variety', 6880), ('folks', 6881), ('my', 6882), ('buddy', 6883), ('dizzy', 6884), ('breastfeeding', 6885), ('suckles', 6886), ('yacht', 6887), ('barge', 6888), ('spiking', 6889), ('buss', 6890), ('london', 6891), ('ferrett', 6892), ('scalling', 6893), ('anti', 6894), ('dont', 6895), ('me', 6896), ('bro', 6897), ('skidded', 6898), ('bandanas', 6899), ('cloths', 6900), ('sweashirt', 6901), ('torwards', 6902), ('spashes', 6903), ('yamaha', 6904), ('eagerly', 6905), ('key', 6906), ('hp', 6907), ('endorsement', 6908), ('antoher', 6909), ('recital', 6910), ('photography', 6911), ('metropolitain', 6912), ('protectors', 6913), ('hatchback', 6914), ('r', 6915), ('russel', 6916), ('urge', 6917), ('slippery', 6918), ('magnificant', 6919), ('ponytailed', 6920), ('jetskiing', 6921), ('footrace', 6922), ('nest', 6923), ('tatooed', 6924), ('celtics', 6925), ('huskey', 6926), ('pressing', 6927), ('stylish', 6928), ('signer', 6929), ('pressure', 6930), ('payer', 6931), ('jaket', 6932), ('confront', 6933), ('chaperone', 6934), ('kong', 6935), ('tomatos', 6936), ('groupe', 6937), ('smilely', 6938), ('watersports', 6939), ('seperated', 6940), ('scowls', 6941), ('ponchos', 6942), ('gallopsing', 6943), ('striding', 6944), ('pedigree', 6945), ('sparkling', 6946), ('aloft', 6947), ('cringes', 6948), ('oval', 6949), ('pane', 6950), ('barbeque', 6951), ('beaked', 6952), ('agains', 6953), ('colred', 6954), ('1950s', 6955), ('bones', 6956), ('beached', 6957), ('ladie', 6958), ('hte', 6959), ('garland', 6960), ('brazilian', 6961), ('lei', 6962), ('slipping', 6963), ('telephot', 6964), ('lenses', 6965), ('tripods', 6966), ('shorline', 6967), ('brought', 6968), ('pastel', 6969), ('pastels', 6970), ('retreiving', 6971), ('scratch', 6972), ('forelegs', 6973), ('sprinkles', 6974), ('sprinking', 6975), ('hoddie', 6976), ('swimcap', 6977), ('netted', 6978), ('amazed', 6979), ('scanner', 6980), ('paced', 6981), ('helplessly', 6982), ('coping', 6983), ('speedskater', 6984), ('fireside', 6985), ('jumpropes', 6986), ('pensive', 6987), ('containig', 6988), ('rainstorm', 6989), ('burns', 6990), ('outline', 6991), ('unified', 6992), ('expansive', 6993), ('dice', 6994), ('bodyless', 6995), ('turbaned', 6996), ('spokesmodels', 6997), ('hotrod', 6998), ('zebra', 6999), ('thermos', 7000), ('burnished', 7001), ('dealing', 7002), ('flanked', 7003), ('roping', 7004), ('force', 7005), ('padel', 7006), ('riverrafting', 7007), ('challange', 7008), ('adopted', 7009), ('veteran', 7010), ('load', 7011), ('waterhole', 7012), ('glacial', 7013), ('lilies', 7014), ('eluding', 7015), ('subaru', 7016), ('suspension', 7017), ('bicyler', 7018), ('parachutist', 7019), ('unfurled', 7020), ('fold', 7021), ('celebratory', 7022), ('streched', 7023), ('suburbs', 7024), ('pavilion', 7025), ('minnie', 7026), ('engraved', 7027), ('names', 7028), ('twisty', 7029), ('contemporary', 7030), ('corporate', 7031), ('accends', 7032), ('lifeguards', 7033), ('motorcross', 7034), ('savanah', 7035), ('tipped', 7036), ('miles', 7037), ('lakes', 7038), ('blog', 7039), ('collapsed', 7040), ('wisconsin', 7041), ('styrofoam', 7042), ('tanktops', 7043), ('shorter', 7044), ('cosplayers', 7045), ('actors', 7046), ('exhaust', 7047), ('inspect', 7048), ('wisks', 7049), ('mesa', 7050), ('outfut', 7051), ('guidewire', 7052), ('springer', 7053), ('gra', 7054), ('icey', 7055), ('hedge', 7056), ('stoney', 7057), ('gnarly', 7058), ('relatively', 7059), ('mosaic', 7060), ('belaying', 7061), ('propelling', 7062), ('steered', 7063), ('hatted', 7064), ('frown', 7065), ('celebrities', 7066), ('musicans', 7067), ('posh', 7068), ('nudges', 7069), ('stoll', 7070), ('shadowy', 7071), ('consoling', 7072), ('stack', 7073), ('witches', 7074), ('kangaroo', 7075), ('fastest', 7076), ('bikina', 7077), ('saroog', 7078), ('sarongs', 7079), ('mingling', 7080), ('coliding', 7081), ('swinsuit', 7082), ('armed', 7083), ('impress', 7084), ('paintball', 7085), ('splatter', 7086), ('splattered', 7087), ('graffti', 7088), ('twos', 7089), ('monkeys', 7090), ('springtime', 7091), ('rested', 7092), ('twenty', 7093), ('fourth', 7094), ('payphone', 7095), ('pay', 7096), ('coloful', 7097), ('holiday', 7098), ('tabs', 7099), ('taps', 7100), ('joyful', 7101), ('histerically', 7102), ('exercised', 7103), ('athletics', 7104), ('punt', 7105), ('county', 7106), ('herd', 7107), ('snorkeling', 7108), ('scubba', 7109), ('traveler', 7110), ('junction', 7111), ('windshield', 7112), ('pause', 7113), ('uptop', 7114), ('docking', 7115), ('explorer', 7116), ('starlet', 7117), ('hankerchief', 7118), ('pompadour', 7119), ('map', 7120), ('maps', 7121), ('directory', 7122), ('reviews', 7123), ('organized', 7124), ('burn', 7125), ('smoky', 7126), ('resembling', 7127), ('locomotives', 7128), ('lionist', 7129), ('cougar', 7130), ('masquerade', 7131), ('severe', 7132), ('dart', 7133), ('converge', 7134), ('choice', 7135), ('pencils', 7136), ('decorate', 7137), ('kickflip', 7138), ('hardly', 7139), ('canes', 7140), ('cacti', 7141), ('fiels', 7142), ('retrive', 7143), ('clibing', 7144), ('falcon', 7145), ('hawk', 7146), ('persian', 7147), ('gazed', 7148), ('wets', 7149), ('knocking', 7150), ('isolated', 7151), ('santas', 7152), ('gandhi', 7153), ('ghandi', 7154), ('skying', 7155), ('cubby', 7156), ('cheeked', 7157), ('aquatic', 7158), ('ashtray', 7159), ('dodge', 7160), ('decortive', 7161), ('expressway', 7162), ('donates', 7163), ('panhandler', 7164), ('handout', 7165), ('knuckle', 7166), ('tuft', 7167), ('pensively', 7168), ('thinks', 7169), ('bleak', 7170), ('bowing', 7171), ('locks', 7172), ('knight', 7173), ('holes', 7174), ('king', 7175), ('stork', 7176), ('stamds', 7177), ('pring', 7178), ('homebase', 7179), ('lacross', 7180), ('oppenents', 7181), ('snowshovel', 7182), ('layup', 7183), ('sillouhette', 7184), ('uncrowded', 7185), ('peacoat', 7186), ('laden', 7187), ('avoids', 7188), ('bodyboarder', 7189), ('holing', 7190), ('somehow', 7191), ('mic', 7192), ('question', 7193), ('swept', 7194), ('knocked', 7195), ('yong', 7196), ('gatorade', 7197), ('furious', 7198), ('explosive', 7199), ('effects', 7200), ('explosions', 7201), ('50', 7202), ('gust', 7203), ('flurry', 7204), ('laborador', 7205), ('coyote', 7206), ('walkways', 7207), ('spaced', 7208), ('maple', 7209), ('prepairing', 7210), ('coppery', 7211), ('squeezes', 7212), ('syrup', 7213), ('jacks', 7214), ('m', 7215), ('bushels', 7216), ('established', 7217), ('nightlife', 7218), ('fairgrounds', 7219), ('farris', 7220), ('features', 7221), ('potao', 7222), ('dupar', 7223), ('swear', 7224), ('floatlys', 7225), ('foliaged', 7226), ('roped', 7227), ('state', 7228), ('granite', 7229), ('blasted', 7230), ('grownup', 7231), ('underpass', 7232), ('peoples', 7233), ('bikins', 7234), ('wodden', 7235), ('baskers', 7236), (\"'slide\", 7237), ('poll', 7238), ('mushrooms', 7239), ('broad', 7240), ('skins', 7241), ('algae', 7242), ('petterned', 7243), ('billiards', 7244), ('cue', 7245), ('busines', 7246), ('closeout', 7247), ('underhang', 7248), ('enterance', 7249), ('fooling', 7250), ('lifesavers', 7251), ('creamy', 7252), ('substance', 7253), ('motorcrossing', 7254), ('157', 7255), ('professionally', 7256), ('vibrant', 7257), ('vat', 7258), ('discovery', 7259), ('playy', 7260), ('perforced', 7261), ('masonry', 7262), ('wispy', 7263), ('daylight', 7264), ('operated', 7265), ('smokestacks', 7266), ('hanglider', 7267), ('rectangle', 7268), ('tone', 7269), ('rackets', 7270), ('ou', 7271), ('manager', 7272), ('stages', 7273), ('landscaped', 7274), ('escorts', 7275), ('shetland', 7276), ('currently', 7277), ('summersault', 7278), ('meanders', 7279), ('canooers', 7280), (\"tikes'\", 7281), ('stared', 7282), ('measuring', 7283), ('rodents', 7284), ('stingray', 7285), ('swam', 7286), ('mittened', 7287), ('grating', 7288), ('drainpipe', 7289), ('grate', 7290), ('receiver', 7291), ('shading', 7292), ('protecting', 7293), ('search', 7294), ('entertain', 7295), ('paraphernalia', 7296), ('distribute', 7297), ('promting', 7298), ('seventh', 7299), ('cin', 7300), ('weating', 7301), ('cleats', 7302), ('serveral', 7303), ('congregation', 7304), ('worshipping', 7305), ('worshippers', 7306), ('waterbed', 7307), ('slingshot', 7308), ('fowl', 7309), ('pees', 7310), ('grand', 7311), ('caribbean', 7312), ('doo', 7313), ('seawall', 7314), ('churns', 7315), ('halway', 7316), ('du', 7317), ('casque', 7318), ('obligatoire', 7319), ('pinches', 7320), ('spangles', 7321), ('glee', 7322), ('25', 7323), ('surroundings', 7324), ('tophats', 7325), ('restroom', 7326), ('boatful', 7327), ('aquestrian', 7328), ('bordering', 7329), ('autumnal', 7330), ('bumble', 7331), ('assemble', 7332), ('agency', 7333), ('spouse', 7334), ('embroidered', 7335), ('chipmunk', 7336), ('ducking', 7337), ('treefilled', 7338), ('swarming', 7339), ('intended', 7340), ('mine', 7341), ('preserves', 7342), ('eyeing', 7343), ('passenager', 7344), ('forcing', 7345), ('smashed', 7346), ('cappedhills', 7347), ('win', 7348), ('kinds', 7349), ('softdrinks', 7350), (\"o'clock\", 7351), ('renaissance', 7352), ('spectating', 7353), ('whipping', 7354), ('dripping', 7355), ('cigerette', 7356), ('graffitti', 7357), ('surfaces', 7358), ('stroke', 7359), ('fantastic', 7360), ('marvel', 7361), ('bookshelves', 7362), ('fantasy', 7363), ('wax', 7364), ('foggyday', 7365), ('prow', 7366), ('pots', 7367), ('waing', 7368), ('antelope', 7369), ('wildebeast', 7370), ('trips', 7371), ('strand', 7372), ('strung', 7373), ('blasts', 7374), ('sending', 7375), ('poncho', 7376), ('balconies', 7377), ('condominium', 7378), ('awaits', 7379), ('attampts', 7380), ('inflatbale', 7381), ('seeking', 7382), ('humorous', 7383), ('rim', 7384), ('steap', 7385), ('farward', 7386), ('ever', 7387), ('since', 7388), ('started', 7389), ('pinball', 7390), ('usual', 7391), ('cheeseburger', 7392), ('happen', 7393), ('outfield', 7394), ('towing', 7395), ('samoyads', 7396), ('waterspout', 7397), ('untouched', 7398), ('fireplug', 7399), ('thinner', 7400), ('shredding', 7401), ('headcover', 7402), ('ensemble', 7403), ('utility', 7404), ('hosed', 7405), ('kilts', 7406), ('lame', 7407), ('cuddling', 7408), ('cower', 7409), ('brownstone', 7410), ('sheilding', 7411), ('berets', 7412), ('waterspouts', 7413), ('bubbling', 7414), ('comforts', 7415), ('treed', 7416), ('challenges', 7417), ('sunhat', 7418), ('unoccupied', 7419), ('santana', 7420), ('57', 7421), ('bras', 7422), ('uggs', 7423), ('locked', 7424), ('sponsorship', 7425), ('emblems', 7426), ('rights', 7427), ('wrestilng', 7428), ('rowed', 7429), ('circumvents', 7430), ('skii', 7431), ('steamy', 7432), ('rapid', 7433), ('kayacker', 7434), ('downstream', 7435), ('squated', 7436), ('am', 7437), ('ghost', 7438), ('busters', 7439), ('ghostbuster', 7440), ('impersonators', 7441), ('perused', 7442), ('herbs', 7443), ('racks', 7444), ('midpitch', 7445), ('profession', 7446), ('diferent', 7447), ('foreheads', 7448), ('advertisment', 7449), ('magic', 7450), ('magicians', 7451), ('magician', 7452), ('backstand', 7453), ('introduces', 7454), ('invention', 7455), ('attaches', 7456), ('tends', 7457), ('lingers', 7458), ('seabird', 7459), ('skyscrapers', 7460), ('changing', 7461), ('remove', 7462), ('replaces', 7463), ('flees', 7464), ('enforcement', 7465), ('agents', 7466), ('shaky', 7467), ('slat', 7468), ('driftrood', 7469), ('battons', 7470), ('twome', 7471), ('sync', 7472), ('practising', 7473), ('jersy', 7474), ('drumset', 7475), ('shreds', 7476), ('crustacean', 7477), ('halmets', 7478), ('kaki', 7479), ('shews', 7480), ('jewlery', 7481), ('braided', 7482), ('escalators', 7483), ('expressionless', 7484), ('responding', 7485), ('sunning', 7486), ('elf', 7487), ('orangish', 7488), ('boas', 7489), ('manequins', 7490), ('unpainted', 7491), ('jomps', 7492), ('lunches', 7493), ('compound', 7494), ('tumbles', 7495), ('wrecked', 7496), ('661', 7497), ('wrecks', 7498), ('tightropes', 7499), ('frayed', 7500), ('pawed', 7501), ('personal', 7502), ('womand', 7503), ('twp', 7504), ('ciff', 7505), ('excersizing', 7506), ('fleeing', 7507), ('prison', 7508), ('zippered', 7509), ('navel', 7510), ('cuddle', 7511), ('squad', 7512), ('then', 7513), ('rollskating', 7514), ('easy', 7515), ('aided', 7516), ('midfield', 7517), ('lightly', 7518), ('possibly', 7519), ('fishermen', 7520), ('orangesunset', 7521), ('closer', 7522), ('annoyed', 7523), ('exercising', 7524), ('mortar', 7525), ('destination', 7526), ('lifevests', 7527), ('reveals', 7528), ('waterpark', 7529), ('caterpillar', 7530), ('burbur', 7531), ('detector', 7532), ('chief', 7533), ('justice', 7534), ('kneepads', 7535), ('gushing', 7536), ('allowing', 7537), ('planting', 7538), ('diplomas', 7539), ('tye', 7540), ('programs', 7541), ('bums', 7542), ('mission', 7543), ('stacking', 7544), ('dingo', 7545), ('fox', 7546), ('rustric', 7547), ('crotch', 7548), ('burgers', 7549), ('mono', 7550), ('stucco', 7551), ('gutarist', 7552), ('upfront', 7553), ('b', 7554), ('fins', 7555), ('beauty', 7556), ('smiff', 7557), ('behinds', 7558), ('brickwall', 7559), ('juming', 7560), ('numeral', 7561), ('swordsman', 7562), ('wanders', 7563), ('flattened', 7564), ('nech', 7565), ('planter', 7566), ('ion', 7567), ('garment', 7568), ('braiding', 7569), ('types', 7570), ('coral', 7571), ('ca', 7572), ('zchtv', 7573), ('footage', 7574), ('protected', 7575), ('fending', 7576), ('representing', 7577), ('beaver', 7578), ('goldenrod', 7579), ('handstands', 7580), ('automobile', 7581), ('gains', 7582), ('hers', 7583), ('milkweed', 7584), ('pods', 7585), ('litle', 7586), ('bead', 7587), ('cruiser', 7588), ('earphone', 7589), ('bluetooth', 7590), ('showered', 7591), ('screened', 7592), ('roofed', 7593), ('straggle', 7594), ('poorly', 7595), ('tupperware', 7596), ('opened', 7597), ('hobby', 7598), ('42', 7599), ('browsing', 7600), ('snowflake', 7601), ('chasseing', 7602), ('dons', 7603), ('accent', 7604), ('worked', 7605), ('tailed', 7606), ('comfortable', 7607), ('buttoned', 7608), ('rivers', 7609), ('rags', 7610), ('district', 7611), ('backgrounds', 7612), ('hairnet', 7613), ('tiretracks', 7614), ('tumble', 7615), ('goth', 7616), ('rates', 7617), ('excavating', 7618), ('scientist', 7619), ('artifacts', 7620), ('paleontologist', 7621), ('archeologist', 7622), ('soaker', 7623), ('dear', 7624), ('doe', 7625), ('oak', 7626), ('fronr', 7627), ('crampons', 7628), ('scale', 7629), ('overtop', 7630), ('angerly', 7631), ('glowers', 7632), ('touts', 7633), ('filming', 7634), ('playroom', 7635), ('roots', 7636), ('fundraising', 7637), ('tripped', 7638), ('hooding', 7639), ('matt', 7640), ('valleys', 7641), ('stereo', 7642), ('trams', 7643), ('contestants', 7644), ('erupts', 7645), ('firecracker', 7646), ('footballs', 7647), ('breakdances', 7648), ('seahorse', 7649), ('gettnig', 7650), ('clasp', 7651), ('hovered', 7652), ('ripstik', 7653), ('sidewalks', 7654), ('joust', 7655), ('horsemen', 7656), ('tier', 7657), ('submissive', 7658), ('girt', 7659), ('advertisements', 7660), ('solicits', 7661), ('stunning', 7662), ('stirred', 7663), ('attentively', 7664), ('snowbanks', 7665), ('global', 7666), ('perfomed', 7667), ('guides', 7668), ('waterboard', 7669), ('shark', 7670), ('seed', 7671), ('protruding', 7672), ('awe', 7673), ('bicylist', 7674), ('dimpled', 7675), ('ignore', 7676), ('dreeds', 7677), ('winces', 7678), ('wearubg', 7679), ('angry', 7680), ('spelunker', 7681), ('parachuter', 7682), ('tread', 7683), ('dupont', 7684), ('wagging', 7685), ('fixtures', 7686), ('dirtbed', 7687), ('aboriginal', 7688), ('chiseling', 7689), ('hacking', 7690), ('motors', 7691), ('secluded', 7692), ('shorthair', 7693), ('vaste', 7694), ('upstream', 7695), ('liking', 7696), ('nip', 7697), ('cds', 7698), ('include', 7699), ('blank', 7700), ('armful', 7701), ('windbreaker', 7702), ('mike', 7703), ('paraglide', 7704), ('visits', 7705), ('sect', 7706), ('plling', 7707), ('mattress', 7708), ('downriver', 7709), ('mommy', 7710), ('wii', 7711), ('dge', 7712), ('foreigners', 7713), ('lace', 7714), ('moutainside', 7715), ('anchored', 7716), ('lanterns', 7717), ('mature', 7718), ('competitors', 7719), ('bash', 7720), ('sushi', 7721), ('headwear', 7722), ('rellow', 7723), ('direct', 7724), ('flaggers', 7725), ('wavy', 7726), ('accelerates', 7727), ('dragster', 7728), ('speedway', 7729), ('spewing', 7730), ('mole', 7731), ('em', 7732), ('whacking', 7733), ('aliens', 7734), ('cautiously', 7735), ('sure', 7736), ('unfurling', 7737), ('acoustic', 7738), ('accompanying', 7739), ('bursting', 7740), ('greenbay', 7741), ('packer', 7742), ('packers', 7743), ('swinger', 7744), ('tge', 7745), ('thank', 7746), ('angel', 7747), ('waling', 7748), ('repel', 7749), ('milling', 7750), ('snowploe', 7751), ('plows', 7752), ('manually', 7753), ('id', 7754), ('burnt', 7755), ('cine', 7756), ('rosy', 7757), ('nat', 7758), ('sifting', 7759), ('barrior', 7760), ('flares', 7761), ('walkman', 7762), ('powerboats', 7763), ('aboard', 7764), ('armor', 7765), ('drove', 7766), ('motorists', 7767), ('oddly', 7768), ('11', 7769), ('atheletes', 7770), ('waterline', 7771), ('risen', 7772), ('strains', 7773), ('yougn', 7774), ('tucking', 7775), ('troll', 7776), ('thie', 7777), ('griding', 7778), ('mannequin', 7779), ('fiving', 7780), ('enthusiastic', 7781), ('wanting', 7782), ('dressing', 7783), ('jaywalk', 7784), ('taxis', 7785), ('snowsuits', 7786), ('smacker', 7787), ('vase', 7788), ('mistletoe', 7789), ('skiny', 7790), ('objective', 7791), ('saffron', 7792), ('solid', 7793), ('sculptures', 7794), ('coasts', 7795), ('noy', 7796), ('cocker', 7797), ('spaniels', 7798), ('creepy', 7799), ('youths', 7800), ('feathery', 7801), ('defaced', 7802), ('promotional', 7803), ('fumble', 7804), ('aggresively', 7805), ('defender', 7806), ('wmoan', 7807), ('maintain', 7808), ('fingerhold', 7809), ('nordic', 7810), ('thrust', 7811), ('campflauge', 7812), ('cami', 7813), ('ant', 7814), ('brawl', 7815), ('grotto', 7816), ('interior', 7817), ('puzzled', 7818), ('entertainment', 7819), ('texts', 7820), ('megaphone', 7821), ('handkerchiefs', 7822), ('adolescents', 7823), ('sales', 7824), ('merchant', 7825), ('movers', 7826), ('passers', 7827), ('pulleys', 7828), ('circling', 7829), ('harvest', 7830), ('brave', 7831), ('saver', 7832), ('hods', 7833), ('judo', 7834), ('shepherds', 7835), ('momma', 7836), ('loading', 7837), ('dumpsters', 7838), ('sick', 7839), ('divind', 7840), ('iceburg', 7841), ('ump', 7842), ('pockets', 7843), ('unsual', 7844), ('lemons', 7845), ('press', 7846), ('squeezed', 7847), ('tufts', 7848), ('uneven', 7849), ('withered', 7850), ('confronted', 7851), ('opposition', 7852), ('advance', 7853), ('would', 7854), ('mansion', 7855), ('euro', 7856), ('plats', 7857), ('chestnut', 7858), ('pace', 7859), ('gallop', 7860), ('proped', 7861), ('flyaway', 7862), ('fluid', 7863), ('backsides', 7864), ('faith', 7865), ('manmade', 7866), ('bullseye', 7867), ('archer', 7868), ('trows', 7869), ('10', 7870), ('ups', 7871), ('operates', 7872), ('equipments', 7873), ('pincer', 7874), ('sprawls', 7875), ('preparation', 7876), ('propels', 7877), ('moutains', 7878), ('ferris', 7879), ('redskins', 7880), ('scare', 7881), ('glares', 7882), ('docks', 7883), ('oiled', 7884), ('suntan', 7885), ('lotion', 7886), ('suntanning', 7887), ('honest', 7888), ('poems', 7889), ('desperate', 7890), ('creative', 7891), ('garner', 7892), ('profusely', 7893), ('gleefully', 7894), ('scarred', 7895), ('playtoy', 7896), ('dobermans', 7897), ('font', 7898), ('scattered', 7899), ('lost', 7900), ('crosslegged', 7901), ('ropey', 7902), ('crag', 7903), ('partition', 7904), ('railgrind', 7905), ('handrails', 7906), ('spare', 7907), ('tried', 7908), ('longeared', 7909), ('posign', 7910), ('loaves', 7911), ('villages', 7912), ('scored', 7913), ('snowfall', 7914), ('companions', 7915), ('drak', 7916), ('bomber', 7917), ('earflaps', 7918), ('sombody', 7919), ('carpeting', 7920), ('peddal', 7921), ('national', 7922), ('anthem', 7923), ('dirtracing', 7924), ('grandmother', 7925), ('placemats', 7926), ('tankini', 7927)])\n"
     ]
    }
   ],
   "source": []
  },
  {
   "cell_type": "markdown",
   "metadata": {},
   "source": [
    "# Generate Description"
   ]
  },
  {
   "cell_type": "code",
   "execution_count": 118,
   "metadata": {},
   "outputs": [],
   "source": [
    "def word_for_id(integer,tokenizer):\n",
    "    for word,index in tokenizer.word_index.items():\n",
    "        if index == integer:\n",
    "            return word\n",
    "    \n",
    "    return None\n"
   ]
  },
  {
   "cell_type": "code",
   "execution_count": 120,
   "metadata": {},
   "outputs": [],
   "source": [
    "def generation_desc(model,photo,tokenizer,max_len):\n",
    "    in_text = 'ssss'    \n",
    "    for i in range(0,max_len):  \n",
    "        tokenizer.fit_on_texts(in_text)\n",
    "        sequence = tokenizer.texts_to_sequences([in_text])[0]\n",
    "        seq_pad = pad_sequences([sequence],maxlen=max_len)\n",
    "        y_hat=model2.predict([np.array(photo),np.array(seq_pad)])\n",
    "        #count the ocurrence of word in the ouput list of list\n",
    "        y_hat = np.argmax(y_hat)\n",
    "        \n",
    "        word = word_for_id(y_hat,tokenizer)\n",
    "        \n",
    "        if word == None :\n",
    "            break\n",
    "            \n",
    "        in_text +=' '+word\n",
    "        if word == 'eeee':\n",
    "            break\n",
    "    return in_text        \n"
   ]
  },
  {
   "cell_type": "markdown",
   "metadata": {},
   "source": [
    "# Evaluate Model"
   ]
  },
  {
   "cell_type": "code",
   "execution_count": 121,
   "metadata": {
    "scrolled": false
   },
   "outputs": [
    {
     "name": "stderr",
     "output_type": "stream",
     "text": [
      "/usr/local/lib/python3.6/dist-packages/nltk/translate/bleu_score.py:490: UserWarning: \n",
      "Corpus/Sentence contains 0 counts of 3-gram overlaps.\n",
      "BLEU scores might be undesirable; use SmoothingFunction().\n",
      "  warnings.warn(_msg)\n"
     ]
    },
    {
     "name": "stdout",
     "output_type": "stream",
     "text": [
      "BLEU-1: 0.135954\n",
      "BLEU-2: 0.033037\n",
      "BLEU-3: 0.128764\n",
      "BLEU-4: 0.180921\n"
     ]
    }
   ],
   "source": [
    "def evaluate(model,descsTest,photoFeature,tokenizer,max_len):\n",
    "    yHat,yActual = [],[]\n",
    "    for key,desc_List in descsTest.items():\n",
    "        y_hat = generation_desc(model\n",
    "                                ,photoFeature[key],\n",
    "                                tokenizer,max_len)\n",
    "        \n",
    "        yHat.append(y_hat.split())\n",
    "     \n",
    "        theOriginal = [d.split() for d in desc_List]\n",
    "        yActual.append(theOriginal)\n",
    "    print('BLEU-1: %f' % corpus_bleu(yActual, yHat, weights=(1.0, 0, 0, 0)))\n",
    "    print('BLEU-2: %f' % corpus_bleu(yActual, yHat, weights=(0.5, 0.5, 0, 0)))\n",
    "    print('BLEU-3: %f' % corpus_bleu(yActual, yHat, weights=(0.3, 0.3, 0.3, 0)))\n",
    "    print('BLEU-4: %f' % corpus_bleu(yActual, yHat, weights=(0.25, 0.25, 0.25, 0.25)))\n",
    "evaluate(model2,dicDescTest,dicFeatureTest,tokenizer,12)"
   ]
  },
  {
   "cell_type": "code",
   "execution_count": null,
   "metadata": {},
   "outputs": [],
   "source": [
    "\n"
   ]
  },
  {
   "cell_type": "code",
   "execution_count": null,
   "metadata": {},
   "outputs": [],
   "source": [
    "#s=np.array(seq)\n",
    "#i=np.array(img)\n",
    "#o=np.array(out)\n",
    "#data=np.array([[s,i],o])"
   ]
  },
  {
   "cell_type": "code",
   "execution_count": null,
   "metadata": {},
   "outputs": [],
   "source": [
    "#o.shape"
   ]
  },
  {
   "cell_type": "code",
   "execution_count": null,
   "metadata": {
    "scrolled": true
   },
   "outputs": [],
   "source": [
    "pad_sequences(['2'],maxlen=max_length)[0] "
   ]
  },
  {
   "cell_type": "code",
   "execution_count": null,
   "metadata": {},
   "outputs": [],
   "source": []
  }
 ],
 "metadata": {
  "kernelspec": {
   "display_name": "Python 3",
   "language": "python",
   "name": "python3"
  },
  "language_info": {
   "codemirror_mode": {
    "name": "ipython",
    "version": 3
   },
   "file_extension": ".py",
   "mimetype": "text/x-python",
   "name": "python",
   "nbconvert_exporter": "python",
   "pygments_lexer": "ipython3",
   "version": "3.6.5"
  },
  "widgets": {
   "application/vnd.jupyter.widget-state+json": {
    "state": {},
    "version_major": 2,
    "version_minor": 0
   }
  }
 },
 "nbformat": 4,
 "nbformat_minor": 2
}
